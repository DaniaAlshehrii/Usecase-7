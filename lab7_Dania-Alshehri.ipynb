{
 "cells": [
  {
   "cell_type": "code",
   "execution_count": 308,
   "id": "e69c4ba1-85f3-4a02-ae37-c64347a01803",
   "metadata": {},
   "outputs": [],
   "source": [
    "#Import all relevant libraries\n",
    "import numpy as np\n",
    "import pandas as pd\n",
    "import matplotlib.pyplot as plt\n",
    "import seaborn as sns\n",
    "from scipy.stats import zscore\n",
    "from ydata_profiling import ProfileReport\n",
    "import sweetviz as sv\n",
    "import plotly.express as px\n",
    "\n",
    "\n",
    "from sklearn.model_selection import train_test_split\n",
    "from sklearn.metrics import mean_squared_error, r2_score, mean_absolute_error\n",
    "from sklearn.preprocessing import StandardScaler\n",
    "from sklearn.linear_model import LinearRegression\n",
    "from sklearn import metrics\n",
    " \n",
    "## This statement allows the visuals to render within your Jupyter Notebook.\n",
    "%matplotlib inline"
   ]
  },
  {
   "cell_type": "markdown",
   "id": "e395e8bf-b530-4720-8d0f-26811e927d6e",
   "metadata": {},
   "source": [
    "## Loading the data\n",
    "We can now load the dataset into pandas using the read_csv() function. This converts the CSV file into a Pandas dataframe."
   ]
  },
  {
   "cell_type": "code",
   "execution_count": 207,
   "id": "cf4030b0-aa7f-4bd7-8e9c-c1b7f4d202d0",
   "metadata": {},
   "outputs": [
    {
     "data": {
      "text/html": [
       "<div>\n",
       "<style scoped>\n",
       "    .dataframe tbody tr th:only-of-type {\n",
       "        vertical-align: middle;\n",
       "    }\n",
       "\n",
       "    .dataframe tbody tr th {\n",
       "        vertical-align: top;\n",
       "    }\n",
       "\n",
       "    .dataframe thead th {\n",
       "        text-align: right;\n",
       "    }\n",
       "</style>\n",
       "<table border=\"1\" class=\"dataframe\">\n",
       "  <thead>\n",
       "    <tr style=\"text-align: right;\">\n",
       "      <th></th>\n",
       "      <th>player</th>\n",
       "      <th>team</th>\n",
       "      <th>name</th>\n",
       "      <th>position</th>\n",
       "      <th>height</th>\n",
       "      <th>age</th>\n",
       "      <th>appearance</th>\n",
       "      <th>goals</th>\n",
       "      <th>assists</th>\n",
       "      <th>yellow cards</th>\n",
       "      <th>...</th>\n",
       "      <th>goals conceded</th>\n",
       "      <th>clean sheets</th>\n",
       "      <th>minutes played</th>\n",
       "      <th>days_injured</th>\n",
       "      <th>games_injured</th>\n",
       "      <th>award</th>\n",
       "      <th>current_value</th>\n",
       "      <th>highest_value</th>\n",
       "      <th>position_encoded</th>\n",
       "      <th>winger</th>\n",
       "    </tr>\n",
       "  </thead>\n",
       "  <tbody>\n",
       "    <tr>\n",
       "      <th>0</th>\n",
       "      <td>/david-de-gea/profil/spieler/59377</td>\n",
       "      <td>Manchester United</td>\n",
       "      <td>David de Gea</td>\n",
       "      <td>Goalkeeper</td>\n",
       "      <td>189.0</td>\n",
       "      <td>32.0</td>\n",
       "      <td>104</td>\n",
       "      <td>0.000000</td>\n",
       "      <td>0.000000</td>\n",
       "      <td>0.009585</td>\n",
       "      <td>...</td>\n",
       "      <td>1.217252</td>\n",
       "      <td>0.335463</td>\n",
       "      <td>9390</td>\n",
       "      <td>42</td>\n",
       "      <td>5</td>\n",
       "      <td>13</td>\n",
       "      <td>15000000</td>\n",
       "      <td>70000000</td>\n",
       "      <td>1</td>\n",
       "      <td>0</td>\n",
       "    </tr>\n",
       "    <tr>\n",
       "      <th>1</th>\n",
       "      <td>/jack-butland/profil/spieler/128899</td>\n",
       "      <td>Manchester United</td>\n",
       "      <td>Jack Butland</td>\n",
       "      <td>Goalkeeper</td>\n",
       "      <td>196.0</td>\n",
       "      <td>30.0</td>\n",
       "      <td>15</td>\n",
       "      <td>0.000000</td>\n",
       "      <td>0.000000</td>\n",
       "      <td>0.069018</td>\n",
       "      <td>...</td>\n",
       "      <td>1.242331</td>\n",
       "      <td>0.207055</td>\n",
       "      <td>1304</td>\n",
       "      <td>510</td>\n",
       "      <td>58</td>\n",
       "      <td>1</td>\n",
       "      <td>1500000</td>\n",
       "      <td>22000000</td>\n",
       "      <td>1</td>\n",
       "      <td>0</td>\n",
       "    </tr>\n",
       "    <tr>\n",
       "      <th>2</th>\n",
       "      <td>/tom-heaton/profil/spieler/34130</td>\n",
       "      <td>Manchester United</td>\n",
       "      <td>Tom Heaton</td>\n",
       "      <td>Goalkeeper</td>\n",
       "      <td>188.0</td>\n",
       "      <td>37.0</td>\n",
       "      <td>4</td>\n",
       "      <td>0.000000</td>\n",
       "      <td>0.000000</td>\n",
       "      <td>0.000000</td>\n",
       "      <td>...</td>\n",
       "      <td>0.616438</td>\n",
       "      <td>0.924658</td>\n",
       "      <td>292</td>\n",
       "      <td>697</td>\n",
       "      <td>84</td>\n",
       "      <td>4</td>\n",
       "      <td>600000</td>\n",
       "      <td>6000000</td>\n",
       "      <td>1</td>\n",
       "      <td>0</td>\n",
       "    </tr>\n",
       "    <tr>\n",
       "      <th>3</th>\n",
       "      <td>/lisandro-martinez/profil/spieler/480762</td>\n",
       "      <td>Manchester United</td>\n",
       "      <td>Lisandro Martínez</td>\n",
       "      <td>Defender Centre-Back</td>\n",
       "      <td>175.0</td>\n",
       "      <td>25.0</td>\n",
       "      <td>82</td>\n",
       "      <td>0.028090</td>\n",
       "      <td>0.056180</td>\n",
       "      <td>0.224719</td>\n",
       "      <td>...</td>\n",
       "      <td>0.000000</td>\n",
       "      <td>0.000000</td>\n",
       "      <td>6408</td>\n",
       "      <td>175</td>\n",
       "      <td>22</td>\n",
       "      <td>9</td>\n",
       "      <td>50000000</td>\n",
       "      <td>50000000</td>\n",
       "      <td>2</td>\n",
       "      <td>0</td>\n",
       "    </tr>\n",
       "    <tr>\n",
       "      <th>4</th>\n",
       "      <td>/raphael-varane/profil/spieler/164770</td>\n",
       "      <td>Manchester United</td>\n",
       "      <td>Raphaël Varane</td>\n",
       "      <td>Defender Centre-Back</td>\n",
       "      <td>191.0</td>\n",
       "      <td>30.0</td>\n",
       "      <td>63</td>\n",
       "      <td>0.017889</td>\n",
       "      <td>0.017889</td>\n",
       "      <td>0.053667</td>\n",
       "      <td>...</td>\n",
       "      <td>0.000000</td>\n",
       "      <td>0.000000</td>\n",
       "      <td>5031</td>\n",
       "      <td>238</td>\n",
       "      <td>51</td>\n",
       "      <td>21</td>\n",
       "      <td>40000000</td>\n",
       "      <td>80000000</td>\n",
       "      <td>2</td>\n",
       "      <td>0</td>\n",
       "    </tr>\n",
       "  </tbody>\n",
       "</table>\n",
       "<p>5 rows × 22 columns</p>\n",
       "</div>"
      ],
      "text/plain": [
       "                                     player               team  \\\n",
       "0        /david-de-gea/profil/spieler/59377  Manchester United   \n",
       "1       /jack-butland/profil/spieler/128899  Manchester United   \n",
       "2          /tom-heaton/profil/spieler/34130  Manchester United   \n",
       "3  /lisandro-martinez/profil/spieler/480762  Manchester United   \n",
       "4     /raphael-varane/profil/spieler/164770  Manchester United   \n",
       "\n",
       "                name              position  height   age  appearance  \\\n",
       "0       David de Gea            Goalkeeper   189.0  32.0         104   \n",
       "1       Jack Butland            Goalkeeper   196.0  30.0          15   \n",
       "2         Tom Heaton            Goalkeeper   188.0  37.0           4   \n",
       "3  Lisandro Martínez  Defender Centre-Back   175.0  25.0          82   \n",
       "4     Raphaël Varane  Defender Centre-Back   191.0  30.0          63   \n",
       "\n",
       "      goals   assists  yellow cards  ...  goals conceded  clean sheets  \\\n",
       "0  0.000000  0.000000      0.009585  ...        1.217252      0.335463   \n",
       "1  0.000000  0.000000      0.069018  ...        1.242331      0.207055   \n",
       "2  0.000000  0.000000      0.000000  ...        0.616438      0.924658   \n",
       "3  0.028090  0.056180      0.224719  ...        0.000000      0.000000   \n",
       "4  0.017889  0.017889      0.053667  ...        0.000000      0.000000   \n",
       "\n",
       "   minutes played  days_injured  games_injured  award  current_value  \\\n",
       "0            9390            42              5     13       15000000   \n",
       "1            1304           510             58      1        1500000   \n",
       "2             292           697             84      4         600000   \n",
       "3            6408           175             22      9       50000000   \n",
       "4            5031           238             51     21       40000000   \n",
       "\n",
       "   highest_value  position_encoded  winger  \n",
       "0       70000000                 1       0  \n",
       "1       22000000                 1       0  \n",
       "2        6000000                 1       0  \n",
       "3       50000000                 2       0  \n",
       "4       80000000                 2       0  \n",
       "\n",
       "[5 rows x 22 columns]"
      ]
     },
     "execution_count": 207,
     "metadata": {},
     "output_type": "execute_result"
    }
   ],
   "source": [
    "#Read in the csv file and convert to a Pandas dataframe\n",
    "df = pd.read_csv('final_data.csv')\n",
    "\n",
    "df.head()"
   ]
  },
  {
   "cell_type": "markdown",
   "id": "bd2b5bc4-db37-4432-b666-0714afd0c4ca",
   "metadata": {},
   "source": [
    "## 1. Data Profiling:\n",
    "Data profiling is a comprehensive process of examining the data available in an existing dataset and collecting statistics and information about that data. "
   ]
  },
  {
   "cell_type": "code",
   "execution_count": 208,
   "id": "672f2081-5a2c-4908-8cbd-29519fb3cac5",
   "metadata": {},
   "outputs": [],
   "source": [
    "#profile = ProfileReport(df, title=\"Pandas Profiling Report\")\n",
    "#profile.to_notebook_iframe()\n"
   ]
  },
  {
   "cell_type": "markdown",
   "id": "3a9954f5-6fbc-45b4-ad86-3e21b6e0ca2d",
   "metadata": {},
   "source": [
    "### Data Quality Checks and Data Cleaning:"
   ]
  },
  {
   "cell_type": "markdown",
   "id": "4818c876-173d-4e56-9e7d-b4334d2def25",
   "metadata": {},
   "source": [
    "#### 1. Reliability:\n",
    "Evaluate the data's source and collection process to determine its trustworthiness."
   ]
  },
  {
   "cell_type": "code",
   "execution_count": null,
   "id": "9034ae7b-dc1d-4cba-8f9e-bb499d021cde",
   "metadata": {},
   "outputs": [],
   "source": []
  },
  {
   "cell_type": "markdown",
   "id": "2ce0cc59-8c92-4acc-8d07-c40764e1a86b",
   "metadata": {},
   "source": [
    "#### 2. Timeliness: \n",
    "Ensure the data is up-to-date and reflective of the current situation or the period of interest for the analysis."
   ]
  },
  {
   "cell_type": "code",
   "execution_count": null,
   "id": "4b78ae35-7226-4cb6-b8b2-a46c2ed17cf9",
   "metadata": {},
   "outputs": [],
   "source": []
  },
  {
   "cell_type": "markdown",
   "id": "7fab0fe2-6624-4615-b9d8-3c3669056bf8",
   "metadata": {},
   "source": [
    "#### 3. Consistency: \n",
    "\n",
    "Confirm that the data is consistent within the dataset and across multiple data sources. For example, the same data point should not have different values in different places.\n"
   ]
  },
  {
   "cell_type": "code",
   "execution_count": 209,
   "id": "2ee790ba-dcc0-45f1-b6f8-0133e913e149",
   "metadata": {},
   "outputs": [
    {
     "data": {
      "text/plain": [
       "array(['Goalkeeper', 'Defender Centre-Back', 'Defender Left-Back',\n",
       "       'Defender Right-Back', 'midfield-DefensiveMidfield',\n",
       "       'midfield-CentralMidfield', 'midfield-AttackingMidfield',\n",
       "       'Attack-LeftWinger', 'Attack-RightWinger', 'Attack Centre-Forward',\n",
       "       'midfield-RightMidfield', 'midfield-LeftMidfield',\n",
       "       'Attack-SecondStriker', 'midfield', 'Attack', 'Defender'],\n",
       "      dtype=object)"
      ]
     },
     "execution_count": 209,
     "metadata": {},
     "output_type": "execute_result"
    }
   ],
   "source": [
    "df['position'].unique()\n"
   ]
  },
  {
   "cell_type": "code",
   "execution_count": 210,
   "id": "694a32c9",
   "metadata": {},
   "outputs": [],
   "source": [
    "#Unify the values in the position column based on the four categories: Goalkeeper, Defender, Midfield, Attack.\n",
    "df.loc[df['position'] == 'Defender Centre-Back', 'position'] = 'Defender'\n",
    "df.loc[df['position'] == 'Defender Left-Back', 'position'] = 'Defender'\n",
    "df.loc[df['position'] == 'Defender Right-Back', 'position'] = 'Defender'\n",
    "df.loc[df['position'] == 'midfield-DefensiveMidfield', 'position'] = 'Midfielder'\n",
    "df.loc[df['position'] == 'midfield-CentralMidfield', 'position'] = 'Midfielder'\n",
    "df.loc[df['position'] == 'midfield-AttackingMidfield', 'position'] = 'Midfielder'\n",
    "df.loc[df['position'] == 'midfield-LeftMidfield', 'position'] = 'Midfielder'\n",
    "df.loc[df['position'] == 'midfield-RightMidfield', 'position'] = 'Midfielder'\n",
    "df.loc[df['position'] == 'Attack Centre-Forward', 'position'] = 'Attack'\n",
    "df.loc[df['position'] == 'Attack-RightWinger', 'position'] = 'Attack'\n",
    "df.loc[df['position'] == 'Attack-LeftWinger', 'position'] = 'Attack'\n",
    "df.loc[df['position'] == 'Attack-SecondStriker', 'position'] = 'Attack'\n"
   ]
  },
  {
   "cell_type": "code",
   "execution_count": 211,
   "id": "21a53611",
   "metadata": {},
   "outputs": [
    {
     "data": {
      "text/plain": [
       "array(['Goalkeeper', 'Defender', 'Midfielder', 'Attack', 'midfield'],\n",
       "      dtype=object)"
      ]
     },
     "execution_count": 211,
     "metadata": {},
     "output_type": "execute_result"
    }
   ],
   "source": [
    "df['position'].unique()"
   ]
  },
  {
   "cell_type": "markdown",
   "id": "bec3d183-bba0-4b12-b963-487daab1e876",
   "metadata": {},
   "source": [
    "#### 4. Relevance: \n",
    "Assess whether the data is appropriate and applicable for the intended analysis. Data that is not relevant can skew results and lead to incorrect conclusions.\n",
    "\n",
    "**Key considerations for relevance include:**\n",
    "\n",
    "> 1. Sample Appropriateness: Confirm that your data sample aligns with your analysis objectives. For instance, utilizing data from the Northern region will not yield accurate insights for the Western region of the Kingdom.\n",
    ">\n",
    "> 2. Variable Selection: Any column will not be relevant for our analysis, we can get rid of these using the drop() method. We will set the “axis” argument to 1 since we’re dealing with columns, and set the “inplace” argument to True to make the change permanent.\n"
   ]
  },
  {
   "cell_type": "code",
   "execution_count": 212,
   "id": "50a934b7-a0cd-443f-8a27-f10e9a6e8647",
   "metadata": {
    "scrolled": true
   },
   "outputs": [],
   "source": [
    "#The available data is consistent with the objectives of the analysis.\n",
    "#There are irrelevant columns to our objectives."
   ]
  },
  {
   "cell_type": "code",
   "execution_count": 213,
   "id": "e8618ee7",
   "metadata": {},
   "outputs": [],
   "source": [
    "#drop irrelevant columns\n",
    "df.drop(columns= 'player', inplace = True)\n",
    "#df.drop(columns= 'winger', inplace = True)\n",
    "df.drop(columns= 'position_encoded', inplace = True)"
   ]
  },
  {
   "cell_type": "code",
   "execution_count": 214,
   "id": "ad4a28c5",
   "metadata": {},
   "outputs": [
    {
     "data": {
      "text/html": [
       "<div>\n",
       "<style scoped>\n",
       "    .dataframe tbody tr th:only-of-type {\n",
       "        vertical-align: middle;\n",
       "    }\n",
       "\n",
       "    .dataframe tbody tr th {\n",
       "        vertical-align: top;\n",
       "    }\n",
       "\n",
       "    .dataframe thead th {\n",
       "        text-align: right;\n",
       "    }\n",
       "</style>\n",
       "<table border=\"1\" class=\"dataframe\">\n",
       "  <thead>\n",
       "    <tr style=\"text-align: right;\">\n",
       "      <th></th>\n",
       "      <th>team</th>\n",
       "      <th>name</th>\n",
       "      <th>position</th>\n",
       "      <th>height</th>\n",
       "      <th>age</th>\n",
       "      <th>appearance</th>\n",
       "      <th>goals</th>\n",
       "      <th>assists</th>\n",
       "      <th>yellow cards</th>\n",
       "      <th>second yellow cards</th>\n",
       "      <th>red cards</th>\n",
       "      <th>goals conceded</th>\n",
       "      <th>clean sheets</th>\n",
       "      <th>minutes played</th>\n",
       "      <th>days_injured</th>\n",
       "      <th>games_injured</th>\n",
       "      <th>award</th>\n",
       "      <th>current_value</th>\n",
       "      <th>highest_value</th>\n",
       "      <th>winger</th>\n",
       "    </tr>\n",
       "  </thead>\n",
       "  <tbody>\n",
       "    <tr>\n",
       "      <th>0</th>\n",
       "      <td>Manchester United</td>\n",
       "      <td>David de Gea</td>\n",
       "      <td>Goalkeeper</td>\n",
       "      <td>189.0</td>\n",
       "      <td>32.0</td>\n",
       "      <td>104</td>\n",
       "      <td>0.000000</td>\n",
       "      <td>0.000000</td>\n",
       "      <td>0.009585</td>\n",
       "      <td>0.0</td>\n",
       "      <td>0.0</td>\n",
       "      <td>1.217252</td>\n",
       "      <td>0.335463</td>\n",
       "      <td>9390</td>\n",
       "      <td>42</td>\n",
       "      <td>5</td>\n",
       "      <td>13</td>\n",
       "      <td>15000000</td>\n",
       "      <td>70000000</td>\n",
       "      <td>0</td>\n",
       "    </tr>\n",
       "    <tr>\n",
       "      <th>1</th>\n",
       "      <td>Manchester United</td>\n",
       "      <td>Jack Butland</td>\n",
       "      <td>Goalkeeper</td>\n",
       "      <td>196.0</td>\n",
       "      <td>30.0</td>\n",
       "      <td>15</td>\n",
       "      <td>0.000000</td>\n",
       "      <td>0.000000</td>\n",
       "      <td>0.069018</td>\n",
       "      <td>0.0</td>\n",
       "      <td>0.0</td>\n",
       "      <td>1.242331</td>\n",
       "      <td>0.207055</td>\n",
       "      <td>1304</td>\n",
       "      <td>510</td>\n",
       "      <td>58</td>\n",
       "      <td>1</td>\n",
       "      <td>1500000</td>\n",
       "      <td>22000000</td>\n",
       "      <td>0</td>\n",
       "    </tr>\n",
       "    <tr>\n",
       "      <th>2</th>\n",
       "      <td>Manchester United</td>\n",
       "      <td>Tom Heaton</td>\n",
       "      <td>Goalkeeper</td>\n",
       "      <td>188.0</td>\n",
       "      <td>37.0</td>\n",
       "      <td>4</td>\n",
       "      <td>0.000000</td>\n",
       "      <td>0.000000</td>\n",
       "      <td>0.000000</td>\n",
       "      <td>0.0</td>\n",
       "      <td>0.0</td>\n",
       "      <td>0.616438</td>\n",
       "      <td>0.924658</td>\n",
       "      <td>292</td>\n",
       "      <td>697</td>\n",
       "      <td>84</td>\n",
       "      <td>4</td>\n",
       "      <td>600000</td>\n",
       "      <td>6000000</td>\n",
       "      <td>0</td>\n",
       "    </tr>\n",
       "    <tr>\n",
       "      <th>3</th>\n",
       "      <td>Manchester United</td>\n",
       "      <td>Lisandro Martínez</td>\n",
       "      <td>Defender</td>\n",
       "      <td>175.0</td>\n",
       "      <td>25.0</td>\n",
       "      <td>82</td>\n",
       "      <td>0.028090</td>\n",
       "      <td>0.056180</td>\n",
       "      <td>0.224719</td>\n",
       "      <td>0.0</td>\n",
       "      <td>0.0</td>\n",
       "      <td>0.000000</td>\n",
       "      <td>0.000000</td>\n",
       "      <td>6408</td>\n",
       "      <td>175</td>\n",
       "      <td>22</td>\n",
       "      <td>9</td>\n",
       "      <td>50000000</td>\n",
       "      <td>50000000</td>\n",
       "      <td>0</td>\n",
       "    </tr>\n",
       "    <tr>\n",
       "      <th>4</th>\n",
       "      <td>Manchester United</td>\n",
       "      <td>Raphaël Varane</td>\n",
       "      <td>Defender</td>\n",
       "      <td>191.0</td>\n",
       "      <td>30.0</td>\n",
       "      <td>63</td>\n",
       "      <td>0.017889</td>\n",
       "      <td>0.017889</td>\n",
       "      <td>0.053667</td>\n",
       "      <td>0.0</td>\n",
       "      <td>0.0</td>\n",
       "      <td>0.000000</td>\n",
       "      <td>0.000000</td>\n",
       "      <td>5031</td>\n",
       "      <td>238</td>\n",
       "      <td>51</td>\n",
       "      <td>21</td>\n",
       "      <td>40000000</td>\n",
       "      <td>80000000</td>\n",
       "      <td>0</td>\n",
       "    </tr>\n",
       "  </tbody>\n",
       "</table>\n",
       "</div>"
      ],
      "text/plain": [
       "                team               name    position  height   age  appearance  \\\n",
       "0  Manchester United       David de Gea  Goalkeeper   189.0  32.0         104   \n",
       "1  Manchester United       Jack Butland  Goalkeeper   196.0  30.0          15   \n",
       "2  Manchester United         Tom Heaton  Goalkeeper   188.0  37.0           4   \n",
       "3  Manchester United  Lisandro Martínez    Defender   175.0  25.0          82   \n",
       "4  Manchester United     Raphaël Varane    Defender   191.0  30.0          63   \n",
       "\n",
       "      goals   assists  yellow cards  second yellow cards  red cards  \\\n",
       "0  0.000000  0.000000      0.009585                  0.0        0.0   \n",
       "1  0.000000  0.000000      0.069018                  0.0        0.0   \n",
       "2  0.000000  0.000000      0.000000                  0.0        0.0   \n",
       "3  0.028090  0.056180      0.224719                  0.0        0.0   \n",
       "4  0.017889  0.017889      0.053667                  0.0        0.0   \n",
       "\n",
       "   goals conceded  clean sheets  minutes played  days_injured  games_injured  \\\n",
       "0        1.217252      0.335463            9390            42              5   \n",
       "1        1.242331      0.207055            1304           510             58   \n",
       "2        0.616438      0.924658             292           697             84   \n",
       "3        0.000000      0.000000            6408           175             22   \n",
       "4        0.000000      0.000000            5031           238             51   \n",
       "\n",
       "   award  current_value  highest_value  winger  \n",
       "0     13       15000000       70000000       0  \n",
       "1      1        1500000       22000000       0  \n",
       "2      4         600000        6000000       0  \n",
       "3      9       50000000       50000000       0  \n",
       "4     21       40000000       80000000       0  "
      ]
     },
     "execution_count": 214,
     "metadata": {},
     "output_type": "execute_result"
    }
   ],
   "source": [
    "df.head()"
   ]
  },
  {
   "cell_type": "markdown",
   "id": "0f5e3a2a-bbb7-4d06-8220-c93277b70146",
   "metadata": {},
   "source": [
    "#### 5. Uniqueness: \n",
    "Check for and remove duplicate records to prevent skewed analysis results.\n"
   ]
  },
  {
   "cell_type": "code",
   "execution_count": 215,
   "id": "04c62559-3b48-48cf-a4e9-857e2e0ff416",
   "metadata": {},
   "outputs": [],
   "source": [
    "# There are no duplicate valuse"
   ]
  },
  {
   "cell_type": "code",
   "execution_count": 216,
   "id": "ef807c75",
   "metadata": {},
   "outputs": [
    {
     "data": {
      "text/plain": [
       "0"
      ]
     },
     "execution_count": 216,
     "metadata": {},
     "output_type": "execute_result"
    }
   ],
   "source": [
    "df.duplicated().sum()"
   ]
  },
  {
   "cell_type": "markdown",
   "id": "c7724ac2-4ea2-4cf4-a9e0-e64368f87b92",
   "metadata": {},
   "source": [
    "#### 6. Completeness: \n",
    "Ensure that no critical data is missing. This might mean checking for null values or required fields that are empty.\n",
    "\n",
    "We will start by checking the dataset for missing or null values. For this, we can use the isna() method which returns a dataframe of boolean values indicating if a field is null or not. To group all missing values by column, we can include the sum() method."
   ]
  },
  {
   "cell_type": "code",
   "execution_count": 217,
   "id": "48a4de54-a344-4b94-9908-9528c15c13f7",
   "metadata": {},
   "outputs": [
    {
     "data": {
      "text/plain": [
       "team                   0\n",
       "name                   0\n",
       "position               0\n",
       "height                 0\n",
       "age                    0\n",
       "appearance             0\n",
       "goals                  0\n",
       "assists                0\n",
       "yellow cards           0\n",
       "second yellow cards    0\n",
       "red cards              0\n",
       "goals conceded         0\n",
       "clean sheets           0\n",
       "minutes played         0\n",
       "days_injured           0\n",
       "games_injured          0\n",
       "award                  0\n",
       "current_value          0\n",
       "highest_value          0\n",
       "winger                 0\n",
       "dtype: int64"
      ]
     },
     "execution_count": 217,
     "metadata": {},
     "output_type": "execute_result"
    }
   ],
   "source": [
    "#Display number missing values per column\n",
    "df.isnull().sum()"
   ]
  },
  {
   "cell_type": "markdown",
   "id": "b40de63c-5a1d-49ed-a87e-c5229ee08bbe",
   "metadata": {},
   "source": [
    "#### 7. Check Accuracy:\n",
    "\n",
    "Verify that the data is correct and precise. This could involve comparing data samples with known sources or using validation rules.\n",
    "\n",
    "**The process includes:**\n",
    "1. Validating the appropriateness of data types for the dataset.\n",
    "2. Identifying outliers  using established validation  rule"
   ]
  },
  {
   "cell_type": "code",
   "execution_count": 218,
   "id": "68be5334-ae10-4abd-8097-3259fe5e72c8",
   "metadata": {},
   "outputs": [
    {
     "data": {
      "text/plain": [
       "team                    object\n",
       "name                    object\n",
       "position                object\n",
       "height                 float64\n",
       "age                    float64\n",
       "appearance               int64\n",
       "goals                  float64\n",
       "assists                float64\n",
       "yellow cards           float64\n",
       "second yellow cards    float64\n",
       "red cards              float64\n",
       "goals conceded         float64\n",
       "clean sheets           float64\n",
       "minutes played           int64\n",
       "days_injured             int64\n",
       "games_injured            int64\n",
       "award                    int64\n",
       "current_value            int64\n",
       "highest_value            int64\n",
       "winger                   int64\n",
       "dtype: object"
      ]
     },
     "execution_count": 218,
     "metadata": {},
     "output_type": "execute_result"
    }
   ],
   "source": [
    "# check columns types \n",
    "df.dtypes\n",
    "# All good"
   ]
  },
  {
   "cell_type": "code",
   "execution_count": 219,
   "id": "ee200da8-62b0-492d-b118-f4d665a1fb16",
   "metadata": {},
   "outputs": [],
   "source": [
    "#profile = ProfileReport(df_goalkeeper, title=\"Pandas Profiling Report\")\n",
    "#profile.to_notebook_iframe()"
   ]
  },
  {
   "cell_type": "code",
   "execution_count": 220,
   "id": "4e66d611-6958-4860-8522-9ada7fce40b0",
   "metadata": {},
   "outputs": [
    {
     "data": {
      "text/html": [
       "<div>\n",
       "<style scoped>\n",
       "    .dataframe tbody tr th:only-of-type {\n",
       "        vertical-align: middle;\n",
       "    }\n",
       "\n",
       "    .dataframe tbody tr th {\n",
       "        vertical-align: top;\n",
       "    }\n",
       "\n",
       "    .dataframe thead th {\n",
       "        text-align: right;\n",
       "    }\n",
       "</style>\n",
       "<table border=\"1\" class=\"dataframe\">\n",
       "  <thead>\n",
       "    <tr style=\"text-align: right;\">\n",
       "      <th></th>\n",
       "      <th>team</th>\n",
       "      <th>name</th>\n",
       "      <th>position</th>\n",
       "      <th>height</th>\n",
       "      <th>age</th>\n",
       "      <th>appearance</th>\n",
       "      <th>goals</th>\n",
       "      <th>assists</th>\n",
       "      <th>yellow cards</th>\n",
       "      <th>second yellow cards</th>\n",
       "      <th>red cards</th>\n",
       "      <th>goals conceded</th>\n",
       "      <th>clean sheets</th>\n",
       "      <th>minutes played</th>\n",
       "      <th>days_injured</th>\n",
       "      <th>games_injured</th>\n",
       "      <th>award</th>\n",
       "      <th>current_value</th>\n",
       "      <th>highest_value</th>\n",
       "      <th>winger</th>\n",
       "    </tr>\n",
       "  </thead>\n",
       "  <tbody>\n",
       "    <tr>\n",
       "      <th>0</th>\n",
       "      <td>Manchester United</td>\n",
       "      <td>David de Gea</td>\n",
       "      <td>Goalkeeper</td>\n",
       "      <td>189.0</td>\n",
       "      <td>32.0</td>\n",
       "      <td>104</td>\n",
       "      <td>0.0</td>\n",
       "      <td>0.0</td>\n",
       "      <td>0.009585</td>\n",
       "      <td>0.0</td>\n",
       "      <td>0.0</td>\n",
       "      <td>1.217252</td>\n",
       "      <td>0.335463</td>\n",
       "      <td>9390</td>\n",
       "      <td>42</td>\n",
       "      <td>5</td>\n",
       "      <td>13</td>\n",
       "      <td>15000000</td>\n",
       "      <td>70000000</td>\n",
       "      <td>0</td>\n",
       "    </tr>\n",
       "    <tr>\n",
       "      <th>1</th>\n",
       "      <td>Manchester United</td>\n",
       "      <td>Jack Butland</td>\n",
       "      <td>Goalkeeper</td>\n",
       "      <td>196.0</td>\n",
       "      <td>30.0</td>\n",
       "      <td>15</td>\n",
       "      <td>0.0</td>\n",
       "      <td>0.0</td>\n",
       "      <td>0.069018</td>\n",
       "      <td>0.0</td>\n",
       "      <td>0.0</td>\n",
       "      <td>1.242331</td>\n",
       "      <td>0.207055</td>\n",
       "      <td>1304</td>\n",
       "      <td>510</td>\n",
       "      <td>58</td>\n",
       "      <td>1</td>\n",
       "      <td>1500000</td>\n",
       "      <td>22000000</td>\n",
       "      <td>0</td>\n",
       "    </tr>\n",
       "    <tr>\n",
       "      <th>2</th>\n",
       "      <td>Manchester United</td>\n",
       "      <td>Tom Heaton</td>\n",
       "      <td>Goalkeeper</td>\n",
       "      <td>188.0</td>\n",
       "      <td>37.0</td>\n",
       "      <td>4</td>\n",
       "      <td>0.0</td>\n",
       "      <td>0.0</td>\n",
       "      <td>0.000000</td>\n",
       "      <td>0.0</td>\n",
       "      <td>0.0</td>\n",
       "      <td>0.616438</td>\n",
       "      <td>0.924658</td>\n",
       "      <td>292</td>\n",
       "      <td>697</td>\n",
       "      <td>84</td>\n",
       "      <td>4</td>\n",
       "      <td>600000</td>\n",
       "      <td>6000000</td>\n",
       "      <td>0</td>\n",
       "    </tr>\n",
       "    <tr>\n",
       "      <th>32</th>\n",
       "      <td>West Ham United</td>\n",
       "      <td>Alphonse Areola</td>\n",
       "      <td>Goalkeeper</td>\n",
       "      <td>195.0</td>\n",
       "      <td>30.0</td>\n",
       "      <td>41</td>\n",
       "      <td>0.0</td>\n",
       "      <td>0.0</td>\n",
       "      <td>0.000000</td>\n",
       "      <td>0.0</td>\n",
       "      <td>0.0</td>\n",
       "      <td>0.898502</td>\n",
       "      <td>0.449251</td>\n",
       "      <td>3606</td>\n",
       "      <td>34</td>\n",
       "      <td>4</td>\n",
       "      <td>16</td>\n",
       "      <td>8000000</td>\n",
       "      <td>17500000</td>\n",
       "      <td>0</td>\n",
       "    </tr>\n",
       "    <tr>\n",
       "      <th>33</th>\n",
       "      <td>West Ham United</td>\n",
       "      <td>Lukasz Fabianski</td>\n",
       "      <td>Goalkeeper</td>\n",
       "      <td>190.0</td>\n",
       "      <td>38.0</td>\n",
       "      <td>75</td>\n",
       "      <td>0.0</td>\n",
       "      <td>0.0</td>\n",
       "      <td>0.040767</td>\n",
       "      <td>0.0</td>\n",
       "      <td>0.0</td>\n",
       "      <td>1.331723</td>\n",
       "      <td>0.271780</td>\n",
       "      <td>6623</td>\n",
       "      <td>554</td>\n",
       "      <td>99</td>\n",
       "      <td>4</td>\n",
       "      <td>1000000</td>\n",
       "      <td>9000000</td>\n",
       "      <td>0</td>\n",
       "    </tr>\n",
       "  </tbody>\n",
       "</table>\n",
       "</div>"
      ],
      "text/plain": [
       "                 team              name    position  height   age  appearance  \\\n",
       "0   Manchester United      David de Gea  Goalkeeper   189.0  32.0         104   \n",
       "1   Manchester United      Jack Butland  Goalkeeper   196.0  30.0          15   \n",
       "2   Manchester United        Tom Heaton  Goalkeeper   188.0  37.0           4   \n",
       "32    West Ham United   Alphonse Areola  Goalkeeper   195.0  30.0          41   \n",
       "33    West Ham United  Lukasz Fabianski  Goalkeeper   190.0  38.0          75   \n",
       "\n",
       "    goals  assists  yellow cards  second yellow cards  red cards  \\\n",
       "0     0.0      0.0      0.009585                  0.0        0.0   \n",
       "1     0.0      0.0      0.069018                  0.0        0.0   \n",
       "2     0.0      0.0      0.000000                  0.0        0.0   \n",
       "32    0.0      0.0      0.000000                  0.0        0.0   \n",
       "33    0.0      0.0      0.040767                  0.0        0.0   \n",
       "\n",
       "    goals conceded  clean sheets  minutes played  days_injured  games_injured  \\\n",
       "0         1.217252      0.335463            9390            42              5   \n",
       "1         1.242331      0.207055            1304           510             58   \n",
       "2         0.616438      0.924658             292           697             84   \n",
       "32        0.898502      0.449251            3606            34              4   \n",
       "33        1.331723      0.271780            6623           554             99   \n",
       "\n",
       "    award  current_value  highest_value  winger  \n",
       "0      13       15000000       70000000       0  \n",
       "1       1        1500000       22000000       0  \n",
       "2       4         600000        6000000       0  \n",
       "32     16        8000000       17500000       0  \n",
       "33      4        1000000        9000000       0  "
      ]
     },
     "execution_count": 220,
     "metadata": {},
     "output_type": "execute_result"
    }
   ],
   "source": [
    "#create new dataframe for goalkeeper info\n",
    "df_goalkeeper = df[df['position'] == 'Goalkeeper'].copy()\n",
    "df_goalkeeper.head()"
   ]
  },
  {
   "cell_type": "code",
   "execution_count": 221,
   "id": "55bb7af8",
   "metadata": {},
   "outputs": [],
   "source": [
    "#drop column\n",
    "df_goalkeeper.drop(columns='goals', inplace = True)\n",
    "df_goalkeeper.drop(columns='assists', inplace = True)\n",
    "df_goalkeeper.drop(columns='position', inplace = True)\n",
    "df_goalkeeper.drop(columns='winger', inplace = True)"
   ]
  },
  {
   "cell_type": "code",
   "execution_count": 222,
   "id": "3fb4a341",
   "metadata": {},
   "outputs": [
    {
     "data": {
      "text/html": [
       "<div>\n",
       "<style scoped>\n",
       "    .dataframe tbody tr th:only-of-type {\n",
       "        vertical-align: middle;\n",
       "    }\n",
       "\n",
       "    .dataframe tbody tr th {\n",
       "        vertical-align: top;\n",
       "    }\n",
       "\n",
       "    .dataframe thead th {\n",
       "        text-align: right;\n",
       "    }\n",
       "</style>\n",
       "<table border=\"1\" class=\"dataframe\">\n",
       "  <thead>\n",
       "    <tr style=\"text-align: right;\">\n",
       "      <th></th>\n",
       "      <th>team</th>\n",
       "      <th>name</th>\n",
       "      <th>position</th>\n",
       "      <th>height</th>\n",
       "      <th>age</th>\n",
       "      <th>appearance</th>\n",
       "      <th>goals</th>\n",
       "      <th>assists</th>\n",
       "      <th>yellow cards</th>\n",
       "      <th>second yellow cards</th>\n",
       "      <th>red cards</th>\n",
       "      <th>goals conceded</th>\n",
       "      <th>clean sheets</th>\n",
       "      <th>minutes played</th>\n",
       "      <th>days_injured</th>\n",
       "      <th>games_injured</th>\n",
       "      <th>award</th>\n",
       "      <th>current_value</th>\n",
       "      <th>highest_value</th>\n",
       "      <th>winger</th>\n",
       "    </tr>\n",
       "  </thead>\n",
       "  <tbody>\n",
       "    <tr>\n",
       "      <th>3</th>\n",
       "      <td>Manchester United</td>\n",
       "      <td>Lisandro Martínez</td>\n",
       "      <td>Defender</td>\n",
       "      <td>175.0</td>\n",
       "      <td>25.0</td>\n",
       "      <td>82</td>\n",
       "      <td>0.028090</td>\n",
       "      <td>0.056180</td>\n",
       "      <td>0.224719</td>\n",
       "      <td>0.0000</td>\n",
       "      <td>0.0</td>\n",
       "      <td>0.0</td>\n",
       "      <td>0.0</td>\n",
       "      <td>6408</td>\n",
       "      <td>175</td>\n",
       "      <td>22</td>\n",
       "      <td>9</td>\n",
       "      <td>50000000</td>\n",
       "      <td>50000000</td>\n",
       "      <td>0</td>\n",
       "    </tr>\n",
       "    <tr>\n",
       "      <th>4</th>\n",
       "      <td>Manchester United</td>\n",
       "      <td>Raphaël Varane</td>\n",
       "      <td>Defender</td>\n",
       "      <td>191.0</td>\n",
       "      <td>30.0</td>\n",
       "      <td>63</td>\n",
       "      <td>0.017889</td>\n",
       "      <td>0.017889</td>\n",
       "      <td>0.053667</td>\n",
       "      <td>0.0000</td>\n",
       "      <td>0.0</td>\n",
       "      <td>0.0</td>\n",
       "      <td>0.0</td>\n",
       "      <td>5031</td>\n",
       "      <td>238</td>\n",
       "      <td>51</td>\n",
       "      <td>21</td>\n",
       "      <td>40000000</td>\n",
       "      <td>80000000</td>\n",
       "      <td>0</td>\n",
       "    </tr>\n",
       "    <tr>\n",
       "      <th>5</th>\n",
       "      <td>Manchester United</td>\n",
       "      <td>Harry Maguire</td>\n",
       "      <td>Defender</td>\n",
       "      <td>194.0</td>\n",
       "      <td>30.0</td>\n",
       "      <td>68</td>\n",
       "      <td>0.037799</td>\n",
       "      <td>0.000000</td>\n",
       "      <td>0.302394</td>\n",
       "      <td>0.0189</td>\n",
       "      <td>0.0</td>\n",
       "      <td>0.0</td>\n",
       "      <td>0.0</td>\n",
       "      <td>4762</td>\n",
       "      <td>148</td>\n",
       "      <td>27</td>\n",
       "      <td>1</td>\n",
       "      <td>25000000</td>\n",
       "      <td>70000000</td>\n",
       "      <td>0</td>\n",
       "    </tr>\n",
       "    <tr>\n",
       "      <th>6</th>\n",
       "      <td>Manchester United</td>\n",
       "      <td>Victor Lindelöf</td>\n",
       "      <td>Defender</td>\n",
       "      <td>187.0</td>\n",
       "      <td>28.0</td>\n",
       "      <td>70</td>\n",
       "      <td>0.000000</td>\n",
       "      <td>0.032901</td>\n",
       "      <td>0.115153</td>\n",
       "      <td>0.0000</td>\n",
       "      <td>0.0</td>\n",
       "      <td>0.0</td>\n",
       "      <td>0.0</td>\n",
       "      <td>5471</td>\n",
       "      <td>95</td>\n",
       "      <td>19</td>\n",
       "      <td>10</td>\n",
       "      <td>15000000</td>\n",
       "      <td>35000000</td>\n",
       "      <td>0</td>\n",
       "    </tr>\n",
       "    <tr>\n",
       "      <th>7</th>\n",
       "      <td>Manchester United</td>\n",
       "      <td>Phil Jones</td>\n",
       "      <td>Defender</td>\n",
       "      <td>185.0</td>\n",
       "      <td>31.0</td>\n",
       "      <td>8</td>\n",
       "      <td>0.000000</td>\n",
       "      <td>0.000000</td>\n",
       "      <td>0.216346</td>\n",
       "      <td>0.0000</td>\n",
       "      <td>0.0</td>\n",
       "      <td>0.0</td>\n",
       "      <td>0.0</td>\n",
       "      <td>416</td>\n",
       "      <td>932</td>\n",
       "      <td>169</td>\n",
       "      <td>7</td>\n",
       "      <td>2000000</td>\n",
       "      <td>20000000</td>\n",
       "      <td>0</td>\n",
       "    </tr>\n",
       "  </tbody>\n",
       "</table>\n",
       "</div>"
      ],
      "text/plain": [
       "                team               name  position  height   age  appearance  \\\n",
       "3  Manchester United  Lisandro Martínez  Defender   175.0  25.0          82   \n",
       "4  Manchester United     Raphaël Varane  Defender   191.0  30.0          63   \n",
       "5  Manchester United      Harry Maguire  Defender   194.0  30.0          68   \n",
       "6  Manchester United    Victor Lindelöf  Defender   187.0  28.0          70   \n",
       "7  Manchester United         Phil Jones  Defender   185.0  31.0           8   \n",
       "\n",
       "      goals   assists  yellow cards  second yellow cards  red cards  \\\n",
       "3  0.028090  0.056180      0.224719               0.0000        0.0   \n",
       "4  0.017889  0.017889      0.053667               0.0000        0.0   \n",
       "5  0.037799  0.000000      0.302394               0.0189        0.0   \n",
       "6  0.000000  0.032901      0.115153               0.0000        0.0   \n",
       "7  0.000000  0.000000      0.216346               0.0000        0.0   \n",
       "\n",
       "   goals conceded  clean sheets  minutes played  days_injured  games_injured  \\\n",
       "3             0.0           0.0            6408           175             22   \n",
       "4             0.0           0.0            5031           238             51   \n",
       "5             0.0           0.0            4762           148             27   \n",
       "6             0.0           0.0            5471            95             19   \n",
       "7             0.0           0.0             416           932            169   \n",
       "\n",
       "   award  current_value  highest_value  winger  \n",
       "3      9       50000000       50000000       0  \n",
       "4     21       40000000       80000000       0  \n",
       "5      1       25000000       70000000       0  \n",
       "6     10       15000000       35000000       0  \n",
       "7      7        2000000       20000000       0  "
      ]
     },
     "execution_count": 222,
     "metadata": {},
     "output_type": "execute_result"
    }
   ],
   "source": [
    "#create new dataframe without goalkeeper info\n",
    "df_copy = df[df['position'] != 'Goalkeeper'].copy()\n",
    "df_copy.head()"
   ]
  },
  {
   "cell_type": "code",
   "execution_count": 291,
   "id": "bad48019",
   "metadata": {},
   "outputs": [],
   "source": [
    "#drop column\n",
    "df_copy.drop(columns='goals conceded', inplace = True)\n",
    "df_copy.drop(columns='clean sheets', inplace = True)"
   ]
  },
  {
   "cell_type": "code",
   "execution_count": 224,
   "id": "57e741fb-71c1-46ad-a526-d8f0b1564dc3",
   "metadata": {},
   "outputs": [
    {
     "data": {
      "image/png": "[encoded data removed]",
      "text/plain": [
       "<Figure size 640x480 with 1 Axes>"
      ]
     },
     "metadata": {},
     "output_type": "display_data"
    }
   ],
   "source": [
    "plt.hist(df_copy['height'])\n",
    "plt.title('height')\n",
    "plt.xlabel('height')\n",
    "plt.ylabel('Frequency')\n",
    "plt.show()\n",
    "\n",
    "#all good"
   ]
  },
  {
   "cell_type": "code",
   "execution_count": 225,
   "id": "e2b7856b",
   "metadata": {},
   "outputs": [
    {
     "data": {
      "image/png": "[encoded data removed]",
      "text/plain": [
       "<Figure size 640x480 with 1 Axes>"
      ]
     },
     "metadata": {},
     "output_type": "display_data"
    }
   ],
   "source": [
    "plt.hist(df_copy[\"minutes played\"] ,bins=100)\n",
    "plt.title('minutes played')\n",
    "plt.xlabel('minutes played')\n",
    "plt.ylabel('Frequency')\n",
    "plt.show()"
   ]
  },
  {
   "cell_type": "code",
   "execution_count": 226,
   "id": "06273b88-a169-42e8-81f5-5d71cb3f9c21",
   "metadata": {},
   "outputs": [
    {
     "data": {
      "image/png": "[encoded data removed]",
      "text/plain": [
       "<Figure size 640x480 with 1 Axes>"
      ]
     },
     "metadata": {},
     "output_type": "display_data"
    }
   ],
   "source": [
    "plt.hist(df_copy['age'])\n",
    "plt.title('age')\n",
    "plt.xlabel('age')\n",
    "plt.ylabel('Frequency')\n",
    "plt.show()\n"
   ]
  },
  {
   "cell_type": "code",
   "execution_count": 227,
   "id": "5989f986",
   "metadata": {},
   "outputs": [],
   "source": [
    "df_copy = df_copy[(df_copy[\"age\"] >= 18) & (df_copy[\"age\"] <= 40)]"
   ]
  },
  {
   "cell_type": "code",
   "execution_count": 228,
   "id": "78329363",
   "metadata": {},
   "outputs": [
    {
     "data": {
      "image/png": "[encoded data removed]",
      "text/plain": [
       "<Figure size 640x480 with 1 Axes>"
      ]
     },
     "metadata": {},
     "output_type": "display_data"
    }
   ],
   "source": [
    "plt.hist(df_copy['appearance'])\n",
    "plt.title('appearance')\n",
    "plt.xlabel('appearance')\n",
    "plt.ylabel('Frequency')\n",
    "plt.show()\n",
    "#all good"
   ]
  },
  {
   "cell_type": "code",
   "execution_count": 229,
   "id": "a86b2664",
   "metadata": {},
   "outputs": [
    {
     "data": {
      "image/png": "[encoded data removed]",
      "text/plain": [
       "<Figure size 640x480 with 1 Axes>"
      ]
     },
     "metadata": {},
     "output_type": "display_data"
    }
   ],
   "source": [
    "plt.hist(df_copy['award'])\n",
    "plt.title('award')\n",
    "plt.xlabel('award')\n",
    "plt.ylabel('Frequency')\n",
    "plt.show()\n"
   ]
  },
  {
   "cell_type": "code",
   "execution_count": 230,
   "id": "29b96c93",
   "metadata": {},
   "outputs": [],
   "source": [
    "df_copy = df_copy[df_copy[\"award\"] <= 30]"
   ]
  },
  {
   "cell_type": "code",
   "execution_count": 231,
   "id": "c0e05fdf",
   "metadata": {},
   "outputs": [
    {
     "data": {
      "image/png": "[encoded data removed]",
      "text/plain": [
       "<Figure size 640x480 with 1 Axes>"
      ]
     },
     "metadata": {},
     "output_type": "display_data"
    }
   ],
   "source": [
    "plt.hist(df_copy['award'])\n",
    "plt.title('award')\n",
    "plt.xlabel('award')\n",
    "plt.ylabel('Frequency')\n",
    "plt.show()\n"
   ]
  },
  {
   "cell_type": "code",
   "execution_count": 232,
   "id": "82b53ca8",
   "metadata": {},
   "outputs": [
    {
     "data": {
      "image/png": "[encoded data removed]",
      "text/plain": [
       "<Figure size 640x480 with 1 Axes>"
      ]
     },
     "metadata": {},
     "output_type": "display_data"
    }
   ],
   "source": [
    "plt.hist(df_copy['assists'])\n",
    "plt.title('assists')\n",
    "plt.xlabel('assists')\n",
    "plt.ylabel('Frequency')\n",
    "plt.show()\n"
   ]
  },
  {
   "cell_type": "code",
   "execution_count": 233,
   "id": "84c398a3",
   "metadata": {},
   "outputs": [
    {
     "data": {
      "text/plain": [
       "assists\n",
       "0.000000    3249\n",
       "0.200000       6\n",
       "0.100784       6\n",
       "1.000000       6\n",
       "0.111111       6\n",
       "            ... \n",
       "0.171647       1\n",
       "0.144138       1\n",
       "0.242152       1\n",
       "0.283514       1\n",
       "0.208333       1\n",
       "Name: count, Length: 5028, dtype: int64"
      ]
     },
     "execution_count": 233,
     "metadata": {},
     "output_type": "execute_result"
    }
   ],
   "source": [
    "df_copy['assists'].value_counts()"
   ]
  },
  {
   "cell_type": "code",
   "execution_count": 234,
   "id": "52dc0009",
   "metadata": {},
   "outputs": [],
   "source": [
    "df_copy = df_copy[df_copy[\"assists\"] <= 1.5]\n"
   ]
  },
  {
   "cell_type": "code",
   "execution_count": 235,
   "id": "f79ba7d6",
   "metadata": {},
   "outputs": [
    {
     "data": {
      "image/png": "[encoded data removed]",
      "text/plain": [
       "<Figure size 640x480 with 1 Axes>"
      ]
     },
     "metadata": {},
     "output_type": "display_data"
    }
   ],
   "source": [
    "plt.hist(df_copy['assists'])\n",
    "plt.title('assists')\n",
    "plt.xlabel('assists')\n",
    "plt.ylabel('Frequency')\n",
    "plt.show()\n"
   ]
  },
  {
   "cell_type": "code",
   "execution_count": 236,
   "id": "8f48062e",
   "metadata": {},
   "outputs": [
    {
     "data": {
      "image/png": "[encoded data removed]",
      "text/plain": [
       "<Figure size 640x480 with 1 Axes>"
      ]
     },
     "metadata": {},
     "output_type": "display_data"
    }
   ],
   "source": [
    "plt.hist(df_copy['yellow cards'])\n",
    "plt.title('yellow cards')\n",
    "plt.xlabel('yellow cards')\n",
    "plt.ylabel('Frequency')\n",
    "plt.show()\n"
   ]
  },
  {
   "cell_type": "code",
   "execution_count": 237,
   "id": "4b908a37",
   "metadata": {},
   "outputs": [],
   "source": [
    "df_copy = df_copy[df_copy[\"yellow cards\"] <= 3]\n"
   ]
  },
  {
   "cell_type": "code",
   "execution_count": 238,
   "id": "1d7a225a",
   "metadata": {},
   "outputs": [
    {
     "data": {
      "image/png": "[encoded data removed]",
      "text/plain": [
       "<Figure size 640x480 with 1 Axes>"
      ]
     },
     "metadata": {},
     "output_type": "display_data"
    }
   ],
   "source": [
    "plt.hist(df_copy['yellow cards'])\n",
    "plt.title('yellow cards')\n",
    "plt.xlabel('yellow cards')\n",
    "plt.ylabel('Frequency')\n",
    "plt.show()\n"
   ]
  },
  {
   "cell_type": "code",
   "execution_count": 239,
   "id": "a91ec44a",
   "metadata": {},
   "outputs": [
    {
     "data": {
      "image/png": "[encoded data removed]",
      "text/plain": [
       "<Figure size 640x480 with 1 Axes>"
      ]
     },
     "metadata": {},
     "output_type": "display_data"
    }
   ],
   "source": [
    "plt.hist(df_copy['second yellow cards'])\n",
    "plt.title('second yellow cards')\n",
    "plt.xlabel('second yellow cards')\n",
    "plt.ylabel('Frequency')\n",
    "plt.show()\n",
    "\n"
   ]
  },
  {
   "cell_type": "code",
   "execution_count": 240,
   "id": "17adfea1",
   "metadata": {},
   "outputs": [],
   "source": [
    "df_copy = df_copy[df_copy[\"second yellow cards\"] <= 0.2]\n"
   ]
  },
  {
   "cell_type": "code",
   "execution_count": 241,
   "id": "1e03785f",
   "metadata": {},
   "outputs": [
    {
     "data": {
      "image/png": "[encoded data removed]",
      "text/plain": [
       "<Figure size 640x480 with 1 Axes>"
      ]
     },
     "metadata": {},
     "output_type": "display_data"
    }
   ],
   "source": [
    "plt.hist(df_copy['second yellow cards'])\n",
    "plt.title('second yellow cards')\n",
    "plt.xlabel('second yellow cards')\n",
    "plt.ylabel('Frequency')\n",
    "plt.show()\n"
   ]
  },
  {
   "cell_type": "code",
   "execution_count": 242,
   "id": "d97c92a0",
   "metadata": {},
   "outputs": [
    {
     "data": {
      "image/png": "[encoded data removed]",
      "text/plain": [
       "<Figure size 640x480 with 1 Axes>"
      ]
     },
     "metadata": {},
     "output_type": "display_data"
    }
   ],
   "source": [
    "plt.hist(df_copy['red cards'])\n",
    "plt.title('red cards')\n",
    "plt.xlabel('red cards')\n",
    "plt.ylabel('Frequency')\n",
    "plt.show()"
   ]
  },
  {
   "cell_type": "code",
   "execution_count": 243,
   "id": "4ff8771b",
   "metadata": {},
   "outputs": [],
   "source": [
    "df_copy = df_copy[df_copy[\"red cards\"] <= 0.2]\n"
   ]
  },
  {
   "cell_type": "code",
   "execution_count": 244,
   "id": "c9da5546",
   "metadata": {},
   "outputs": [
    {
     "data": {
      "image/png": "[encoded data removed]",
      "text/plain": [
       "<Figure size 640x480 with 1 Axes>"
      ]
     },
     "metadata": {},
     "output_type": "display_data"
    }
   ],
   "source": [
    "plt.hist(df_copy['red cards'])\n",
    "plt.title('red cards')\n",
    "plt.xlabel('red cards')\n",
    "plt.ylabel('Frequency')\n",
    "plt.show()"
   ]
  },
  {
   "cell_type": "code",
   "execution_count": 245,
   "id": "bfbfb81a",
   "metadata": {},
   "outputs": [
    {
     "data": {
      "image/png": "[encoded data removed]",
      "text/plain": [
       "<Figure size 640x480 with 1 Axes>"
      ]
     },
     "metadata": {},
     "output_type": "display_data"
    }
   ],
   "source": [
    "plt.hist(df_copy['days_injured'])\n",
    "plt.title('days_injured')\n",
    "plt.xlabel('days_injured')\n",
    "plt.ylabel('Frequency')\n",
    "plt.show()"
   ]
  },
  {
   "cell_type": "code",
   "execution_count": 246,
   "id": "9ca7d17b",
   "metadata": {},
   "outputs": [],
   "source": [
    "df_copy = df_copy[df_copy[\"days_injured\"] <= 600]\n"
   ]
  },
  {
   "cell_type": "code",
   "execution_count": 247,
   "id": "6ddb4eec",
   "metadata": {},
   "outputs": [
    {
     "data": {
      "image/png": "[encoded data removed]",
      "text/plain": [
       "<Figure size 640x480 with 1 Axes>"
      ]
     },
     "metadata": {},
     "output_type": "display_data"
    }
   ],
   "source": [
    "plt.hist(df_copy['days_injured'])\n",
    "plt.title('days_injured')\n",
    "plt.xlabel('days_injured')\n",
    "plt.ylabel('Frequency')\n",
    "plt.show()"
   ]
  },
  {
   "cell_type": "code",
   "execution_count": 248,
   "id": "c5c5c267",
   "metadata": {},
   "outputs": [
    {
     "data": {
      "image/png": "[encoded data removed]",
      "text/plain": [
       "<Figure size 640x480 with 1 Axes>"
      ]
     },
     "metadata": {},
     "output_type": "display_data"
    }
   ],
   "source": [
    "plt.hist(df_copy['games_injured'])\n",
    "plt.title('games_injured')\n",
    "plt.xlabel('games_injured')\n",
    "plt.ylabel('Frequency')\n",
    "plt.show()"
   ]
  },
  {
   "cell_type": "code",
   "execution_count": 249,
   "id": "ce0e13aa",
   "metadata": {},
   "outputs": [],
   "source": [
    "df_copy = df_copy[df_copy[\"days_injured\"] <= 20]"
   ]
  },
  {
   "cell_type": "code",
   "execution_count": 250,
   "id": "4377131c",
   "metadata": {},
   "outputs": [
    {
     "data": {
      "image/png": "[encoded data removed]",
      "text/plain": [
       "<Figure size 640x480 with 1 Axes>"
      ]
     },
     "metadata": {},
     "output_type": "display_data"
    }
   ],
   "source": [
    "plt.hist(df_copy['games_injured'])\n",
    "plt.title('games_injured')\n",
    "plt.xlabel('games_injured')\n",
    "plt.ylabel('Frequency')\n",
    "plt.show()"
   ]
  },
  {
   "cell_type": "code",
   "execution_count": 251,
   "id": "4a040da7",
   "metadata": {},
   "outputs": [
    {
     "data": {
      "image/png": "[encoded data removed]",
      "text/plain": [
       "<Figure size 640x480 with 1 Axes>"
      ]
     },
     "metadata": {},
     "output_type": "display_data"
    }
   ],
   "source": [
    "plt.hist(df_copy['current_value'])\n",
    "plt.title('current_value')\n",
    "plt.xlabel('current_value')\n",
    "plt.ylabel('Frequency')\n",
    "plt.show()"
   ]
  },
  {
   "cell_type": "code",
   "execution_count": 254,
   "id": "29c8e9ab",
   "metadata": {},
   "outputs": [],
   "source": [
    "df_copy = df_copy[(df_copy[\"current_value\"] <= 10000000) & (df_copy[\"current_value\"] > 0)]\n",
    "\n"
   ]
  },
  {
   "cell_type": "code",
   "execution_count": 255,
   "id": "e735a196",
   "metadata": {},
   "outputs": [
    {
     "data": {
      "image/png": "[encoded data removed]",
      "text/plain": [
       "<Figure size 640x480 with 1 Axes>"
      ]
     },
     "metadata": {},
     "output_type": "display_data"
    }
   ],
   "source": [
    "plt.hist(df_copy['current_value'])\n",
    "plt.title('current_value')\n",
    "plt.xlabel('current_value')\n",
    "plt.ylabel('Frequency')\n",
    "plt.show()"
   ]
  },
  {
   "cell_type": "code",
   "execution_count": 257,
   "id": "553ed22c",
   "metadata": {},
   "outputs": [
    {
     "data": {
      "image/png": "[encoded data removed]",
      "text/plain": [
       "<Figure size 640x480 with 1 Axes>"
      ]
     },
     "metadata": {},
     "output_type": "display_data"
    }
   ],
   "source": [
    "plt.hist(df_copy['highest_value'])\n",
    "plt.title('height')\n",
    "plt.xlabel('height')\n",
    "plt.ylabel('Frequency')\n",
    "plt.show()\n",
    "\n"
   ]
  },
  {
   "cell_type": "code",
   "execution_count": 260,
   "id": "f20d8d34",
   "metadata": {},
   "outputs": [],
   "source": [
    "# I think it is impossible to have 0 in \"highest_value\" \n",
    "df_copy = df_copy[(df_copy[\"highest_value\"] > 0 ) & (df_copy[\"highest_value\"] < 3300000)]\n"
   ]
  },
  {
   "cell_type": "code",
   "execution_count": 261,
   "id": "f30f15d7",
   "metadata": {},
   "outputs": [
    {
     "data": {
      "image/png": "[encoded data removed]",
      "text/plain": [
       "<Figure size 640x480 with 1 Axes>"
      ]
     },
     "metadata": {},
     "output_type": "display_data"
    }
   ],
   "source": [
    "plt.hist(df_copy['highest_value'])\n",
    "plt.title('highest_value')\n",
    "plt.xlabel('highest_value')\n",
    "plt.ylabel('Frequency')\n",
    "plt.show()\n",
    "\n"
   ]
  },
  {
   "cell_type": "code",
   "execution_count": 264,
   "id": "ae64934c",
   "metadata": {},
   "outputs": [],
   "source": [
    "df_copy.to_csv('copy.csv')"
   ]
  },
  {
   "cell_type": "code",
   "execution_count": 275,
   "id": "eba9696e",
   "metadata": {},
   "outputs": [
    {
     "data": {
      "text/html": [
       "<div>\n",
       "<style scoped>\n",
       "    .dataframe tbody tr th:only-of-type {\n",
       "        vertical-align: middle;\n",
       "    }\n",
       "\n",
       "    .dataframe tbody tr th {\n",
       "        vertical-align: top;\n",
       "    }\n",
       "\n",
       "    .dataframe thead th {\n",
       "        text-align: right;\n",
       "    }\n",
       "</style>\n",
       "<table border=\"1\" class=\"dataframe\">\n",
       "  <thead>\n",
       "    <tr style=\"text-align: right;\">\n",
       "      <th></th>\n",
       "      <th>name</th>\n",
       "      <th>height</th>\n",
       "      <th>age</th>\n",
       "      <th>appearance</th>\n",
       "      <th>goals</th>\n",
       "      <th>assists</th>\n",
       "      <th>yellow cards</th>\n",
       "      <th>second yellow cards</th>\n",
       "      <th>red cards</th>\n",
       "      <th>goals conceded</th>\n",
       "      <th>...</th>\n",
       "      <th>team_Wolverhampton Wanderers</th>\n",
       "      <th>team_Yokohama F. Marinos</th>\n",
       "      <th>team_Yokohama FC</th>\n",
       "      <th>team_Zenit St. Petersburg</th>\n",
       "      <th>team_Ümraniyespor</th>\n",
       "      <th>position_Attack</th>\n",
       "      <th>position_Defender</th>\n",
       "      <th>position_Goalkeeper</th>\n",
       "      <th>position_Midfielder</th>\n",
       "      <th>position_midfield</th>\n",
       "    </tr>\n",
       "  </thead>\n",
       "  <tbody>\n",
       "    <tr>\n",
       "      <th>0</th>\n",
       "      <td>David de Gea</td>\n",
       "      <td>189.0</td>\n",
       "      <td>32.0</td>\n",
       "      <td>104</td>\n",
       "      <td>0.0</td>\n",
       "      <td>0.0</td>\n",
       "      <td>0.009585</td>\n",
       "      <td>0.0</td>\n",
       "      <td>0.0</td>\n",
       "      <td>1.217252</td>\n",
       "      <td>...</td>\n",
       "      <td>False</td>\n",
       "      <td>False</td>\n",
       "      <td>False</td>\n",
       "      <td>False</td>\n",
       "      <td>False</td>\n",
       "      <td>False</td>\n",
       "      <td>False</td>\n",
       "      <td>True</td>\n",
       "      <td>False</td>\n",
       "      <td>False</td>\n",
       "    </tr>\n",
       "  </tbody>\n",
       "</table>\n",
       "<p>1 rows × 397 columns</p>\n",
       "</div>"
      ],
      "text/plain": [
       "           name  height   age  appearance  goals  assists  yellow cards  \\\n",
       "0  David de Gea   189.0  32.0         104    0.0      0.0      0.009585   \n",
       "\n",
       "   second yellow cards  red cards  goals conceded  ...  \\\n",
       "0                  0.0        0.0        1.217252  ...   \n",
       "\n",
       "   team_Wolverhampton Wanderers  team_Yokohama F. Marinos  team_Yokohama FC  \\\n",
       "0                         False                     False             False   \n",
       "\n",
       "   team_Zenit St. Petersburg  team_Ümraniyespor  position_Attack  \\\n",
       "0                      False              False            False   \n",
       "\n",
       "   position_Defender  position_Goalkeeper  position_Midfielder  \\\n",
       "0              False                 True                False   \n",
       "\n",
       "   position_midfield  \n",
       "0              False  \n",
       "\n",
       "[1 rows x 397 columns]"
      ]
     },
     "execution_count": 275,
     "metadata": {},
     "output_type": "execute_result"
    }
   ],
   "source": [
    "df_copy.head(1)"
   ]
  },
  {
   "cell_type": "code",
   "execution_count": 269,
   "id": "e9be206a",
   "metadata": {},
   "outputs": [],
   "source": [
    "categorical_features = ['team', 'position']\n",
    "numeric_features = ['height', 'age', 'appearance', 'goals', 'assists', 'yellow cards', 'second yellow cards', 'red cards',\n",
    "                     'minutes played', 'days_injured', 'games_injured', 'award','highest_value' ,'winger']"
   ]
  },
  {
   "cell_type": "code",
   "execution_count": 273,
   "id": "e925bb0c",
   "metadata": {},
   "outputs": [
    {
     "data": {
      "text/plain": [
       "(10754, 397)"
      ]
     },
     "execution_count": 273,
     "metadata": {},
     "output_type": "execute_result"
    }
   ],
   "source": [
    "df_copy.shape"
   ]
  },
  {
   "cell_type": "code",
   "execution_count": 290,
   "id": "f369f2fb",
   "metadata": {},
   "outputs": [
    {
     "data": {
      "text/html": [
       "<div>\n",
       "<style scoped>\n",
       "    .dataframe tbody tr th:only-of-type {\n",
       "        vertical-align: middle;\n",
       "    }\n",
       "\n",
       "    .dataframe tbody tr th {\n",
       "        vertical-align: top;\n",
       "    }\n",
       "\n",
       "    .dataframe thead th {\n",
       "        text-align: right;\n",
       "    }\n",
       "</style>\n",
       "<table border=\"1\" class=\"dataframe\">\n",
       "  <thead>\n",
       "    <tr style=\"text-align: right;\">\n",
       "      <th></th>\n",
       "      <th>name</th>\n",
       "      <th>height</th>\n",
       "      <th>age</th>\n",
       "      <th>appearance</th>\n",
       "      <th>goals</th>\n",
       "      <th>assists</th>\n",
       "      <th>yellow cards</th>\n",
       "      <th>second yellow cards</th>\n",
       "      <th>red cards</th>\n",
       "      <th>goals conceded</th>\n",
       "      <th>...</th>\n",
       "      <th>team_Wolverhampton Wanderers</th>\n",
       "      <th>team_Yokohama F. Marinos</th>\n",
       "      <th>team_Yokohama FC</th>\n",
       "      <th>team_Zenit St. Petersburg</th>\n",
       "      <th>team_Ümraniyespor</th>\n",
       "      <th>position_Attack</th>\n",
       "      <th>position_Defender</th>\n",
       "      <th>position_Goalkeeper</th>\n",
       "      <th>position_Midfielder</th>\n",
       "      <th>position_midfield</th>\n",
       "    </tr>\n",
       "  </thead>\n",
       "  <tbody>\n",
       "    <tr>\n",
       "      <th>0</th>\n",
       "      <td>David de Gea</td>\n",
       "      <td>189.0</td>\n",
       "      <td>32.0</td>\n",
       "      <td>104</td>\n",
       "      <td>0.000000</td>\n",
       "      <td>0.000000</td>\n",
       "      <td>0.009585</td>\n",
       "      <td>0.0</td>\n",
       "      <td>0.0</td>\n",
       "      <td>1.217252</td>\n",
       "      <td>...</td>\n",
       "      <td>False</td>\n",
       "      <td>False</td>\n",
       "      <td>False</td>\n",
       "      <td>False</td>\n",
       "      <td>False</td>\n",
       "      <td>False</td>\n",
       "      <td>False</td>\n",
       "      <td>True</td>\n",
       "      <td>False</td>\n",
       "      <td>False</td>\n",
       "    </tr>\n",
       "    <tr>\n",
       "      <th>1</th>\n",
       "      <td>Jack Butland</td>\n",
       "      <td>196.0</td>\n",
       "      <td>30.0</td>\n",
       "      <td>15</td>\n",
       "      <td>0.000000</td>\n",
       "      <td>0.000000</td>\n",
       "      <td>0.069018</td>\n",
       "      <td>0.0</td>\n",
       "      <td>0.0</td>\n",
       "      <td>1.242331</td>\n",
       "      <td>...</td>\n",
       "      <td>False</td>\n",
       "      <td>False</td>\n",
       "      <td>False</td>\n",
       "      <td>False</td>\n",
       "      <td>False</td>\n",
       "      <td>False</td>\n",
       "      <td>False</td>\n",
       "      <td>True</td>\n",
       "      <td>False</td>\n",
       "      <td>False</td>\n",
       "    </tr>\n",
       "    <tr>\n",
       "      <th>2</th>\n",
       "      <td>Tom Heaton</td>\n",
       "      <td>188.0</td>\n",
       "      <td>37.0</td>\n",
       "      <td>4</td>\n",
       "      <td>0.000000</td>\n",
       "      <td>0.000000</td>\n",
       "      <td>0.000000</td>\n",
       "      <td>0.0</td>\n",
       "      <td>0.0</td>\n",
       "      <td>0.616438</td>\n",
       "      <td>...</td>\n",
       "      <td>False</td>\n",
       "      <td>False</td>\n",
       "      <td>False</td>\n",
       "      <td>False</td>\n",
       "      <td>False</td>\n",
       "      <td>False</td>\n",
       "      <td>False</td>\n",
       "      <td>True</td>\n",
       "      <td>False</td>\n",
       "      <td>False</td>\n",
       "    </tr>\n",
       "    <tr>\n",
       "      <th>3</th>\n",
       "      <td>Lisandro Martínez</td>\n",
       "      <td>175.0</td>\n",
       "      <td>25.0</td>\n",
       "      <td>82</td>\n",
       "      <td>0.028090</td>\n",
       "      <td>0.056180</td>\n",
       "      <td>0.224719</td>\n",
       "      <td>0.0</td>\n",
       "      <td>0.0</td>\n",
       "      <td>0.000000</td>\n",
       "      <td>...</td>\n",
       "      <td>False</td>\n",
       "      <td>False</td>\n",
       "      <td>False</td>\n",
       "      <td>False</td>\n",
       "      <td>False</td>\n",
       "      <td>False</td>\n",
       "      <td>True</td>\n",
       "      <td>False</td>\n",
       "      <td>False</td>\n",
       "      <td>False</td>\n",
       "    </tr>\n",
       "    <tr>\n",
       "      <th>4</th>\n",
       "      <td>Raphaël Varane</td>\n",
       "      <td>191.0</td>\n",
       "      <td>30.0</td>\n",
       "      <td>63</td>\n",
       "      <td>0.017889</td>\n",
       "      <td>0.017889</td>\n",
       "      <td>0.053667</td>\n",
       "      <td>0.0</td>\n",
       "      <td>0.0</td>\n",
       "      <td>0.000000</td>\n",
       "      <td>...</td>\n",
       "      <td>False</td>\n",
       "      <td>False</td>\n",
       "      <td>False</td>\n",
       "      <td>False</td>\n",
       "      <td>False</td>\n",
       "      <td>False</td>\n",
       "      <td>True</td>\n",
       "      <td>False</td>\n",
       "      <td>False</td>\n",
       "      <td>False</td>\n",
       "    </tr>\n",
       "  </tbody>\n",
       "</table>\n",
       "<p>5 rows × 397 columns</p>\n",
       "</div>"
      ],
      "text/plain": [
       "                name  height   age  appearance     goals   assists  \\\n",
       "0       David de Gea   189.0  32.0         104  0.000000  0.000000   \n",
       "1       Jack Butland   196.0  30.0          15  0.000000  0.000000   \n",
       "2         Tom Heaton   188.0  37.0           4  0.000000  0.000000   \n",
       "3  Lisandro Martínez   175.0  25.0          82  0.028090  0.056180   \n",
       "4     Raphaël Varane   191.0  30.0          63  0.017889  0.017889   \n",
       "\n",
       "   yellow cards  second yellow cards  red cards  goals conceded  ...  \\\n",
       "0      0.009585                  0.0        0.0        1.217252  ...   \n",
       "1      0.069018                  0.0        0.0        1.242331  ...   \n",
       "2      0.000000                  0.0        0.0        0.616438  ...   \n",
       "3      0.224719                  0.0        0.0        0.000000  ...   \n",
       "4      0.053667                  0.0        0.0        0.000000  ...   \n",
       "\n",
       "   team_Wolverhampton Wanderers  team_Yokohama F. Marinos  team_Yokohama FC  \\\n",
       "0                         False                     False             False   \n",
       "1                         False                     False             False   \n",
       "2                         False                     False             False   \n",
       "3                         False                     False             False   \n",
       "4                         False                     False             False   \n",
       "\n",
       "   team_Zenit St. Petersburg  team_Ümraniyespor  position_Attack  \\\n",
       "0                      False              False            False   \n",
       "1                      False              False            False   \n",
       "2                      False              False            False   \n",
       "3                      False              False            False   \n",
       "4                      False              False            False   \n",
       "\n",
       "   position_Defender  position_Goalkeeper  position_Midfielder  \\\n",
       "0              False                 True                False   \n",
       "1              False                 True                False   \n",
       "2              False                 True                False   \n",
       "3               True                False                False   \n",
       "4               True                False                False   \n",
       "\n",
       "   position_midfield  \n",
       "0              False  \n",
       "1              False  \n",
       "2              False  \n",
       "3              False  \n",
       "4              False  \n",
       "\n",
       "[5 rows x 397 columns]"
      ]
     },
     "execution_count": 290,
     "metadata": {},
     "output_type": "execute_result"
    }
   ],
   "source": [
    "df_copy.head()"
   ]
  },
  {
   "cell_type": "code",
   "execution_count": 272,
   "id": "3fe50665",
   "metadata": {},
   "outputs": [],
   "source": [
    "# one hot coding\n",
    "df_copy = pd.get_dummies(df, columns=categorical_features)"
   ]
  },
  {
   "cell_type": "code",
   "execution_count": 292,
   "id": "1d9164f2",
   "metadata": {},
   "outputs": [],
   "source": [
    "df_num= df_copy.select_dtypes(include=['number'])\n",
    "\n",
    "correlation = df_num.corr()\n"
   ]
  },
  {
   "cell_type": "code",
   "execution_count": 294,
   "id": "577dc67d",
   "metadata": {},
   "outputs": [
    {
     "data": {
      "application/vnd.plotly.v1+json": {
       "config": {
        "plotlyServerURL": "https://plot.ly"
       },
       "data": [
        {
         "coloraxis": "coloraxis",
         "hovertemplate": "x: %{x}<br>y: %{y}<br>color: %{z}<extra></extra>",
         "name": "0",
         "texttemplate": "%{z}",
         "type": "heatmap",
         "x": [
          "height",
          "age",
          "appearance",
          "goals",
          "assists",
          "yellow cards",
          "second yellow cards",
          "red cards",
          "minutes played",
          "days_injured",
          "games_injured",
          "award",
          "current_value",
          "highest_value",
          "winger"
         ],
         "xaxis": "x",
         "y": [
          "height",
          "age",
          "appearance",
          "goals",
          "assists",
          "yellow cards",
          "second yellow cards",
          "red cards",
          "minutes played",
          "days_injured",
          "games_injured",
          "award",
          "current_value",
          "highest_value",
          "winger"
         ],
         "yaxis": "y",
         "z": [
          [
           1,
           0.06365177062399664,
           0.06064117796530149,
           -0.05596191995567038,
           -0.20244097239012585,
           -0.037973842890014806,
           -0.005112377267790255,
           -0.005693330834587812,
           0.13288709133909585,
           0.059391602514593494,
           0.05490228458323143,
           0.013976187563614465,
           0.04053536951754009,
           0.036775815070784965,
           -0.3817284891424665
          ],
          [
           0.06365177062399664,
           1,
           0.13984570316204029,
           -0.03480523499142448,
           -0.024155737226766286,
           0.007084651140658084,
           0.015528818868629416,
           0.0030739224584718653,
           0.16901954291171897,
           0.3242668136698668,
           0.3430294419641042,
           0.3634778240346164,
           -0.050156027958007145,
           0.123467992471881,
           -0.04780814221383221
          ],
          [
           0.06064117796530149,
           0.13984570316204029,
           1,
           0.13146910973781328,
           0.15718571139174078,
           -0.02309220136218782,
           -0.007435581864206469,
           -0.024513817959300906,
           0.9453647050164989,
           0.1273688317538078,
           0.1475276692604631,
           0.22213907382398823,
           0.4196560172857329,
           0.41839428950196145,
           0.03871349425480618
          ],
          [
           -0.05596191995567038,
           -0.03480523499142448,
           0.13146910973781328,
           1,
           0.21826607842831017,
           -0.01282615567809171,
           -0.013973822399569841,
           -0.013939615906933461,
           0.05086284262143017,
           0.03752650452164014,
           0.04169643166488461,
           0.09961670379483277,
           0.12157414357739328,
           0.1290373105798055,
           -0.0045808920138936116
          ],
          [
           -0.20244097239012585,
           -0.024155737226766286,
           0.15718571139174078,
           0.21826607842831017,
           1,
           -0.004430022435364644,
           0.01955117230515893,
           -0.013189257018372334,
           0.08113557860428834,
           0.039430781059278885,
           0.0493834584060061,
           0.09156940687651377,
           0.13741542318483033,
           0.14540734920208925,
           0.1775803177451147
          ],
          [
           -0.037973842890014806,
           0.007084651140658084,
           -0.02309220136218782,
           -0.01282615567809171,
           -0.004430022435364644,
           1,
           0.028738511449774313,
           -0.003006832450374126,
           -0.03965219543381791,
           0.011461279190382413,
           0.012892315281048998,
           -0.009051784838652379,
           -0.011765750454192465,
           -0.009772139078705153,
           0.010096957514843987
          ],
          [
           -0.005112377267790255,
           0.015528818868629416,
           -0.007435581864206469,
           -0.013973822399569841,
           0.01955117230515893,
           0.028738511449774313,
           1,
           -0.002562236730400304,
           -0.010411180064428541,
           0.00377173471096845,
           0.007089638095830511,
           -0.015230865700574631,
           -0.013888799122193518,
           -0.01415525181778358,
           -0.007258943435514449
          ],
          [
           -0.005693330834587812,
           0.0030739224584718653,
           -0.024513817959300906,
           -0.013939615906933461,
           -0.013189257018372334,
           -0.003006832450374126,
           -0.002562236730400304,
           1,
           -0.024401831151686735,
           -0.0036499999632001066,
           -0.004763994173827861,
           -0.007886203320530267,
           -0.010170675427942848,
           -0.007257397791433583,
           -0.007025725427656221
          ],
          [
           0.13288709133909585,
           0.16901954291171897,
           0.9453647050164989,
           0.05086284262143017,
           0.08113557860428834,
           -0.03965219543381791,
           -0.010411180064428541,
           -0.024401831151686735,
           1,
           0.10758169473880164,
           0.12367414230538609,
           0.2145503064119532,
           0.4205415722483409,
           0.3993889442873285,
           -0.006654584950208902
          ],
          [
           0.059391602514593494,
           0.3242668136698668,
           0.1273688317538078,
           0.03752650452164014,
           0.039430781059278885,
           0.011461279190382413,
           0.00377173471096845,
           -0.0036499999632001066,
           0.10758169473880164,
           1,
           0.9541727032958321,
           0.2551243162858293,
           0.10768631699782132,
           0.23435178331310053,
           0.000038755559444169515
          ],
          [
           0.05490228458323143,
           0.3430294419641042,
           0.1475276692604631,
           0.04169643166488461,
           0.0493834584060061,
           0.012892315281048998,
           0.007089638095830511,
           -0.004763994173827861,
           0.12367414230538609,
           0.9541727032958321,
           1,
           0.30845950191587673,
           0.1356542080017363,
           0.285244413573598,
           0.0021151333687671
          ],
          [
           0.013976187563614465,
           0.3634778240346164,
           0.22213907382398823,
           0.09961670379483277,
           0.09156940687651377,
           -0.009051784838652379,
           -0.015230865700574631,
           -0.007886203320530267,
           0.2145503064119532,
           0.2551243162858293,
           0.30845950191587673,
           1,
           0.3004535109105001,
           0.5286412421452018,
           -0.025471563079969964
          ],
          [
           0.04053536951754009,
           -0.050156027958007145,
           0.4196560172857329,
           0.12157414357739328,
           0.13741542318483033,
           -0.011765750454192465,
           -0.013888799122193518,
           -0.010170675427942848,
           0.4205415722483409,
           0.10768631699782132,
           0.1356542080017363,
           0.3004535109105001,
           1,
           0.8345530981111612,
           0.005034049467273422
          ],
          [
           0.036775815070784965,
           0.123467992471881,
           0.41839428950196145,
           0.1290373105798055,
           0.14540734920208925,
           -0.009772139078705153,
           -0.01415525181778358,
           -0.007257397791433583,
           0.3993889442873285,
           0.23435178331310053,
           0.285244413573598,
           0.5286412421452018,
           0.8345530981111612,
           1,
           0.0019441852109124897
          ],
          [
           -0.3817284891424665,
           -0.04780814221383221,
           0.03871349425480618,
           -0.0045808920138936116,
           0.1775803177451147,
           0.010096957514843987,
           -0.007258943435514449,
           -0.007025725427656221,
           -0.006654584950208902,
           0.000038755559444169515,
           0.0021151333687671,
           -0.025471563079969964,
           0.005034049467273422,
           0.0019441852109124897,
           1
          ]
         ]
        }
       ],
       "layout": {
        "coloraxis": {
         "colorscale": [
          [
           0,
           "#440154"
          ],
          [
           0.1111111111111111,
           "#482878"
          ],
          [
           0.2222222222222222,
           "#3e4989"
          ],
          [
           0.3333333333333333,
           "#31688e"
          ],
          [
           0.4444444444444444,
           "#26828e"
          ],
          [
           0.5555555555555556,
           "#1f9e89"
          ],
          [
           0.6666666666666666,
           "#35b779"
          ],
          [
           0.7777777777777778,
           "#6ece58"
          ],
          [
           0.8888888888888888,
           "#b5de2b"
          ],
          [
           1,
           "#fde725"
          ]
         ]
        },
        "height": 600,
        "margin": {
         "t": 60
        },
        "template": {
         "data": {
          "bar": [
           {
            "error_x": {
             "color": "#2a3f5f"
            },
            "error_y": {
             "color": "#2a3f5f"
            },
            "marker": {
             "line": {
              "color": "#E5ECF6",
              "width": 0.5
             },
             "pattern": {
              "fillmode": "overlay",
              "size": 10,
              "solidity": 0.2
             }
            },
            "type": "bar"
           }
          ],
          "barpolar": [
           {
            "marker": {
             "line": {
              "color": "#E5ECF6",
              "width": 0.5
             },
             "pattern": {
              "fillmode": "overlay",
              "size": 10,
              "solidity": 0.2
             }
            },
            "type": "barpolar"
           }
          ],
          "carpet": [
           {
            "aaxis": {
             "endlinecolor": "#2a3f5f",
             "gridcolor": "white",
             "linecolor": "white",
             "minorgridcolor": "white",
             "startlinecolor": "#2a3f5f"
            },
            "baxis": {
             "endlinecolor": "#2a3f5f",
             "gridcolor": "white",
             "linecolor": "white",
             "minorgridcolor": "white",
             "startlinecolor": "#2a3f5f"
            },
            "type": "carpet"
           }
          ],
          "choropleth": [
           {
            "colorbar": {
             "outlinewidth": 0,
             "ticks": ""
            },
            "type": "choropleth"
           }
          ],
          "contour": [
           {
            "colorbar": {
             "outlinewidth": 0,
             "ticks": ""
            },
            "colorscale": [
             [
              0,
              "#0d0887"
             ],
             [
              0.1111111111111111,
              "#46039f"
             ],
             [
              0.2222222222222222,
              "#7201a8"
             ],
             [
              0.3333333333333333,
              "#9c179e"
             ],
             [
              0.4444444444444444,
              "#bd3786"
             ],
             [
              0.5555555555555556,
              "#d8576b"
             ],
             [
              0.6666666666666666,
              "#ed7953"
             ],
             [
              0.7777777777777778,
              "#fb9f3a"
             ],
             [
              0.8888888888888888,
              "#fdca26"
             ],
             [
              1,
              "#f0f921"
             ]
            ],
            "type": "contour"
           }
          ],
          "contourcarpet": [
           {
            "colorbar": {
             "outlinewidth": 0,
             "ticks": ""
            },
            "type": "contourcarpet"
           }
          ],
          "heatmap": [
           {
            "colorbar": {
             "outlinewidth": 0,
             "ticks": ""
            },
            "colorscale": [
             [
              0,
              "#0d0887"
             ],
             [
              0.1111111111111111,
              "#46039f"
             ],
             [
              0.2222222222222222,
              "#7201a8"
             ],
             [
              0.3333333333333333,
              "#9c179e"
             ],
             [
              0.4444444444444444,
              "#bd3786"
             ],
             [
              0.5555555555555556,
              "#d8576b"
             ],
             [
              0.6666666666666666,
              "#ed7953"
             ],
             [
              0.7777777777777778,
              "#fb9f3a"
             ],
             [
              0.8888888888888888,
              "#fdca26"
             ],
             [
              1,
              "#f0f921"
             ]
            ],
            "type": "heatmap"
           }
          ],
          "heatmapgl": [
           {
            "colorbar": {
             "outlinewidth": 0,
             "ticks": ""
            },
            "colorscale": [
             [
              0,
              "#0d0887"
             ],
             [
              0.1111111111111111,
              "#46039f"
             ],
             [
              0.2222222222222222,
              "#7201a8"
             ],
             [
              0.3333333333333333,
              "#9c179e"
             ],
             [
              0.4444444444444444,
              "#bd3786"
             ],
             [
              0.5555555555555556,
              "#d8576b"
             ],
             [
              0.6666666666666666,
              "#ed7953"
             ],
             [
              0.7777777777777778,
              "#fb9f3a"
             ],
             [
              0.8888888888888888,
              "#fdca26"
             ],
             [
              1,
              "#f0f921"
             ]
            ],
            "type": "heatmapgl"
           }
          ],
          "histogram": [
           {
            "marker": {
             "pattern": {
              "fillmode": "overlay",
              "size": 10,
              "solidity": 0.2
             }
            },
            "type": "histogram"
           }
          ],
          "histogram2d": [
           {
            "colorbar": {
             "outlinewidth": 0,
             "ticks": ""
            },
            "colorscale": [
             [
              0,
              "#0d0887"
             ],
             [
              0.1111111111111111,
              "#46039f"
             ],
             [
              0.2222222222222222,
              "#7201a8"
             ],
             [
              0.3333333333333333,
              "#9c179e"
             ],
             [
              0.4444444444444444,
              "#bd3786"
             ],
             [
              0.5555555555555556,
              "#d8576b"
             ],
             [
              0.6666666666666666,
              "#ed7953"
             ],
             [
              0.7777777777777778,
              "#fb9f3a"
             ],
             [
              0.8888888888888888,
              "#fdca26"
             ],
             [
              1,
              "#f0f921"
             ]
            ],
            "type": "histogram2d"
           }
          ],
          "histogram2dcontour": [
           {
            "colorbar": {
             "outlinewidth": 0,
             "ticks": ""
            },
            "colorscale": [
             [
              0,
              "#0d0887"
             ],
             [
              0.1111111111111111,
              "#46039f"
             ],
             [
              0.2222222222222222,
              "#7201a8"
             ],
             [
              0.3333333333333333,
              "#9c179e"
             ],
             [
              0.4444444444444444,
              "#bd3786"
             ],
             [
              0.5555555555555556,
              "#d8576b"
             ],
             [
              0.6666666666666666,
              "#ed7953"
             ],
             [
              0.7777777777777778,
              "#fb9f3a"
             ],
             [
              0.8888888888888888,
              "#fdca26"
             ],
             [
              1,
              "#f0f921"
             ]
            ],
            "type": "histogram2dcontour"
           }
          ],
          "mesh3d": [
           {
            "colorbar": {
             "outlinewidth": 0,
             "ticks": ""
            },
            "type": "mesh3d"
           }
          ],
          "parcoords": [
           {
            "line": {
             "colorbar": {
              "outlinewidth": 0,
              "ticks": ""
             }
            },
            "type": "parcoords"
           }
          ],
          "pie": [
           {
            "automargin": true,
            "type": "pie"
           }
          ],
          "scatter": [
           {
            "fillpattern": {
             "fillmode": "overlay",
             "size": 10,
             "solidity": 0.2
            },
            "type": "scatter"
           }
          ],
          "scatter3d": [
           {
            "line": {
             "colorbar": {
              "outlinewidth": 0,
              "ticks": ""
             }
            },
            "marker": {
             "colorbar": {
              "outlinewidth": 0,
              "ticks": ""
             }
            },
            "type": "scatter3d"
           }
          ],
          "scattercarpet": [
           {
            "marker": {
             "colorbar": {
              "outlinewidth": 0,
              "ticks": ""
             }
            },
            "type": "scattercarpet"
           }
          ],
          "scattergeo": [
           {
            "marker": {
             "colorbar": {
              "outlinewidth": 0,
              "ticks": ""
             }
            },
            "type": "scattergeo"
           }
          ],
          "scattergl": [
           {
            "marker": {
             "colorbar": {
              "outlinewidth": 0,
              "ticks": ""
             }
            },
            "type": "scattergl"
           }
          ],
          "scattermapbox": [
           {
            "marker": {
             "colorbar": {
              "outlinewidth": 0,
              "ticks": ""
             }
            },
            "type": "scattermapbox"
           }
          ],
          "scatterpolar": [
           {
            "marker": {
             "colorbar": {
              "outlinewidth": 0,
              "ticks": ""
             }
            },
            "type": "scatterpolar"
           }
          ],
          "scatterpolargl": [
           {
            "marker": {
             "colorbar": {
              "outlinewidth": 0,
              "ticks": ""
             }
            },
            "type": "scatterpolargl"
           }
          ],
          "scatterternary": [
           {
            "marker": {
             "colorbar": {
              "outlinewidth": 0,
              "ticks": ""
             }
            },
            "type": "scatterternary"
           }
          ],
          "surface": [
           {
            "colorbar": {
             "outlinewidth": 0,
             "ticks": ""
            },
            "colorscale": [
             [
              0,
              "#0d0887"
             ],
             [
              0.1111111111111111,
              "#46039f"
             ],
             [
              0.2222222222222222,
              "#7201a8"
             ],
             [
              0.3333333333333333,
              "#9c179e"
             ],
             [
              0.4444444444444444,
              "#bd3786"
             ],
             [
              0.5555555555555556,
              "#d8576b"
             ],
             [
              0.6666666666666666,
              "#ed7953"
             ],
             [
              0.7777777777777778,
              "#fb9f3a"
             ],
             [
              0.8888888888888888,
              "#fdca26"
             ],
             [
              1,
              "#f0f921"
             ]
            ],
            "type": "surface"
           }
          ],
          "table": [
           {
            "cells": {
             "fill": {
              "color": "#EBF0F8"
             },
             "line": {
              "color": "white"
             }
            },
            "header": {
             "fill": {
              "color": "#C8D4E3"
             },
             "line": {
              "color": "white"
             }
            },
            "type": "table"
           }
          ]
         },
         "layout": {
          "annotationdefaults": {
           "arrowcolor": "#2a3f5f",
           "arrowhead": 0,
           "arrowwidth": 1
          },
          "autotypenumbers": "strict",
          "coloraxis": {
           "colorbar": {
            "outlinewidth": 0,
            "ticks": ""
           }
          },
          "colorscale": {
           "diverging": [
            [
             0,
             "#8e0152"
            ],
            [
             0.1,
             "#c51b7d"
            ],
            [
             0.2,
             "#de77ae"
            ],
            [
             0.3,
             "#f1b6da"
            ],
            [
             0.4,
             "#fde0ef"
            ],
            [
             0.5,
             "#f7f7f7"
            ],
            [
             0.6,
             "#e6f5d0"
            ],
            [
             0.7,
             "#b8e186"
            ],
            [
             0.8,
             "#7fbc41"
            ],
            [
             0.9,
             "#4d9221"
            ],
            [
             1,
             "#276419"
            ]
           ],
           "sequential": [
            [
             0,
             "#0d0887"
            ],
            [
             0.1111111111111111,
             "#46039f"
            ],
            [
             0.2222222222222222,
             "#7201a8"
            ],
            [
             0.3333333333333333,
             "#9c179e"
            ],
            [
             0.4444444444444444,
             "#bd3786"
            ],
            [
             0.5555555555555556,
             "#d8576b"
            ],
            [
             0.6666666666666666,
             "#ed7953"
            ],
            [
             0.7777777777777778,
             "#fb9f3a"
            ],
            [
             0.8888888888888888,
             "#fdca26"
            ],
            [
             1,
             "#f0f921"
            ]
           ],
           "sequentialminus": [
            [
             0,
             "#0d0887"
            ],
            [
             0.1111111111111111,
             "#46039f"
            ],
            [
             0.2222222222222222,
             "#7201a8"
            ],
            [
             0.3333333333333333,
             "#9c179e"
            ],
            [
             0.4444444444444444,
             "#bd3786"
            ],
            [
             0.5555555555555556,
             "#d8576b"
            ],
            [
             0.6666666666666666,
             "#ed7953"
            ],
            [
             0.7777777777777778,
             "#fb9f3a"
            ],
            [
             0.8888888888888888,
             "#fdca26"
            ],
            [
             1,
             "#f0f921"
            ]
           ]
          },
          "colorway": [
           "#636efa",
           "#EF553B",
           "#00cc96",
           "#ab63fa",
           "#FFA15A",
           "#19d3f3",
           "#FF6692",
           "#B6E880",
           "#FF97FF",
           "#FECB52"
          ],
          "font": {
           "color": "#2a3f5f"
          },
          "geo": {
           "bgcolor": "white",
           "lakecolor": "white",
           "landcolor": "#E5ECF6",
           "showlakes": true,
           "showland": true,
           "subunitcolor": "white"
          },
          "hoverlabel": {
           "align": "left"
          },
          "hovermode": "closest",
          "mapbox": {
           "style": "light"
          },
          "paper_bgcolor": "white",
          "plot_bgcolor": "#E5ECF6",
          "polar": {
           "angularaxis": {
            "gridcolor": "white",
            "linecolor": "white",
            "ticks": ""
           },
           "bgcolor": "#E5ECF6",
           "radialaxis": {
            "gridcolor": "white",
            "linecolor": "white",
            "ticks": ""
           }
          },
          "scene": {
           "xaxis": {
            "backgroundcolor": "#E5ECF6",
            "gridcolor": "white",
            "gridwidth": 2,
            "linecolor": "white",
            "showbackground": true,
            "ticks": "",
            "zerolinecolor": "white"
           },
           "yaxis": {
            "backgroundcolor": "#E5ECF6",
            "gridcolor": "white",
            "gridwidth": 2,
            "linecolor": "white",
            "showbackground": true,
            "ticks": "",
            "zerolinecolor": "white"
           },
           "zaxis": {
            "backgroundcolor": "#E5ECF6",
            "gridcolor": "white",
            "gridwidth": 2,
            "linecolor": "white",
            "showbackground": true,
            "ticks": "",
            "zerolinecolor": "white"
           }
          },
          "shapedefaults": {
           "line": {
            "color": "#2a3f5f"
           }
          },
          "ternary": {
           "aaxis": {
            "gridcolor": "white",
            "linecolor": "white",
            "ticks": ""
           },
           "baxis": {
            "gridcolor": "white",
            "linecolor": "white",
            "ticks": ""
           },
           "bgcolor": "#E5ECF6",
           "caxis": {
            "gridcolor": "white",
            "linecolor": "white",
            "ticks": ""
           }
          },
          "title": {
           "x": 0.05
          },
          "xaxis": {
           "automargin": true,
           "gridcolor": "white",
           "linecolor": "white",
           "ticks": "",
           "title": {
            "standoff": 15
           },
           "zerolinecolor": "white",
           "zerolinewidth": 2
          },
          "yaxis": {
           "automargin": true,
           "gridcolor": "white",
           "linecolor": "white",
           "ticks": "",
           "title": {
            "standoff": 15
           },
           "zerolinecolor": "white",
           "zerolinewidth": 2
          }
         }
        },
        "width": 800,
        "xaxis": {
         "anchor": "y",
         "constrain": "domain",
         "domain": [
          0,
          1
         ],
         "scaleanchor": "y",
         "ticktext": [
          "height",
          "age",
          "appearance",
          "goals",
          "assists",
          "yellow cards",
          "second yellow cards",
          "red cards",
          "minutes played",
          "days_injured",
          "games_injured",
          "award",
          "current_value",
          "highest_value",
          "winger"
         ],
         "tickvals": [
          "height",
          "age",
          "appearance",
          "goals",
          "assists",
          "yellow cards",
          "second yellow cards",
          "red cards",
          "minutes played",
          "days_injured",
          "games_injured",
          "award",
          "current_value",
          "highest_value",
          "winger"
         ],
         "title": {
          "text": "Features"
         }
        },
        "yaxis": {
         "anchor": "x",
         "autorange": "reversed",
         "constrain": "domain",
         "domain": [
          0,
          1
         ],
         "ticktext": [
          "height",
          "age",
          "appearance",
          "goals",
          "assists",
          "yellow cards",
          "second yellow cards",
          "red cards",
          "minutes played",
          "days_injured",
          "games_injured",
          "award",
          "current_value",
          "highest_value",
          "winger"
         ],
         "tickvals": [
          "height",
          "age",
          "appearance",
          "goals",
          "assists",
          "yellow cards",
          "second yellow cards",
          "red cards",
          "minutes played",
          "days_injured",
          "games_injured",
          "award",
          "current_value",
          "highest_value",
          "winger"
         ],
         "title": {
          "text": "Features"
         }
        }
       }
      }
     },
     "metadata": {},
     "output_type": "display_data"
    }
   ],
   "source": [
    "fig = px.imshow(correlation, text_auto=True, color_continuous_scale='Viridis')\n",
    "fig.update_layout(\n",
    "    width=800,  \n",
    "    height=600,  \n",
    "    xaxis_title='Features',\n",
    "    yaxis_title='Features',\n",
    "    xaxis=dict(tickvals=list(correlation.columns), ticktext=list(correlation.columns)),\n",
    "    yaxis=dict(tickvals=list(correlation.columns), ticktext=list(correlation.columns))\n",
    ")"
   ]
  },
  {
   "cell_type": "code",
   "execution_count": null,
   "id": "7bb2a436",
   "metadata": {},
   "outputs": [],
   "source": [
    "categorical_features = ['team', 'position']\n",
    "numeric_features = ['height', 'age', 'appearance', 'goals', 'assists', 'yellow cards', 'second yellow cards', 'red cards',\n",
    "                      'days_injured', 'games_injured', 'highest_value']"
   ]
  },
  {
   "cell_type": "code",
   "execution_count": 314,
   "id": "53768dff",
   "metadata": {},
   "outputs": [
    {
     "data": {
      "text/html": [
       "<div>\n",
       "<style scoped>\n",
       "    .dataframe tbody tr th:only-of-type {\n",
       "        vertical-align: middle;\n",
       "    }\n",
       "\n",
       "    .dataframe tbody tr th {\n",
       "        vertical-align: top;\n",
       "    }\n",
       "\n",
       "    .dataframe thead th {\n",
       "        text-align: right;\n",
       "    }\n",
       "</style>\n",
       "<table border=\"1\" class=\"dataframe\">\n",
       "  <thead>\n",
       "    <tr style=\"text-align: right;\">\n",
       "      <th></th>\n",
       "      <th>height</th>\n",
       "      <th>age</th>\n",
       "      <th>appearance</th>\n",
       "      <th>goals</th>\n",
       "      <th>assists</th>\n",
       "      <th>yellow cards</th>\n",
       "      <th>second yellow cards</th>\n",
       "      <th>red cards</th>\n",
       "      <th>days_injured</th>\n",
       "      <th>games_injured</th>\n",
       "      <th>...</th>\n",
       "      <th>team_Wolverhampton Wanderers</th>\n",
       "      <th>team_Yokohama F. Marinos</th>\n",
       "      <th>team_Yokohama FC</th>\n",
       "      <th>team_Zenit St. Petersburg</th>\n",
       "      <th>team_Ümraniyespor</th>\n",
       "      <th>position_Attack</th>\n",
       "      <th>position_Defender</th>\n",
       "      <th>position_Goalkeeper</th>\n",
       "      <th>position_Midfielder</th>\n",
       "      <th>position_midfield</th>\n",
       "    </tr>\n",
       "  </thead>\n",
       "  <tbody>\n",
       "    <tr>\n",
       "      <th>0</th>\n",
       "      <td>189.0</td>\n",
       "      <td>32.0</td>\n",
       "      <td>104</td>\n",
       "      <td>0.000000</td>\n",
       "      <td>0.000000</td>\n",
       "      <td>0.009585</td>\n",
       "      <td>0.0</td>\n",
       "      <td>0.0</td>\n",
       "      <td>42</td>\n",
       "      <td>5</td>\n",
       "      <td>...</td>\n",
       "      <td>False</td>\n",
       "      <td>False</td>\n",
       "      <td>False</td>\n",
       "      <td>False</td>\n",
       "      <td>False</td>\n",
       "      <td>False</td>\n",
       "      <td>False</td>\n",
       "      <td>True</td>\n",
       "      <td>False</td>\n",
       "      <td>False</td>\n",
       "    </tr>\n",
       "    <tr>\n",
       "      <th>1</th>\n",
       "      <td>196.0</td>\n",
       "      <td>30.0</td>\n",
       "      <td>15</td>\n",
       "      <td>0.000000</td>\n",
       "      <td>0.000000</td>\n",
       "      <td>0.069018</td>\n",
       "      <td>0.0</td>\n",
       "      <td>0.0</td>\n",
       "      <td>510</td>\n",
       "      <td>58</td>\n",
       "      <td>...</td>\n",
       "      <td>False</td>\n",
       "      <td>False</td>\n",
       "      <td>False</td>\n",
       "      <td>False</td>\n",
       "      <td>False</td>\n",
       "      <td>False</td>\n",
       "      <td>False</td>\n",
       "      <td>True</td>\n",
       "      <td>False</td>\n",
       "      <td>False</td>\n",
       "    </tr>\n",
       "    <tr>\n",
       "      <th>2</th>\n",
       "      <td>188.0</td>\n",
       "      <td>37.0</td>\n",
       "      <td>4</td>\n",
       "      <td>0.000000</td>\n",
       "      <td>0.000000</td>\n",
       "      <td>0.000000</td>\n",
       "      <td>0.0</td>\n",
       "      <td>0.0</td>\n",
       "      <td>697</td>\n",
       "      <td>84</td>\n",
       "      <td>...</td>\n",
       "      <td>False</td>\n",
       "      <td>False</td>\n",
       "      <td>False</td>\n",
       "      <td>False</td>\n",
       "      <td>False</td>\n",
       "      <td>False</td>\n",
       "      <td>False</td>\n",
       "      <td>True</td>\n",
       "      <td>False</td>\n",
       "      <td>False</td>\n",
       "    </tr>\n",
       "    <tr>\n",
       "      <th>3</th>\n",
       "      <td>175.0</td>\n",
       "      <td>25.0</td>\n",
       "      <td>82</td>\n",
       "      <td>0.028090</td>\n",
       "      <td>0.056180</td>\n",
       "      <td>0.224719</td>\n",
       "      <td>0.0</td>\n",
       "      <td>0.0</td>\n",
       "      <td>175</td>\n",
       "      <td>22</td>\n",
       "      <td>...</td>\n",
       "      <td>False</td>\n",
       "      <td>False</td>\n",
       "      <td>False</td>\n",
       "      <td>False</td>\n",
       "      <td>False</td>\n",
       "      <td>False</td>\n",
       "      <td>True</td>\n",
       "      <td>False</td>\n",
       "      <td>False</td>\n",
       "      <td>False</td>\n",
       "    </tr>\n",
       "    <tr>\n",
       "      <th>4</th>\n",
       "      <td>191.0</td>\n",
       "      <td>30.0</td>\n",
       "      <td>63</td>\n",
       "      <td>0.017889</td>\n",
       "      <td>0.017889</td>\n",
       "      <td>0.053667</td>\n",
       "      <td>0.0</td>\n",
       "      <td>0.0</td>\n",
       "      <td>238</td>\n",
       "      <td>51</td>\n",
       "      <td>...</td>\n",
       "      <td>False</td>\n",
       "      <td>False</td>\n",
       "      <td>False</td>\n",
       "      <td>False</td>\n",
       "      <td>False</td>\n",
       "      <td>False</td>\n",
       "      <td>True</td>\n",
       "      <td>False</td>\n",
       "      <td>False</td>\n",
       "      <td>False</td>\n",
       "    </tr>\n",
       "  </tbody>\n",
       "</table>\n",
       "<p>5 rows × 391 columns</p>\n",
       "</div>"
      ],
      "text/plain": [
       "   height   age  appearance     goals   assists  yellow cards  \\\n",
       "0   189.0  32.0         104  0.000000  0.000000      0.009585   \n",
       "1   196.0  30.0          15  0.000000  0.000000      0.069018   \n",
       "2   188.0  37.0           4  0.000000  0.000000      0.000000   \n",
       "3   175.0  25.0          82  0.028090  0.056180      0.224719   \n",
       "4   191.0  30.0          63  0.017889  0.017889      0.053667   \n",
       "\n",
       "   second yellow cards  red cards  days_injured  games_injured  ...  \\\n",
       "0                  0.0        0.0            42              5  ...   \n",
       "1                  0.0        0.0           510             58  ...   \n",
       "2                  0.0        0.0           697             84  ...   \n",
       "3                  0.0        0.0           175             22  ...   \n",
       "4                  0.0        0.0           238             51  ...   \n",
       "\n",
       "   team_Wolverhampton Wanderers  team_Yokohama F. Marinos  team_Yokohama FC  \\\n",
       "0                         False                     False             False   \n",
       "1                         False                     False             False   \n",
       "2                         False                     False             False   \n",
       "3                         False                     False             False   \n",
       "4                         False                     False             False   \n",
       "\n",
       "   team_Zenit St. Petersburg  team_Ümraniyespor  position_Attack  \\\n",
       "0                      False              False            False   \n",
       "1                      False              False            False   \n",
       "2                      False              False            False   \n",
       "3                      False              False            False   \n",
       "4                      False              False            False   \n",
       "\n",
       "   position_Defender  position_Goalkeeper  position_Midfielder  \\\n",
       "0              False                 True                False   \n",
       "1              False                 True                False   \n",
       "2              False                 True                False   \n",
       "3               True                False                False   \n",
       "4               True                False                False   \n",
       "\n",
       "   position_midfield  \n",
       "0              False  \n",
       "1              False  \n",
       "2              False  \n",
       "3              False  \n",
       "4              False  \n",
       "\n",
       "[5 rows x 391 columns]"
      ]
     },
     "execution_count": 314,
     "metadata": {},
     "output_type": "execute_result"
    }
   ],
   "source": [
    "df_copy.head()"
   ]
  },
  {
   "cell_type": "code",
   "execution_count": 299,
   "id": "04ac77d3",
   "metadata": {},
   "outputs": [],
   "source": [
    "#df_copy.drop(columns='name', inplace=True)\n",
    "df_copy.drop(columns='award', inplace=True)\n",
    "df_copy.drop(columns='minutes played', inplace=True)\n",
    "df_copy.drop(columns='winger', inplace=True)"
   ]
  },
  {
   "cell_type": "code",
   "execution_count": 300,
   "id": "d52b1206",
   "metadata": {},
   "outputs": [
    {
     "name": "stdout",
     "output_type": "stream",
     "text": [
      "current_value                1.000000\n",
      "highest_value                0.834553\n",
      "appearance                   0.419656\n",
      "team_Manchester City         0.208932\n",
      "team_Bayern Munich           0.180172\n",
      "                               ...   \n",
      "team_Daejeon Hana Citizen   -0.024307\n",
      "position_Defender           -0.024965\n",
      "position_midfield           -0.032972\n",
      "age                         -0.050156\n",
      "position_Goalkeeper         -0.077891\n",
      "Name: current_value, Length: 391, dtype: float64\n"
     ]
    }
   ],
   "source": [
    "correlation = df_copy.corr()\n",
    "print(correlation['current_value'].sort_values(ascending=False))"
   ]
  },
  {
   "cell_type": "code",
   "execution_count": 304,
   "id": "4c52978b",
   "metadata": {},
   "outputs": [
    {
     "data": {
      "text/plain": [
       "Index(['appearance', 'current_value', 'highest_value', 'team_Manchester City'], dtype='object')"
      ]
     },
     "execution_count": 304,
     "metadata": {},
     "output_type": "execute_result"
    }
   ],
   "source": [
    "# Set the correlation threshold\n",
    "threshold = 0.2  # You can change this value based on your requirement\n",
    "\n",
    "# Filter the correlations\n",
    "# We use `abs()` for absolute value to consider both strong positive and negative correlations\n",
    "selected_features = correlation[abs(correlation['current_value']) > threshold]['current_value'].index\n",
    "selected_features"
   ]
  },
  {
   "cell_type": "code",
   "execution_count": 305,
   "id": "b3cc8a37",
   "metadata": {},
   "outputs": [],
   "source": [
    "selected_features = ['appearance', 'current_value', 'highest_value', 'team_Manchester City']"
   ]
  },
  {
   "cell_type": "code",
   "execution_count": 326,
   "id": "fa52403f",
   "metadata": {},
   "outputs": [
    {
     "data": {
      "text/html": [
       "<div>\n",
       "<style scoped>\n",
       "    .dataframe tbody tr th:only-of-type {\n",
       "        vertical-align: middle;\n",
       "    }\n",
       "\n",
       "    .dataframe tbody tr th {\n",
       "        vertical-align: top;\n",
       "    }\n",
       "\n",
       "    .dataframe thead th {\n",
       "        text-align: right;\n",
       "    }\n",
       "</style>\n",
       "<table border=\"1\" class=\"dataframe\">\n",
       "  <thead>\n",
       "    <tr style=\"text-align: right;\">\n",
       "      <th></th>\n",
       "      <th>appearance</th>\n",
       "      <th>current_value</th>\n",
       "      <th>highest_value</th>\n",
       "      <th>team_Manchester City</th>\n",
       "    </tr>\n",
       "  </thead>\n",
       "  <tbody>\n",
       "    <tr>\n",
       "      <th>0</th>\n",
       "      <td>104</td>\n",
       "      <td>15000000</td>\n",
       "      <td>70000000</td>\n",
       "      <td>False</td>\n",
       "    </tr>\n",
       "    <tr>\n",
       "      <th>1</th>\n",
       "      <td>15</td>\n",
       "      <td>1500000</td>\n",
       "      <td>22000000</td>\n",
       "      <td>False</td>\n",
       "    </tr>\n",
       "    <tr>\n",
       "      <th>2</th>\n",
       "      <td>4</td>\n",
       "      <td>600000</td>\n",
       "      <td>6000000</td>\n",
       "      <td>False</td>\n",
       "    </tr>\n",
       "    <tr>\n",
       "      <th>3</th>\n",
       "      <td>82</td>\n",
       "      <td>50000000</td>\n",
       "      <td>50000000</td>\n",
       "      <td>False</td>\n",
       "    </tr>\n",
       "    <tr>\n",
       "      <th>4</th>\n",
       "      <td>63</td>\n",
       "      <td>40000000</td>\n",
       "      <td>80000000</td>\n",
       "      <td>False</td>\n",
       "    </tr>\n",
       "  </tbody>\n",
       "</table>\n",
       "</div>"
      ],
      "text/plain": [
       "   appearance  current_value  highest_value  team_Manchester City\n",
       "0         104       15000000       70000000                 False\n",
       "1          15        1500000       22000000                 False\n",
       "2           4         600000        6000000                 False\n",
       "3          82       50000000       50000000                 False\n",
       "4          63       40000000       80000000                 False"
      ]
     },
     "execution_count": 326,
     "metadata": {},
     "output_type": "execute_result"
    }
   ],
   "source": [
    "df_copy = df_copy[selected_features]\n",
    "df_copy.head()"
   ]
  },
  {
   "cell_type": "code",
   "execution_count": 327,
   "id": "d888b752",
   "metadata": {},
   "outputs": [],
   "source": [
    "from sklearn.compose import ColumnTransformer\n",
    "from sklearn.preprocessing import OneHotEncoder\n",
    "encoder = OneHotEncoder(handle_unknown='ignore')\n",
    "\n",
    "# Prepare data\n",
    "X = df_copy.drop(['current_value'], axis=1)\n",
    "y = df_copy['current_value']\n",
    "\n",
    "# Split data into training and testing sets\n",
    "X_train, X_test, y_train, y_test = train_test_split(X, y,\n",
    "                                                    test_size=0.2,\n",
    "                                                    shuffle=True,\n",
    "                                                    random_state=42)\n",
    "\n",
    "#sacle the data\n",
    "scaler = StandardScaler()\n",
    "scaler.fit(X_train)\n",
    "X_train_scaled = scaler.transform(X_train)\n",
    "X_test_scaled = scaler.transform(X_test)\n",
    "\n"
   ]
  },
  {
   "cell_type": "code",
   "execution_count": 328,
   "id": "94a02470",
   "metadata": {},
   "outputs": [
    {
     "data": {
      "text/plain": [
       "(10754, 3)"
      ]
     },
     "execution_count": 328,
     "metadata": {},
     "output_type": "execute_result"
    }
   ],
   "source": [
    "X.shape"
   ]
  },
  {
   "cell_type": "code",
   "execution_count": 329,
   "id": "c796c6c6",
   "metadata": {},
   "outputs": [],
   "source": [
    "model = LinearRegression()"
   ]
  },
  {
   "cell_type": "code",
   "execution_count": 330,
   "id": "54f904ad",
   "metadata": {},
   "outputs": [
    {
     "data": {
      "text/html": [
       "<style>#sk-container-id-2 {\n",
       "  /* Definition of color scheme common for light and dark mode */\n",
       "  --sklearn-color-text: black;\n",
       "  --sklearn-color-line: gray;\n",
       "  /* Definition of color scheme for unfitted estimators */\n",
       "  --sklearn-color-unfitted-level-0: #fff5e6;\n",
       "  --sklearn-color-unfitted-level-1: #f6e4d2;\n",
       "  --sklearn-color-unfitted-level-2: #ffe0b3;\n",
       "  --sklearn-color-unfitted-level-3: chocolate;\n",
       "  /* Definition of color scheme for fitted estimators */\n",
       "  --sklearn-color-fitted-level-0: #f0f8ff;\n",
       "  --sklearn-color-fitted-level-1: #d4ebff;\n",
       "  --sklearn-color-fitted-level-2: #b3dbfd;\n",
       "  --sklearn-color-fitted-level-3: cornflowerblue;\n",
       "\n",
       "  /* Specific color for light theme */\n",
       "  --sklearn-color-text-on-default-background: var(--sg-text-color, var(--theme-code-foreground, var(--jp-content-font-color1, black)));\n",
       "  --sklearn-color-background: var(--sg-background-color, var(--theme-background, var(--jp-layout-color0, white)));\n",
       "  --sklearn-color-border-box: var(--sg-text-color, var(--theme-code-foreground, var(--jp-content-font-color1, black)));\n",
       "  --sklearn-color-icon: #696969;\n",
       "\n",
       "  @media (prefers-color-scheme: dark) {\n",
       "    /* Redefinition of color scheme for dark theme */\n",
       "    --sklearn-color-text-on-default-background: var(--sg-text-color, var(--theme-code-foreground, var(--jp-content-font-color1, white)));\n",
       "    --sklearn-color-background: var(--sg-background-color, var(--theme-background, var(--jp-layout-color0, #111)));\n",
       "    --sklearn-color-border-box: var(--sg-text-color, var(--theme-code-foreground, var(--jp-content-font-color1, white)));\n",
       "    --sklearn-color-icon: #878787;\n",
       "  }\n",
       "}\n",
       "\n",
       "#sk-container-id-2 {\n",
       "  color: var(--sklearn-color-text);\n",
       "}\n",
       "\n",
       "#sk-container-id-2 pre {\n",
       "  padding: 0;\n",
       "}\n",
       "\n",
       "#sk-container-id-2 input.sk-hidden--visually {\n",
       "  border: 0;\n",
       "  clip: rect(1px 1px 1px 1px);\n",
       "  clip: rect(1px, 1px, 1px, 1px);\n",
       "  height: 1px;\n",
       "  margin: -1px;\n",
       "  overflow: hidden;\n",
       "  padding: 0;\n",
       "  position: absolute;\n",
       "  width: 1px;\n",
       "}\n",
       "\n",
       "#sk-container-id-2 div.sk-dashed-wrapped {\n",
       "  border: 1px dashed var(--sklearn-color-line);\n",
       "  margin: 0 0.4em 0.5em 0.4em;\n",
       "  box-sizing: border-box;\n",
       "  padding-bottom: 0.4em;\n",
       "  background-color: var(--sklearn-color-background);\n",
       "}\n",
       "\n",
       "#sk-container-id-2 div.sk-container {\n",
       "  /* jupyter's `normalize.less` sets `[hidden] { display: none; }`\n",
       "     but bootstrap.min.css set `[hidden] { display: none !important; }`\n",
       "     so we also need the `!important` here to be able to override the\n",
       "     default hidden behavior on the sphinx rendered scikit-learn.org.\n",
       "     See: https://github.com/scikit-learn/scikit-learn/issues/21755 */\n",
       "  display: inline-block !important;\n",
       "  position: relative;\n",
       "}\n",
       "\n",
       "#sk-container-id-2 div.sk-text-repr-fallback {\n",
       "  display: none;\n",
       "}\n",
       "\n",
       "div.sk-parallel-item,\n",
       "div.sk-serial,\n",
       "div.sk-item {\n",
       "  /* draw centered vertical line to link estimators */\n",
       "  background-image: linear-gradient(var(--sklearn-color-text-on-default-background), var(--sklearn-color-text-on-default-background));\n",
       "  background-size: 2px 100%;\n",
       "  background-repeat: no-repeat;\n",
       "  background-position: center center;\n",
       "}\n",
       "\n",
       "/* Parallel-specific style estimator block */\n",
       "\n",
       "#sk-container-id-2 div.sk-parallel-item::after {\n",
       "  content: \"\";\n",
       "  width: 100%;\n",
       "  border-bottom: 2px solid var(--sklearn-color-text-on-default-background);\n",
       "  flex-grow: 1;\n",
       "}\n",
       "\n",
       "#sk-container-id-2 div.sk-parallel {\n",
       "  display: flex;\n",
       "  align-items: stretch;\n",
       "  justify-content: center;\n",
       "  background-color: var(--sklearn-color-background);\n",
       "  position: relative;\n",
       "}\n",
       "\n",
       "#sk-container-id-2 div.sk-parallel-item {\n",
       "  display: flex;\n",
       "  flex-direction: column;\n",
       "}\n",
       "\n",
       "#sk-container-id-2 div.sk-parallel-item:first-child::after {\n",
       "  align-self: flex-end;\n",
       "  width: 50%;\n",
       "}\n",
       "\n",
       "#sk-container-id-2 div.sk-parallel-item:last-child::after {\n",
       "  align-self: flex-start;\n",
       "  width: 50%;\n",
       "}\n",
       "\n",
       "#sk-container-id-2 div.sk-parallel-item:only-child::after {\n",
       "  width: 0;\n",
       "}\n",
       "\n",
       "/* Serial-specific style estimator block */\n",
       "\n",
       "#sk-container-id-2 div.sk-serial {\n",
       "  display: flex;\n",
       "  flex-direction: column;\n",
       "  align-items: center;\n",
       "  background-color: var(--sklearn-color-background);\n",
       "  padding-right: 1em;\n",
       "  padding-left: 1em;\n",
       "}\n",
       "\n",
       "\n",
       "/* Toggleable style: style used for estimator/Pipeline/ColumnTransformer box that is\n",
       "clickable and can be expanded/collapsed.\n",
       "- Pipeline and ColumnTransformer use this feature and define the default style\n",
       "- Estimators will overwrite some part of the style using the `sk-estimator` class\n",
       "*/\n",
       "\n",
       "/* Pipeline and ColumnTransformer style (default) */\n",
       "\n",
       "#sk-container-id-2 div.sk-toggleable {\n",
       "  /* Default theme specific background. It is overwritten whether we have a\n",
       "  specific estimator or a Pipeline/ColumnTransformer */\n",
       "  background-color: var(--sklearn-color-background);\n",
       "}\n",
       "\n",
       "/* Toggleable label */\n",
       "#sk-container-id-2 label.sk-toggleable__label {\n",
       "  cursor: pointer;\n",
       "  display: block;\n",
       "  width: 100%;\n",
       "  margin-bottom: 0;\n",
       "  padding: 0.5em;\n",
       "  box-sizing: border-box;\n",
       "  text-align: center;\n",
       "}\n",
       "\n",
       "#sk-container-id-2 label.sk-toggleable__label-arrow:before {\n",
       "  /* Arrow on the left of the label */\n",
       "  content: \"▸\";\n",
       "  float: left;\n",
       "  margin-right: 0.25em;\n",
       "  color: var(--sklearn-color-icon);\n",
       "}\n",
       "\n",
       "#sk-container-id-2 label.sk-toggleable__label-arrow:hover:before {\n",
       "  color: var(--sklearn-color-text);\n",
       "}\n",
       "\n",
       "/* Toggleable content - dropdown */\n",
       "\n",
       "#sk-container-id-2 div.sk-toggleable__content {\n",
       "  max-height: 0;\n",
       "  max-width: 0;\n",
       "  overflow: hidden;\n",
       "  text-align: left;\n",
       "  /* unfitted */\n",
       "  background-color: var(--sklearn-color-unfitted-level-0);\n",
       "}\n",
       "\n",
       "#sk-container-id-2 div.sk-toggleable__content.fitted {\n",
       "  /* fitted */\n",
       "  background-color: var(--sklearn-color-fitted-level-0);\n",
       "}\n",
       "\n",
       "#sk-container-id-2 div.sk-toggleable__content pre {\n",
       "  margin: 0.2em;\n",
       "  border-radius: 0.25em;\n",
       "  color: var(--sklearn-color-text);\n",
       "  /* unfitted */\n",
       "  background-color: var(--sklearn-color-unfitted-level-0);\n",
       "}\n",
       "\n",
       "#sk-container-id-2 div.sk-toggleable__content.fitted pre {\n",
       "  /* unfitted */\n",
       "  background-color: var(--sklearn-color-fitted-level-0);\n",
       "}\n",
       "\n",
       "#sk-container-id-2 input.sk-toggleable__control:checked~div.sk-toggleable__content {\n",
       "  /* Expand drop-down */\n",
       "  max-height: 200px;\n",
       "  max-width: 100%;\n",
       "  overflow: auto;\n",
       "}\n",
       "\n",
       "#sk-container-id-2 input.sk-toggleable__control:checked~label.sk-toggleable__label-arrow:before {\n",
       "  content: \"▾\";\n",
       "}\n",
       "\n",
       "/* Pipeline/ColumnTransformer-specific style */\n",
       "\n",
       "#sk-container-id-2 div.sk-label input.sk-toggleable__control:checked~label.sk-toggleable__label {\n",
       "  color: var(--sklearn-color-text);\n",
       "  background-color: var(--sklearn-color-unfitted-level-2);\n",
       "}\n",
       "\n",
       "#sk-container-id-2 div.sk-label.fitted input.sk-toggleable__control:checked~label.sk-toggleable__label {\n",
       "  background-color: var(--sklearn-color-fitted-level-2);\n",
       "}\n",
       "\n",
       "/* Estimator-specific style */\n",
       "\n",
       "/* Colorize estimator box */\n",
       "#sk-container-id-2 div.sk-estimator input.sk-toggleable__control:checked~label.sk-toggleable__label {\n",
       "  /* unfitted */\n",
       "  background-color: var(--sklearn-color-unfitted-level-2);\n",
       "}\n",
       "\n",
       "#sk-container-id-2 div.sk-estimator.fitted input.sk-toggleable__control:checked~label.sk-toggleable__label {\n",
       "  /* fitted */\n",
       "  background-color: var(--sklearn-color-fitted-level-2);\n",
       "}\n",
       "\n",
       "#sk-container-id-2 div.sk-label label.sk-toggleable__label,\n",
       "#sk-container-id-2 div.sk-label label {\n",
       "  /* The background is the default theme color */\n",
       "  color: var(--sklearn-color-text-on-default-background);\n",
       "}\n",
       "\n",
       "/* On hover, darken the color of the background */\n",
       "#sk-container-id-2 div.sk-label:hover label.sk-toggleable__label {\n",
       "  color: var(--sklearn-color-text);\n",
       "  background-color: var(--sklearn-color-unfitted-level-2);\n",
       "}\n",
       "\n",
       "/* Label box, darken color on hover, fitted */\n",
       "#sk-container-id-2 div.sk-label.fitted:hover label.sk-toggleable__label.fitted {\n",
       "  color: var(--sklearn-color-text);\n",
       "  background-color: var(--sklearn-color-fitted-level-2);\n",
       "}\n",
       "\n",
       "/* Estimator label */\n",
       "\n",
       "#sk-container-id-2 div.sk-label label {\n",
       "  font-family: monospace;\n",
       "  font-weight: bold;\n",
       "  display: inline-block;\n",
       "  line-height: 1.2em;\n",
       "}\n",
       "\n",
       "#sk-container-id-2 div.sk-label-container {\n",
       "  text-align: center;\n",
       "}\n",
       "\n",
       "/* Estimator-specific */\n",
       "#sk-container-id-2 div.sk-estimator {\n",
       "  font-family: monospace;\n",
       "  border: 1px dotted var(--sklearn-color-border-box);\n",
       "  border-radius: 0.25em;\n",
       "  box-sizing: border-box;\n",
       "  margin-bottom: 0.5em;\n",
       "  /* unfitted */\n",
       "  background-color: var(--sklearn-color-unfitted-level-0);\n",
       "}\n",
       "\n",
       "#sk-container-id-2 div.sk-estimator.fitted {\n",
       "  /* fitted */\n",
       "  background-color: var(--sklearn-color-fitted-level-0);\n",
       "}\n",
       "\n",
       "/* on hover */\n",
       "#sk-container-id-2 div.sk-estimator:hover {\n",
       "  /* unfitted */\n",
       "  background-color: var(--sklearn-color-unfitted-level-2);\n",
       "}\n",
       "\n",
       "#sk-container-id-2 div.sk-estimator.fitted:hover {\n",
       "  /* fitted */\n",
       "  background-color: var(--sklearn-color-fitted-level-2);\n",
       "}\n",
       "\n",
       "/* Specification for estimator info (e.g. \"i\" and \"?\") */\n",
       "\n",
       "/* Common style for \"i\" and \"?\" */\n",
       "\n",
       ".sk-estimator-doc-link,\n",
       "a:link.sk-estimator-doc-link,\n",
       "a:visited.sk-estimator-doc-link {\n",
       "  float: right;\n",
       "  font-size: smaller;\n",
       "  line-height: 1em;\n",
       "  font-family: monospace;\n",
       "  background-color: var(--sklearn-color-background);\n",
       "  border-radius: 1em;\n",
       "  height: 1em;\n",
       "  width: 1em;\n",
       "  text-decoration: none !important;\n",
       "  margin-left: 1ex;\n",
       "  /* unfitted */\n",
       "  border: var(--sklearn-color-unfitted-level-1) 1pt solid;\n",
       "  color: var(--sklearn-color-unfitted-level-1);\n",
       "}\n",
       "\n",
       ".sk-estimator-doc-link.fitted,\n",
       "a:link.sk-estimator-doc-link.fitted,\n",
       "a:visited.sk-estimator-doc-link.fitted {\n",
       "  /* fitted */\n",
       "  border: var(--sklearn-color-fitted-level-1) 1pt solid;\n",
       "  color: var(--sklearn-color-fitted-level-1);\n",
       "}\n",
       "\n",
       "/* On hover */\n",
       "div.sk-estimator:hover .sk-estimator-doc-link:hover,\n",
       ".sk-estimator-doc-link:hover,\n",
       "div.sk-label-container:hover .sk-estimator-doc-link:hover,\n",
       ".sk-estimator-doc-link:hover {\n",
       "  /* unfitted */\n",
       "  background-color: var(--sklearn-color-unfitted-level-3);\n",
       "  color: var(--sklearn-color-background);\n",
       "  text-decoration: none;\n",
       "}\n",
       "\n",
       "div.sk-estimator.fitted:hover .sk-estimator-doc-link.fitted:hover,\n",
       ".sk-estimator-doc-link.fitted:hover,\n",
       "div.sk-label-container:hover .sk-estimator-doc-link.fitted:hover,\n",
       ".sk-estimator-doc-link.fitted:hover {\n",
       "  /* fitted */\n",
       "  background-color: var(--sklearn-color-fitted-level-3);\n",
       "  color: var(--sklearn-color-background);\n",
       "  text-decoration: none;\n",
       "}\n",
       "\n",
       "/* Span, style for the box shown on hovering the info icon */\n",
       ".sk-estimator-doc-link span {\n",
       "  display: none;\n",
       "  z-index: 9999;\n",
       "  position: relative;\n",
       "  font-weight: normal;\n",
       "  right: .2ex;\n",
       "  padding: .5ex;\n",
       "  margin: .5ex;\n",
       "  width: min-content;\n",
       "  min-width: 20ex;\n",
       "  max-width: 50ex;\n",
       "  color: var(--sklearn-color-text);\n",
       "  box-shadow: 2pt 2pt 4pt #999;\n",
       "  /* unfitted */\n",
       "  background: var(--sklearn-color-unfitted-level-0);\n",
       "  border: .5pt solid var(--sklearn-color-unfitted-level-3);\n",
       "}\n",
       "\n",
       ".sk-estimator-doc-link.fitted span {\n",
       "  /* fitted */\n",
       "  background: var(--sklearn-color-fitted-level-0);\n",
       "  border: var(--sklearn-color-fitted-level-3);\n",
       "}\n",
       "\n",
       ".sk-estimator-doc-link:hover span {\n",
       "  display: block;\n",
       "}\n",
       "\n",
       "/* \"?\"-specific style due to the `<a>` HTML tag */\n",
       "\n",
       "#sk-container-id-2 a.estimator_doc_link {\n",
       "  float: right;\n",
       "  font-size: 1rem;\n",
       "  line-height: 1em;\n",
       "  font-family: monospace;\n",
       "  background-color: var(--sklearn-color-background);\n",
       "  border-radius: 1rem;\n",
       "  height: 1rem;\n",
       "  width: 1rem;\n",
       "  text-decoration: none;\n",
       "  /* unfitted */\n",
       "  color: var(--sklearn-color-unfitted-level-1);\n",
       "  border: var(--sklearn-color-unfitted-level-1) 1pt solid;\n",
       "}\n",
       "\n",
       "#sk-container-id-2 a.estimator_doc_link.fitted {\n",
       "  /* fitted */\n",
       "  border: var(--sklearn-color-fitted-level-1) 1pt solid;\n",
       "  color: var(--sklearn-color-fitted-level-1);\n",
       "}\n",
       "\n",
       "/* On hover */\n",
       "#sk-container-id-2 a.estimator_doc_link:hover {\n",
       "  /* unfitted */\n",
       "  background-color: var(--sklearn-color-unfitted-level-3);\n",
       "  color: var(--sklearn-color-background);\n",
       "  text-decoration: none;\n",
       "}\n",
       "\n",
       "#sk-container-id-2 a.estimator_doc_link.fitted:hover {\n",
       "  /* fitted */\n",
       "  background-color: var(--sklearn-color-fitted-level-3);\n",
       "}\n",
       "</style><div id=\"sk-container-id-2\" class=\"sk-top-container\"><div class=\"sk-text-repr-fallback\"><pre>LinearRegression()</pre><b>In a Jupyter environment, please rerun this cell to show the HTML representation or trust the notebook. <br />On GitHub, the HTML representation is unable to render, please try loading this page with nbviewer.org.</b></div><div class=\"sk-container\" hidden><div class=\"sk-item\"><div class=\"sk-estimator fitted sk-toggleable\"><input class=\"sk-toggleable__control sk-hidden--visually\" id=\"sk-estimator-id-2\" type=\"checkbox\" checked><label for=\"sk-estimator-id-2\" class=\"sk-toggleable__label fitted sk-toggleable__label-arrow fitted\">&nbsp;&nbsp;LinearRegression<a class=\"sk-estimator-doc-link fitted\" rel=\"noreferrer\" target=\"_blank\" href=\"https://scikit-learn.org/1.5/modules/generated/sklearn.linear_model.LinearRegression.html\">?<span>Documentation for LinearRegression</span></a><span class=\"sk-estimator-doc-link fitted\">i<span>Fitted</span></span></label><div class=\"sk-toggleable__content fitted\"><pre>LinearRegression()</pre></div> </div></div></div></div>"
      ],
      "text/plain": [
       "LinearRegression()"
      ]
     },
     "execution_count": 330,
     "metadata": {},
     "output_type": "execute_result"
    }
   ],
   "source": [
    "# Fit the model on the training data\n",
    "model.fit(X_train_scaled, y_train)"
   ]
  },
  {
   "cell_type": "code",
   "execution_count": 331,
   "id": "3bcf4485",
   "metadata": {},
   "outputs": [],
   "source": [
    "# Predict and evaluate the model\n",
    "y_pred = model.predict(X_test_scaled)"
   ]
  },
  {
   "cell_type": "code",
   "execution_count": 332,
   "id": "d905edac",
   "metadata": {},
   "outputs": [
    {
     "data": {
      "text/plain": [
       "array([ 820392.08478622, 7033154.74562796,  550937.39422145])"
      ]
     },
     "execution_count": 332,
     "metadata": {},
     "output_type": "execute_result"
    }
   ],
   "source": [
    "model.coef_"
   ]
  },
  {
   "cell_type": "code",
   "execution_count": 333,
   "id": "e6b57a14",
   "metadata": {},
   "outputs": [
    {
     "data": {
      "text/html": [
       "<div>\n",
       "<style scoped>\n",
       "    .dataframe tbody tr th:only-of-type {\n",
       "        vertical-align: middle;\n",
       "    }\n",
       "\n",
       "    .dataframe tbody tr th {\n",
       "        vertical-align: top;\n",
       "    }\n",
       "\n",
       "    .dataframe thead th {\n",
       "        text-align: right;\n",
       "    }\n",
       "</style>\n",
       "<table border=\"1\" class=\"dataframe\">\n",
       "  <thead>\n",
       "    <tr style=\"text-align: right;\">\n",
       "      <th></th>\n",
       "      <th>Coefficient</th>\n",
       "    </tr>\n",
       "  </thead>\n",
       "  <tbody>\n",
       "    <tr>\n",
       "      <th>appearance</th>\n",
       "      <td>8.203921e+05</td>\n",
       "    </tr>\n",
       "    <tr>\n",
       "      <th>highest_value</th>\n",
       "      <td>7.033155e+06</td>\n",
       "    </tr>\n",
       "    <tr>\n",
       "      <th>team_Manchester City</th>\n",
       "      <td>5.509374e+05</td>\n",
       "    </tr>\n",
       "  </tbody>\n",
       "</table>\n",
       "</div>"
      ],
      "text/plain": [
       "                       Coefficient\n",
       "appearance            8.203921e+05\n",
       "highest_value         7.033155e+06\n",
       "team_Manchester City  5.509374e+05"
      ]
     },
     "execution_count": 333,
     "metadata": {},
     "output_type": "execute_result"
    }
   ],
   "source": [
    "coeff_df = pd.DataFrame(model.coef_,X.columns,columns=['Coefficient'])\n",
    "coeff_df"
   ]
  },
  {
   "cell_type": "code",
   "execution_count": 334,
   "id": "0917b746",
   "metadata": {},
   "outputs": [
    {
     "name": "stdout",
     "output_type": "stream",
     "text": [
      "3622354.992444496\n"
     ]
    }
   ],
   "source": [
    "print(model.intercept_) "
   ]
  },
  {
   "cell_type": "code",
   "execution_count": 338,
   "id": "8a0b07e2",
   "metadata": {},
   "outputs": [
    {
     "data": {
      "text/html": [
       "<style>#sk-container-id-3 {\n",
       "  /* Definition of color scheme common for light and dark mode */\n",
       "  --sklearn-color-text: black;\n",
       "  --sklearn-color-line: gray;\n",
       "  /* Definition of color scheme for unfitted estimators */\n",
       "  --sklearn-color-unfitted-level-0: #fff5e6;\n",
       "  --sklearn-color-unfitted-level-1: #f6e4d2;\n",
       "  --sklearn-color-unfitted-level-2: #ffe0b3;\n",
       "  --sklearn-color-unfitted-level-3: chocolate;\n",
       "  /* Definition of color scheme for fitted estimators */\n",
       "  --sklearn-color-fitted-level-0: #f0f8ff;\n",
       "  --sklearn-color-fitted-level-1: #d4ebff;\n",
       "  --sklearn-color-fitted-level-2: #b3dbfd;\n",
       "  --sklearn-color-fitted-level-3: cornflowerblue;\n",
       "\n",
       "  /* Specific color for light theme */\n",
       "  --sklearn-color-text-on-default-background: var(--sg-text-color, var(--theme-code-foreground, var(--jp-content-font-color1, black)));\n",
       "  --sklearn-color-background: var(--sg-background-color, var(--theme-background, var(--jp-layout-color0, white)));\n",
       "  --sklearn-color-border-box: var(--sg-text-color, var(--theme-code-foreground, var(--jp-content-font-color1, black)));\n",
       "  --sklearn-color-icon: #696969;\n",
       "\n",
       "  @media (prefers-color-scheme: dark) {\n",
       "    /* Redefinition of color scheme for dark theme */\n",
       "    --sklearn-color-text-on-default-background: var(--sg-text-color, var(--theme-code-foreground, var(--jp-content-font-color1, white)));\n",
       "    --sklearn-color-background: var(--sg-background-color, var(--theme-background, var(--jp-layout-color0, #111)));\n",
       "    --sklearn-color-border-box: var(--sg-text-color, var(--theme-code-foreground, var(--jp-content-font-color1, white)));\n",
       "    --sklearn-color-icon: #878787;\n",
       "  }\n",
       "}\n",
       "\n",
       "#sk-container-id-3 {\n",
       "  color: var(--sklearn-color-text);\n",
       "}\n",
       "\n",
       "#sk-container-id-3 pre {\n",
       "  padding: 0;\n",
       "}\n",
       "\n",
       "#sk-container-id-3 input.sk-hidden--visually {\n",
       "  border: 0;\n",
       "  clip: rect(1px 1px 1px 1px);\n",
       "  clip: rect(1px, 1px, 1px, 1px);\n",
       "  height: 1px;\n",
       "  margin: -1px;\n",
       "  overflow: hidden;\n",
       "  padding: 0;\n",
       "  position: absolute;\n",
       "  width: 1px;\n",
       "}\n",
       "\n",
       "#sk-container-id-3 div.sk-dashed-wrapped {\n",
       "  border: 1px dashed var(--sklearn-color-line);\n",
       "  margin: 0 0.4em 0.5em 0.4em;\n",
       "  box-sizing: border-box;\n",
       "  padding-bottom: 0.4em;\n",
       "  background-color: var(--sklearn-color-background);\n",
       "}\n",
       "\n",
       "#sk-container-id-3 div.sk-container {\n",
       "  /* jupyter's `normalize.less` sets `[hidden] { display: none; }`\n",
       "     but bootstrap.min.css set `[hidden] { display: none !important; }`\n",
       "     so we also need the `!important` here to be able to override the\n",
       "     default hidden behavior on the sphinx rendered scikit-learn.org.\n",
       "     See: https://github.com/scikit-learn/scikit-learn/issues/21755 */\n",
       "  display: inline-block !important;\n",
       "  position: relative;\n",
       "}\n",
       "\n",
       "#sk-container-id-3 div.sk-text-repr-fallback {\n",
       "  display: none;\n",
       "}\n",
       "\n",
       "div.sk-parallel-item,\n",
       "div.sk-serial,\n",
       "div.sk-item {\n",
       "  /* draw centered vertical line to link estimators */\n",
       "  background-image: linear-gradient(var(--sklearn-color-text-on-default-background), var(--sklearn-color-text-on-default-background));\n",
       "  background-size: 2px 100%;\n",
       "  background-repeat: no-repeat;\n",
       "  background-position: center center;\n",
       "}\n",
       "\n",
       "/* Parallel-specific style estimator block */\n",
       "\n",
       "#sk-container-id-3 div.sk-parallel-item::after {\n",
       "  content: \"\";\n",
       "  width: 100%;\n",
       "  border-bottom: 2px solid var(--sklearn-color-text-on-default-background);\n",
       "  flex-grow: 1;\n",
       "}\n",
       "\n",
       "#sk-container-id-3 div.sk-parallel {\n",
       "  display: flex;\n",
       "  align-items: stretch;\n",
       "  justify-content: center;\n",
       "  background-color: var(--sklearn-color-background);\n",
       "  position: relative;\n",
       "}\n",
       "\n",
       "#sk-container-id-3 div.sk-parallel-item {\n",
       "  display: flex;\n",
       "  flex-direction: column;\n",
       "}\n",
       "\n",
       "#sk-container-id-3 div.sk-parallel-item:first-child::after {\n",
       "  align-self: flex-end;\n",
       "  width: 50%;\n",
       "}\n",
       "\n",
       "#sk-container-id-3 div.sk-parallel-item:last-child::after {\n",
       "  align-self: flex-start;\n",
       "  width: 50%;\n",
       "}\n",
       "\n",
       "#sk-container-id-3 div.sk-parallel-item:only-child::after {\n",
       "  width: 0;\n",
       "}\n",
       "\n",
       "/* Serial-specific style estimator block */\n",
       "\n",
       "#sk-container-id-3 div.sk-serial {\n",
       "  display: flex;\n",
       "  flex-direction: column;\n",
       "  align-items: center;\n",
       "  background-color: var(--sklearn-color-background);\n",
       "  padding-right: 1em;\n",
       "  padding-left: 1em;\n",
       "}\n",
       "\n",
       "\n",
       "/* Toggleable style: style used for estimator/Pipeline/ColumnTransformer box that is\n",
       "clickable and can be expanded/collapsed.\n",
       "- Pipeline and ColumnTransformer use this feature and define the default style\n",
       "- Estimators will overwrite some part of the style using the `sk-estimator` class\n",
       "*/\n",
       "\n",
       "/* Pipeline and ColumnTransformer style (default) */\n",
       "\n",
       "#sk-container-id-3 div.sk-toggleable {\n",
       "  /* Default theme specific background. It is overwritten whether we have a\n",
       "  specific estimator or a Pipeline/ColumnTransformer */\n",
       "  background-color: var(--sklearn-color-background);\n",
       "}\n",
       "\n",
       "/* Toggleable label */\n",
       "#sk-container-id-3 label.sk-toggleable__label {\n",
       "  cursor: pointer;\n",
       "  display: block;\n",
       "  width: 100%;\n",
       "  margin-bottom: 0;\n",
       "  padding: 0.5em;\n",
       "  box-sizing: border-box;\n",
       "  text-align: center;\n",
       "}\n",
       "\n",
       "#sk-container-id-3 label.sk-toggleable__label-arrow:before {\n",
       "  /* Arrow on the left of the label */\n",
       "  content: \"▸\";\n",
       "  float: left;\n",
       "  margin-right: 0.25em;\n",
       "  color: var(--sklearn-color-icon);\n",
       "}\n",
       "\n",
       "#sk-container-id-3 label.sk-toggleable__label-arrow:hover:before {\n",
       "  color: var(--sklearn-color-text);\n",
       "}\n",
       "\n",
       "/* Toggleable content - dropdown */\n",
       "\n",
       "#sk-container-id-3 div.sk-toggleable__content {\n",
       "  max-height: 0;\n",
       "  max-width: 0;\n",
       "  overflow: hidden;\n",
       "  text-align: left;\n",
       "  /* unfitted */\n",
       "  background-color: var(--sklearn-color-unfitted-level-0);\n",
       "}\n",
       "\n",
       "#sk-container-id-3 div.sk-toggleable__content.fitted {\n",
       "  /* fitted */\n",
       "  background-color: var(--sklearn-color-fitted-level-0);\n",
       "}\n",
       "\n",
       "#sk-container-id-3 div.sk-toggleable__content pre {\n",
       "  margin: 0.2em;\n",
       "  border-radius: 0.25em;\n",
       "  color: var(--sklearn-color-text);\n",
       "  /* unfitted */\n",
       "  background-color: var(--sklearn-color-unfitted-level-0);\n",
       "}\n",
       "\n",
       "#sk-container-id-3 div.sk-toggleable__content.fitted pre {\n",
       "  /* unfitted */\n",
       "  background-color: var(--sklearn-color-fitted-level-0);\n",
       "}\n",
       "\n",
       "#sk-container-id-3 input.sk-toggleable__control:checked~div.sk-toggleable__content {\n",
       "  /* Expand drop-down */\n",
       "  max-height: 200px;\n",
       "  max-width: 100%;\n",
       "  overflow: auto;\n",
       "}\n",
       "\n",
       "#sk-container-id-3 input.sk-toggleable__control:checked~label.sk-toggleable__label-arrow:before {\n",
       "  content: \"▾\";\n",
       "}\n",
       "\n",
       "/* Pipeline/ColumnTransformer-specific style */\n",
       "\n",
       "#sk-container-id-3 div.sk-label input.sk-toggleable__control:checked~label.sk-toggleable__label {\n",
       "  color: var(--sklearn-color-text);\n",
       "  background-color: var(--sklearn-color-unfitted-level-2);\n",
       "}\n",
       "\n",
       "#sk-container-id-3 div.sk-label.fitted input.sk-toggleable__control:checked~label.sk-toggleable__label {\n",
       "  background-color: var(--sklearn-color-fitted-level-2);\n",
       "}\n",
       "\n",
       "/* Estimator-specific style */\n",
       "\n",
       "/* Colorize estimator box */\n",
       "#sk-container-id-3 div.sk-estimator input.sk-toggleable__control:checked~label.sk-toggleable__label {\n",
       "  /* unfitted */\n",
       "  background-color: var(--sklearn-color-unfitted-level-2);\n",
       "}\n",
       "\n",
       "#sk-container-id-3 div.sk-estimator.fitted input.sk-toggleable__control:checked~label.sk-toggleable__label {\n",
       "  /* fitted */\n",
       "  background-color: var(--sklearn-color-fitted-level-2);\n",
       "}\n",
       "\n",
       "#sk-container-id-3 div.sk-label label.sk-toggleable__label,\n",
       "#sk-container-id-3 div.sk-label label {\n",
       "  /* The background is the default theme color */\n",
       "  color: var(--sklearn-color-text-on-default-background);\n",
       "}\n",
       "\n",
       "/* On hover, darken the color of the background */\n",
       "#sk-container-id-3 div.sk-label:hover label.sk-toggleable__label {\n",
       "  color: var(--sklearn-color-text);\n",
       "  background-color: var(--sklearn-color-unfitted-level-2);\n",
       "}\n",
       "\n",
       "/* Label box, darken color on hover, fitted */\n",
       "#sk-container-id-3 div.sk-label.fitted:hover label.sk-toggleable__label.fitted {\n",
       "  color: var(--sklearn-color-text);\n",
       "  background-color: var(--sklearn-color-fitted-level-2);\n",
       "}\n",
       "\n",
       "/* Estimator label */\n",
       "\n",
       "#sk-container-id-3 div.sk-label label {\n",
       "  font-family: monospace;\n",
       "  font-weight: bold;\n",
       "  display: inline-block;\n",
       "  line-height: 1.2em;\n",
       "}\n",
       "\n",
       "#sk-container-id-3 div.sk-label-container {\n",
       "  text-align: center;\n",
       "}\n",
       "\n",
       "/* Estimator-specific */\n",
       "#sk-container-id-3 div.sk-estimator {\n",
       "  font-family: monospace;\n",
       "  border: 1px dotted var(--sklearn-color-border-box);\n",
       "  border-radius: 0.25em;\n",
       "  box-sizing: border-box;\n",
       "  margin-bottom: 0.5em;\n",
       "  /* unfitted */\n",
       "  background-color: var(--sklearn-color-unfitted-level-0);\n",
       "}\n",
       "\n",
       "#sk-container-id-3 div.sk-estimator.fitted {\n",
       "  /* fitted */\n",
       "  background-color: var(--sklearn-color-fitted-level-0);\n",
       "}\n",
       "\n",
       "/* on hover */\n",
       "#sk-container-id-3 div.sk-estimator:hover {\n",
       "  /* unfitted */\n",
       "  background-color: var(--sklearn-color-unfitted-level-2);\n",
       "}\n",
       "\n",
       "#sk-container-id-3 div.sk-estimator.fitted:hover {\n",
       "  /* fitted */\n",
       "  background-color: var(--sklearn-color-fitted-level-2);\n",
       "}\n",
       "\n",
       "/* Specification for estimator info (e.g. \"i\" and \"?\") */\n",
       "\n",
       "/* Common style for \"i\" and \"?\" */\n",
       "\n",
       ".sk-estimator-doc-link,\n",
       "a:link.sk-estimator-doc-link,\n",
       "a:visited.sk-estimator-doc-link {\n",
       "  float: right;\n",
       "  font-size: smaller;\n",
       "  line-height: 1em;\n",
       "  font-family: monospace;\n",
       "  background-color: var(--sklearn-color-background);\n",
       "  border-radius: 1em;\n",
       "  height: 1em;\n",
       "  width: 1em;\n",
       "  text-decoration: none !important;\n",
       "  margin-left: 1ex;\n",
       "  /* unfitted */\n",
       "  border: var(--sklearn-color-unfitted-level-1) 1pt solid;\n",
       "  color: var(--sklearn-color-unfitted-level-1);\n",
       "}\n",
       "\n",
       ".sk-estimator-doc-link.fitted,\n",
       "a:link.sk-estimator-doc-link.fitted,\n",
       "a:visited.sk-estimator-doc-link.fitted {\n",
       "  /* fitted */\n",
       "  border: var(--sklearn-color-fitted-level-1) 1pt solid;\n",
       "  color: var(--sklearn-color-fitted-level-1);\n",
       "}\n",
       "\n",
       "/* On hover */\n",
       "div.sk-estimator:hover .sk-estimator-doc-link:hover,\n",
       ".sk-estimator-doc-link:hover,\n",
       "div.sk-label-container:hover .sk-estimator-doc-link:hover,\n",
       ".sk-estimator-doc-link:hover {\n",
       "  /* unfitted */\n",
       "  background-color: var(--sklearn-color-unfitted-level-3);\n",
       "  color: var(--sklearn-color-background);\n",
       "  text-decoration: none;\n",
       "}\n",
       "\n",
       "div.sk-estimator.fitted:hover .sk-estimator-doc-link.fitted:hover,\n",
       ".sk-estimator-doc-link.fitted:hover,\n",
       "div.sk-label-container:hover .sk-estimator-doc-link.fitted:hover,\n",
       ".sk-estimator-doc-link.fitted:hover {\n",
       "  /* fitted */\n",
       "  background-color: var(--sklearn-color-fitted-level-3);\n",
       "  color: var(--sklearn-color-background);\n",
       "  text-decoration: none;\n",
       "}\n",
       "\n",
       "/* Span, style for the box shown on hovering the info icon */\n",
       ".sk-estimator-doc-link span {\n",
       "  display: none;\n",
       "  z-index: 9999;\n",
       "  position: relative;\n",
       "  font-weight: normal;\n",
       "  right: .2ex;\n",
       "  padding: .5ex;\n",
       "  margin: .5ex;\n",
       "  width: min-content;\n",
       "  min-width: 20ex;\n",
       "  max-width: 50ex;\n",
       "  color: var(--sklearn-color-text);\n",
       "  box-shadow: 2pt 2pt 4pt #999;\n",
       "  /* unfitted */\n",
       "  background: var(--sklearn-color-unfitted-level-0);\n",
       "  border: .5pt solid var(--sklearn-color-unfitted-level-3);\n",
       "}\n",
       "\n",
       ".sk-estimator-doc-link.fitted span {\n",
       "  /* fitted */\n",
       "  background: var(--sklearn-color-fitted-level-0);\n",
       "  border: var(--sklearn-color-fitted-level-3);\n",
       "}\n",
       "\n",
       ".sk-estimator-doc-link:hover span {\n",
       "  display: block;\n",
       "}\n",
       "\n",
       "/* \"?\"-specific style due to the `<a>` HTML tag */\n",
       "\n",
       "#sk-container-id-3 a.estimator_doc_link {\n",
       "  float: right;\n",
       "  font-size: 1rem;\n",
       "  line-height: 1em;\n",
       "  font-family: monospace;\n",
       "  background-color: var(--sklearn-color-background);\n",
       "  border-radius: 1rem;\n",
       "  height: 1rem;\n",
       "  width: 1rem;\n",
       "  text-decoration: none;\n",
       "  /* unfitted */\n",
       "  color: var(--sklearn-color-unfitted-level-1);\n",
       "  border: var(--sklearn-color-unfitted-level-1) 1pt solid;\n",
       "}\n",
       "\n",
       "#sk-container-id-3 a.estimator_doc_link.fitted {\n",
       "  /* fitted */\n",
       "  border: var(--sklearn-color-fitted-level-1) 1pt solid;\n",
       "  color: var(--sklearn-color-fitted-level-1);\n",
       "}\n",
       "\n",
       "/* On hover */\n",
       "#sk-container-id-3 a.estimator_doc_link:hover {\n",
       "  /* unfitted */\n",
       "  background-color: var(--sklearn-color-unfitted-level-3);\n",
       "  color: var(--sklearn-color-background);\n",
       "  text-decoration: none;\n",
       "}\n",
       "\n",
       "#sk-container-id-3 a.estimator_doc_link.fitted:hover {\n",
       "  /* fitted */\n",
       "  background-color: var(--sklearn-color-fitted-level-3);\n",
       "}\n",
       "</style><div id=\"sk-container-id-3\" class=\"sk-top-container\"><div class=\"sk-text-repr-fallback\"><pre>Lasso()</pre><b>In a Jupyter environment, please rerun this cell to show the HTML representation or trust the notebook. <br />On GitHub, the HTML representation is unable to render, please try loading this page with nbviewer.org.</b></div><div class=\"sk-container\" hidden><div class=\"sk-item\"><div class=\"sk-estimator fitted sk-toggleable\"><input class=\"sk-toggleable__control sk-hidden--visually\" id=\"sk-estimator-id-3\" type=\"checkbox\" checked><label for=\"sk-estimator-id-3\" class=\"sk-toggleable__label fitted sk-toggleable__label-arrow fitted\">&nbsp;&nbsp;Lasso<a class=\"sk-estimator-doc-link fitted\" rel=\"noreferrer\" target=\"_blank\" href=\"https://scikit-learn.org/1.5/modules/generated/sklearn.linear_model.Lasso.html\">?<span>Documentation for Lasso</span></a><span class=\"sk-estimator-doc-link fitted\">i<span>Fitted</span></span></label><div class=\"sk-toggleable__content fitted\"><pre>Lasso()</pre></div> </div></div></div></div>"
      ],
      "text/plain": [
       "Lasso()"
      ]
     },
     "execution_count": 338,
     "metadata": {},
     "output_type": "execute_result"
    }
   ],
   "source": [
    "from sklearn.linear_model import Lasso\n",
    "lasso_model = Lasso(alpha=1.0)\n",
    "lasso_model.fit(X_train, y_train)"
   ]
  },
  {
   "cell_type": "code",
   "execution_count": 339,
   "id": "b84c5f2a",
   "metadata": {},
   "outputs": [
    {
     "data": {
      "text/html": [
       "<div>\n",
       "<style scoped>\n",
       "    .dataframe tbody tr th:only-of-type {\n",
       "        vertical-align: middle;\n",
       "    }\n",
       "\n",
       "    .dataframe tbody tr th {\n",
       "        vertical-align: top;\n",
       "    }\n",
       "\n",
       "    .dataframe thead th {\n",
       "        text-align: right;\n",
       "    }\n",
       "</style>\n",
       "<table border=\"1\" class=\"dataframe\">\n",
       "  <thead>\n",
       "    <tr style=\"text-align: right;\">\n",
       "      <th></th>\n",
       "      <th>Coefficient</th>\n",
       "    </tr>\n",
       "  </thead>\n",
       "  <tbody>\n",
       "    <tr>\n",
       "      <th>appearance</th>\n",
       "      <td>3.089461e+04</td>\n",
       "    </tr>\n",
       "    <tr>\n",
       "      <th>highest_value</th>\n",
       "      <td>5.268568e-01</td>\n",
       "    </tr>\n",
       "    <tr>\n",
       "      <th>team_Manchester City</th>\n",
       "      <td>1.173581e+07</td>\n",
       "    </tr>\n",
       "  </tbody>\n",
       "</table>\n",
       "</div>"
      ],
      "text/plain": [
       "                       Coefficient\n",
       "appearance            3.089461e+04\n",
       "highest_value         5.268568e-01\n",
       "team_Manchester City  1.173581e+07"
      ]
     },
     "execution_count": 339,
     "metadata": {},
     "output_type": "execute_result"
    }
   ],
   "source": [
    "\n",
    "coeff_df = pd.DataFrame(lasso_model.coef_,X.columns,columns=['Coefficient'])\n",
    "coeff_df"
   ]
  },
  {
   "cell_type": "code",
   "execution_count": 340,
   "id": "d114c656",
   "metadata": {},
   "outputs": [
    {
     "name": "stdout",
     "output_type": "stream",
     "text": [
      "R Square for training: 0.7007334013218037\n",
      "R Square for testing: 0.7210254214017041\n"
     ]
    }
   ],
   "source": [
    "r2_score_train = r2_score(y_train, model.predict(X_train_scaled))\n",
    "r2_score_test = r2_score(y_test, y_pred)\n",
    "print(f'R Square for training: {r2_score_train}')\n",
    "print(f'R Square for testing: {r2_score_test}')"
   ]
  },
  {
   "cell_type": "code",
   "execution_count": 342,
   "id": "7a09384c",
   "metadata": {},
   "outputs": [],
   "source": [
    "predictions = model.predict(X_test_scaled)\n",
    "#predictions"
   ]
  },
  {
   "cell_type": "code",
   "execution_count": 343,
   "id": "3bcb8832",
   "metadata": {},
   "outputs": [],
   "source": [
    "Real_Values = np.array(y_test)\n",
    "#Real_Values"
   ]
  },
  {
   "cell_type": "code",
   "execution_count": 344,
   "id": "bbc78a0d",
   "metadata": {},
   "outputs": [
    {
     "data": {
      "image/png": "[encoded data removed]",
      "text/plain": [
       "<Figure size 640x480 with 1 Axes>"
      ]
     },
     "metadata": {},
     "output_type": "display_data"
    }
   ],
   "source": [
    "plt.scatter(Real_Values,predictions); "
   ]
  },
  {
   "cell_type": "code",
   "execution_count": 345,
   "id": "921cab26",
   "metadata": {},
   "outputs": [
    {
     "name": "stderr",
     "output_type": "stream",
     "text": [
      "C:\\Users\\Dani_\\AppData\\Local\\Temp\\ipykernel_15388\\3949530067.py:1: UserWarning:\n",
      "\n",
      "\n",
      "\n",
      "`distplot` is a deprecated function and will be removed in seaborn v0.14.0.\n",
      "\n",
      "Please adapt your code to use either `displot` (a figure-level function with\n",
      "similar flexibility) or `histplot` (an axes-level function for histograms).\n",
      "\n",
      "For a guide to updating your code to use the new functions, please see\n",
      "https://gist.github.com/mwaskom/de44147ed2974457ad6372750bbe5751\n",
      "\n",
      "\n"
     ]
    },
    {
     "data": {
      "image/png": "[encoded data removed]",
      "text/plain": [
       "<Figure size 640x480 with 1 Axes>"
      ]
     },
     "metadata": {},
     "output_type": "display_data"
    }
   ],
   "source": [
    "sns.distplot((y_test-predictions),bins=50); # it's good if we get normal distribution"
   ]
  },
  {
   "cell_type": "code",
   "execution_count": null,
   "id": "d1257992",
   "metadata": {},
   "outputs": [],
   "source": []
  },
  {
   "cell_type": "code",
   "execution_count": null,
   "id": "31edec55",
   "metadata": {},
   "outputs": [],
   "source": []
  },
  {
   "cell_type": "code",
   "execution_count": null,
   "id": "03fcbc69",
   "metadata": {},
   "outputs": [],
   "source": [
    "plt.hist(df_copy['height'])\n",
    "plt.title('height')\n",
    "plt.xlabel('height')\n",
    "plt.ylabel('Frequency')\n",
    "plt.show()"
   ]
  },
  {
   "cell_type": "code",
   "execution_count": null,
   "id": "f3ff0a44",
   "metadata": {},
   "outputs": [],
   "source": [
    "plt.hist(df_copy['height'])\n",
    "plt.title('height')\n",
    "plt.xlabel('height')\n",
    "plt.ylabel('Frequency')\n",
    "plt.show()"
   ]
  },
  {
   "cell_type": "code",
   "execution_count": null,
   "id": "1eadaef6",
   "metadata": {},
   "outputs": [
    {
     "data": {
      "text/plain": [
       "array(['Goalkeeper', 'Defender Centre-Back', 'Defender Left-Back',\n",
       "       'Defender Right-Back', 'midfield-DefensiveMidfield',\n",
       "       'midfield-CentralMidfield', 'midfield-AttackingMidfield',\n",
       "       'Attack-LeftWinger', 'Attack-RightWinger', 'Attack Centre-Forward',\n",
       "       'midfield-RightMidfield', 'midfield-LeftMidfield',\n",
       "       'Attack-SecondStriker', 'midfield', 'Attack', 'Defender'],\n",
       "      dtype=object)"
      ]
     },
     "metadata": {},
     "output_type": "display_data"
    }
   ],
   "source": [
    "df['position'].unique()\n"
   ]
  },
  {
   "cell_type": "code",
   "execution_count": 64,
   "id": "f1d95da5-a3ba-473a-8243-aa177cadae20",
   "metadata": {},
   "outputs": [
    {
     "name": "stdout",
     "output_type": "stream",
     "text": [
      "<class 'pandas.core.frame.DataFrame'>\n",
      "Index: 9525 entries, 3 to 10753\n",
      "Data columns (total 18 columns):\n",
      " #   Column               Non-Null Count  Dtype  \n",
      "---  ------               --------------  -----  \n",
      " 0   team                 9525 non-null   object \n",
      " 1   name                 9525 non-null   object \n",
      " 2   position             9525 non-null   object \n",
      " 3   height               9525 non-null   float64\n",
      " 4   age                  9525 non-null   float64\n",
      " 5   appearance           9525 non-null   int64  \n",
      " 6   goals                9525 non-null   float64\n",
      " 7   assists              9525 non-null   float64\n",
      " 8   yellow cards         9525 non-null   float64\n",
      " 9   second yellow cards  9525 non-null   float64\n",
      " 10  red cards            9525 non-null   float64\n",
      " 11  minutes played       9525 non-null   int64  \n",
      " 12  days_injured         9525 non-null   int64  \n",
      " 13  games_injured        9525 non-null   int64  \n",
      " 14  award                9525 non-null   int64  \n",
      " 15  current_value        9525 non-null   int64  \n",
      " 16  highest_value        9525 non-null   int64  \n",
      " 17  winger               9525 non-null   int64  \n",
      "dtypes: float64(7), int64(8), object(3)\n",
      "memory usage: 1.4+ MB\n"
     ]
    }
   ],
   "source": [
    "df_copy.info()"
   ]
  },
  {
   "cell_type": "code",
   "execution_count": null,
   "id": "25a585f0-2b9c-42fa-bf21-cacc6aa3be3f",
   "metadata": {},
   "outputs": [],
   "source": [
    "plt.hist(df['height'])\n",
    "plt.title('height')\n",
    "plt.xlabel('height')\n",
    "plt.ylabel('Frequency')\n",
    "plt.show()"
   ]
  },
  {
   "cell_type": "markdown",
   "id": "98548b66-e309-4eb8-a5dc-65fe0abbf1e8",
   "metadata": {},
   "source": [
    "## 3. Univariate Analysis: \n",
    "\n",
    "This involves examining single variables to understand their characteristics (distribution, central tendency, dispersion, and shape).\n",
    "\n",
    "We calculate **numerical values** about the data that tells us about the distribution of the data. We also **draw graphs** showing visually how the data is distributed. **To answer the following questions about Features/characteristics of Data:**\n",
    "- Where is the center of the data? (location)\n",
    "- How much does the data vary? (scale)\n",
    "- What is the shape of the data? (shape)\n",
    "\n",
    "**The benefits of this analysis:**\n",
    "Statistics summary gives a high-level idea to identify whether the data has any outliers, data entry error, distribution of data such as the data is normally distributed or left/right skewed\n",
    "\n",
    "**In this step, we will explore variables one by one using following approaches:**"
   ]
  },
  {
   "cell_type": "markdown",
   "id": "d6718111-7ac2-4fff-9851-654655b62e0b",
   "metadata": {},
   "source": [
    "### 1. Univariate Graphical Analysis:\n",
    "Method to perform uni-variate analysis will depend on whether the variable type is categorical or numerical."
   ]
  },
  {
   "cell_type": "code",
   "execution_count": null,
   "id": "db79d803-b75c-4686-a623-e8420321a90f",
   "metadata": {},
   "outputs": [],
   "source": []
  },
  {
   "cell_type": "markdown",
   "id": "0d57c4b9-9bb3-494d-85dd-b8d39afda139",
   "metadata": {},
   "source": [
    "#### I. Categorical Variables:\n",
    "\n",
    "we’ll use frequency table to understand distribution of each category\n",
    "- Bar Chart (Ordinal) - Orderd\n",
    "- Pie Chart (Nominal) - non Orderd"
   ]
  },
  {
   "cell_type": "code",
   "execution_count": null,
   "id": "72ece4b7-5508-403a-8fb0-f519fc74272a",
   "metadata": {},
   "outputs": [],
   "source": []
  },
  {
   "cell_type": "markdown",
   "id": "d2641f0d-80f2-493b-99b7-15476379a1e2",
   "metadata": {},
   "source": [
    "#### II. Numerical Variables:\n",
    "\n",
    "we need to understand the central tendency and spread of the variable (Descriptive Analysis) using:\n",
    "   - Box plot\n",
    "   - Histogram"
   ]
  },
  {
   "cell_type": "code",
   "execution_count": null,
   "id": "5be16f08-a072-4a02-a3ee-6f9d57786fb4",
   "metadata": {},
   "outputs": [],
   "source": []
  },
  {
   "cell_type": "markdown",
   "id": "d66677d3-44ad-414f-9b39-f9c1995ad043",
   "metadata": {},
   "source": [
    "### 2. Univariate Non-Graphical analysis: \n",
    "\n",
    "- Where is the center of the data? (location) --> **Measures of central tendency**\n",
    "- How much does the data vary? (scale) --> **Measure of variability**\n",
    "- What is the shape of the data? (shape) --> **Measures of variation combined with an average (measure of center) gives a good picture of the distribution of the data.**"
   ]
  },
  {
   "cell_type": "code",
   "execution_count": null,
   "id": "f1058d84-e61e-4f5b-b66a-29931e77821b",
   "metadata": {},
   "outputs": [],
   "source": []
  },
  {
   "cell_type": "markdown",
   "id": "f09bb809-0edd-432b-bf23-abd0840b3e16",
   "metadata": {},
   "source": [
    "## 4. Bivariate/Multivariate Analysis:\n",
    "\n",
    "Here, you look at the relationships between two or more variables. This can involve looking for correlations, patterns, and trends that suggest a relationship or an association.\n",
    "\n",
    "We can perform bi-variate analysis for any combination of categorical and numerical variables. The combination can be:\n",
    "| bi-variate variables   | Plot type |\n",
    "| ------------- | ------------- |\n",
    "| Categorical & Categorical| Stacked Bar Chart |\n",
    "| Categorical & numerical  | scatter plot, histogram, box plot|\n",
    "| numerical  & numerical  | Scatter plot, line chart| \n",
    "\n",
    "\n",
    "Multivariate Analysis:\n",
    "- Heat map\n",
    "- Bar Chart\n",
    "- Scatter Chart\n",
    "- Line Chart"
   ]
  },
  {
   "cell_type": "markdown",
   "id": "838f2864-ce9e-4f15-99c8-052d053154a7",
   "metadata": {},
   "source": [
    "**Categorical & Categorical --> (Stacked Column Chart)**"
   ]
  },
  {
   "cell_type": "code",
   "execution_count": null,
   "id": "73f9f2ac-8477-49ea-9c68-4fe44d4395b6",
   "metadata": {},
   "outputs": [],
   "source": []
  },
  {
   "cell_type": "markdown",
   "id": "730e088f-fe13-40da-8fbb-686f5135fa4d",
   "metadata": {},
   "source": [
    "**Categorical & numerical --> (scatter plot, histogram, box plot)**"
   ]
  },
  {
   "cell_type": "code",
   "execution_count": null,
   "id": "3590e345-2051-4215-91ac-07d196b510ef",
   "metadata": {},
   "outputs": [],
   "source": []
  },
  {
   "cell_type": "markdown",
   "id": "20aed48d-b78e-46da-963f-e7f15e2f4dc7",
   "metadata": {},
   "source": [
    "**numerical & numerical --> (Scatter plot, line chart)**"
   ]
  },
  {
   "cell_type": "code",
   "execution_count": null,
   "id": "41023177-01cb-4f39-a750-12be71b13bda",
   "metadata": {},
   "outputs": [],
   "source": []
  },
  {
   "cell_type": "markdown",
   "id": "efb43b30-b1f0-48a4-a19c-195810cc8a0f",
   "metadata": {},
   "source": [
    "We could also use a correlation matrix to get more specific information about the relationship between these two variables."
   ]
  },
  {
   "cell_type": "code",
   "execution_count": null,
   "id": "8406f58f-b825-4a15-8f6e-c68ca66bd483",
   "metadata": {},
   "outputs": [],
   "source": []
  }
 ],
 "metadata": {
  "kernelspec": {
   "display_name": "Python 3",
   "language": "python",
   "name": "python3"
  },
  "language_info": {
   "codemirror_mode": {
    "name": "ipython",
    "version": 3
   },
   "file_extension": ".py",
   "mimetype": "text/x-python",
   "name": "python",
   "nbconvert_exporter": "python",
   "pygments_lexer": "ipython3",
   "version": "3.12.4"
  }
 },
 "nbformat": 4,
 "nbformat_minor": 5
}
