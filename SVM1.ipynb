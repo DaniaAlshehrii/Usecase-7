{
 "cells": [
  {
   "cell_type": "markdown",
   "metadata": {},
   "source": [
    "## Import Libraries"
   ]
  },
  {
   "cell_type": "code",
   "execution_count": 3,
   "metadata": {},
   "outputs": [],
   "source": [
    "# To ignore warnings\n",
    "import warnings\n",
    "warnings.filterwarnings(\"ignore\")\n",
    "import pandas as pd\n",
    "import numpy as np\n",
    "import matplotlib.pyplot as plt\n",
    "import seaborn as sns\n",
    "\n",
    "from sklearn.model_selection import train_test_split\n",
    "from sklearn.preprocessing import StandardScaler\n",
    "from sklearn.linear_model import LogisticRegression\n",
    "from sklearn.metrics import accuracy_score, confusion_matrix, precision_score, recall_score, f1_score\n",
    "from sklearn.model_selection import GridSearchCV\n",
    "from sklearn.preprocessing import LabelEncoder\n",
    "\n",
    "from sklearn import metrics\n",
    "\n",
    "%matplotlib inline"
   ]
  },
  {
   "cell_type": "markdown",
   "metadata": {},
   "source": [
    "## Load the Data"
   ]
  },
  {
   "cell_type": "code",
   "execution_count": 4,
   "metadata": {},
   "outputs": [
    {
     "data": {
      "text/html": [
       "<div>\n",
       "<style scoped>\n",
       "    .dataframe tbody tr th:only-of-type {\n",
       "        vertical-align: middle;\n",
       "    }\n",
       "\n",
       "    .dataframe tbody tr th {\n",
       "        vertical-align: top;\n",
       "    }\n",
       "\n",
       "    .dataframe thead th {\n",
       "        text-align: right;\n",
       "    }\n",
       "</style>\n",
       "<table border=\"1\" class=\"dataframe\">\n",
       "  <thead>\n",
       "    <tr style=\"text-align: right;\">\n",
       "      <th></th>\n",
       "      <th>player</th>\n",
       "      <th>team</th>\n",
       "      <th>name</th>\n",
       "      <th>position</th>\n",
       "      <th>height</th>\n",
       "      <th>age</th>\n",
       "      <th>appearance</th>\n",
       "      <th>goals</th>\n",
       "      <th>assists</th>\n",
       "      <th>yellow cards</th>\n",
       "      <th>...</th>\n",
       "      <th>goals conceded</th>\n",
       "      <th>clean sheets</th>\n",
       "      <th>minutes played</th>\n",
       "      <th>days_injured</th>\n",
       "      <th>games_injured</th>\n",
       "      <th>award</th>\n",
       "      <th>current_value</th>\n",
       "      <th>highest_value</th>\n",
       "      <th>position_encoded</th>\n",
       "      <th>winger</th>\n",
       "    </tr>\n",
       "  </thead>\n",
       "  <tbody>\n",
       "    <tr>\n",
       "      <th>0</th>\n",
       "      <td>/david-de-gea/profil/spieler/59377</td>\n",
       "      <td>Manchester United</td>\n",
       "      <td>David de Gea</td>\n",
       "      <td>Goalkeeper</td>\n",
       "      <td>189.0</td>\n",
       "      <td>32.0</td>\n",
       "      <td>104</td>\n",
       "      <td>0.000000</td>\n",
       "      <td>0.000000</td>\n",
       "      <td>0.009585</td>\n",
       "      <td>...</td>\n",
       "      <td>1.217252</td>\n",
       "      <td>0.335463</td>\n",
       "      <td>9390</td>\n",
       "      <td>42</td>\n",
       "      <td>5</td>\n",
       "      <td>13</td>\n",
       "      <td>15000000</td>\n",
       "      <td>70000000</td>\n",
       "      <td>1</td>\n",
       "      <td>0</td>\n",
       "    </tr>\n",
       "    <tr>\n",
       "      <th>1</th>\n",
       "      <td>/jack-butland/profil/spieler/128899</td>\n",
       "      <td>Manchester United</td>\n",
       "      <td>Jack Butland</td>\n",
       "      <td>Goalkeeper</td>\n",
       "      <td>196.0</td>\n",
       "      <td>30.0</td>\n",
       "      <td>15</td>\n",
       "      <td>0.000000</td>\n",
       "      <td>0.000000</td>\n",
       "      <td>0.069018</td>\n",
       "      <td>...</td>\n",
       "      <td>1.242331</td>\n",
       "      <td>0.207055</td>\n",
       "      <td>1304</td>\n",
       "      <td>510</td>\n",
       "      <td>58</td>\n",
       "      <td>1</td>\n",
       "      <td>1500000</td>\n",
       "      <td>22000000</td>\n",
       "      <td>1</td>\n",
       "      <td>0</td>\n",
       "    </tr>\n",
       "    <tr>\n",
       "      <th>2</th>\n",
       "      <td>/tom-heaton/profil/spieler/34130</td>\n",
       "      <td>Manchester United</td>\n",
       "      <td>Tom Heaton</td>\n",
       "      <td>Goalkeeper</td>\n",
       "      <td>188.0</td>\n",
       "      <td>37.0</td>\n",
       "      <td>4</td>\n",
       "      <td>0.000000</td>\n",
       "      <td>0.000000</td>\n",
       "      <td>0.000000</td>\n",
       "      <td>...</td>\n",
       "      <td>0.616438</td>\n",
       "      <td>0.924658</td>\n",
       "      <td>292</td>\n",
       "      <td>697</td>\n",
       "      <td>84</td>\n",
       "      <td>4</td>\n",
       "      <td>600000</td>\n",
       "      <td>6000000</td>\n",
       "      <td>1</td>\n",
       "      <td>0</td>\n",
       "    </tr>\n",
       "    <tr>\n",
       "      <th>3</th>\n",
       "      <td>/lisandro-martinez/profil/spieler/480762</td>\n",
       "      <td>Manchester United</td>\n",
       "      <td>Lisandro Martínez</td>\n",
       "      <td>Defender Centre-Back</td>\n",
       "      <td>175.0</td>\n",
       "      <td>25.0</td>\n",
       "      <td>82</td>\n",
       "      <td>0.028090</td>\n",
       "      <td>0.056180</td>\n",
       "      <td>0.224719</td>\n",
       "      <td>...</td>\n",
       "      <td>0.000000</td>\n",
       "      <td>0.000000</td>\n",
       "      <td>6408</td>\n",
       "      <td>175</td>\n",
       "      <td>22</td>\n",
       "      <td>9</td>\n",
       "      <td>50000000</td>\n",
       "      <td>50000000</td>\n",
       "      <td>2</td>\n",
       "      <td>0</td>\n",
       "    </tr>\n",
       "    <tr>\n",
       "      <th>4</th>\n",
       "      <td>/raphael-varane/profil/spieler/164770</td>\n",
       "      <td>Manchester United</td>\n",
       "      <td>Raphaël Varane</td>\n",
       "      <td>Defender Centre-Back</td>\n",
       "      <td>191.0</td>\n",
       "      <td>30.0</td>\n",
       "      <td>63</td>\n",
       "      <td>0.017889</td>\n",
       "      <td>0.017889</td>\n",
       "      <td>0.053667</td>\n",
       "      <td>...</td>\n",
       "      <td>0.000000</td>\n",
       "      <td>0.000000</td>\n",
       "      <td>5031</td>\n",
       "      <td>238</td>\n",
       "      <td>51</td>\n",
       "      <td>21</td>\n",
       "      <td>40000000</td>\n",
       "      <td>80000000</td>\n",
       "      <td>2</td>\n",
       "      <td>0</td>\n",
       "    </tr>\n",
       "  </tbody>\n",
       "</table>\n",
       "<p>5 rows × 22 columns</p>\n",
       "</div>"
      ],
      "text/plain": [
       "                                     player               team  \\\n",
       "0        /david-de-gea/profil/spieler/59377  Manchester United   \n",
       "1       /jack-butland/profil/spieler/128899  Manchester United   \n",
       "2          /tom-heaton/profil/spieler/34130  Manchester United   \n",
       "3  /lisandro-martinez/profil/spieler/480762  Manchester United   \n",
       "4     /raphael-varane/profil/spieler/164770  Manchester United   \n",
       "\n",
       "                name              position  height   age  appearance  \\\n",
       "0       David de Gea            Goalkeeper   189.0  32.0         104   \n",
       "1       Jack Butland            Goalkeeper   196.0  30.0          15   \n",
       "2         Tom Heaton            Goalkeeper   188.0  37.0           4   \n",
       "3  Lisandro Martínez  Defender Centre-Back   175.0  25.0          82   \n",
       "4     Raphaël Varane  Defender Centre-Back   191.0  30.0          63   \n",
       "\n",
       "      goals   assists  yellow cards  ...  goals conceded  clean sheets  \\\n",
       "0  0.000000  0.000000      0.009585  ...        1.217252      0.335463   \n",
       "1  0.000000  0.000000      0.069018  ...        1.242331      0.207055   \n",
       "2  0.000000  0.000000      0.000000  ...        0.616438      0.924658   \n",
       "3  0.028090  0.056180      0.224719  ...        0.000000      0.000000   \n",
       "4  0.017889  0.017889      0.053667  ...        0.000000      0.000000   \n",
       "\n",
       "   minutes played  days_injured  games_injured  award  current_value  \\\n",
       "0            9390            42              5     13       15000000   \n",
       "1            1304           510             58      1        1500000   \n",
       "2             292           697             84      4         600000   \n",
       "3            6408           175             22      9       50000000   \n",
       "4            5031           238             51     21       40000000   \n",
       "\n",
       "   highest_value  position_encoded  winger  \n",
       "0       70000000                 1       0  \n",
       "1       22000000                 1       0  \n",
       "2        6000000                 1       0  \n",
       "3       50000000                 2       0  \n",
       "4       80000000                 2       0  \n",
       "\n",
       "[5 rows x 22 columns]"
      ]
     },
     "execution_count": 4,
     "metadata": {},
     "output_type": "execute_result"
    }
   ],
   "source": [
    "df = pd.read_csv('final_data.csv')\n",
    "df.head()"
   ]
  },
  {
   "cell_type": "code",
   "execution_count": 5,
   "metadata": {},
   "outputs": [
    {
     "data": {
      "text/plain": [
       "(10754, 22)"
      ]
     },
     "execution_count": 5,
     "metadata": {},
     "output_type": "execute_result"
    }
   ],
   "source": [
    "df.shape"
   ]
  },
  {
   "cell_type": "markdown",
   "metadata": {},
   "source": [
    "## Preprocess the Data"
   ]
  },
  {
   "cell_type": "markdown",
   "metadata": {},
   "source": [
    "#### 1. Simple EDA + Data Quality checking"
   ]
  },
  {
   "cell_type": "markdown",
   "metadata": {},
   "source": [
    "Consistency\n"
   ]
  },
  {
   "cell_type": "code",
   "execution_count": 6,
   "metadata": {},
   "outputs": [
    {
     "data": {
      "text/plain": [
       "array(['Goalkeeper', 'Defender Centre-Back', 'Defender Left-Back',\n",
       "       'Defender Right-Back', 'midfield-DefensiveMidfield',\n",
       "       'midfield-CentralMidfield', 'midfield-AttackingMidfield',\n",
       "       'Attack-LeftWinger', 'Attack-RightWinger', 'Attack Centre-Forward',\n",
       "       'midfield-RightMidfield', 'midfield-LeftMidfield',\n",
       "       'Attack-SecondStriker', 'midfield', 'Attack', 'Defender'],\n",
       "      dtype=object)"
      ]
     },
     "execution_count": 6,
     "metadata": {},
     "output_type": "execute_result"
    }
   ],
   "source": [
    "df['position'].unique()"
   ]
  },
  {
   "cell_type": "code",
   "execution_count": 7,
   "metadata": {},
   "outputs": [],
   "source": [
    "#Unify the values in the position column based on the four categories: Goalkeeper, Defender, Midfield, Attack.\n",
    "df.loc[df['position'] == 'Defender Centre-Back', 'position'] = 'Defender'\n",
    "df.loc[df['position'] == 'Defender Left-Back', 'position'] = 'Defender'\n",
    "df.loc[df['position'] == 'Defender Right-Back', 'position'] = 'Defender'\n",
    "df.loc[df['position'] == 'midfield-DefensiveMidfield', 'position'] = 'Midfielder'\n",
    "df.loc[df['position'] == 'midfield-CentralMidfield', 'position'] = 'Midfielder'\n",
    "df.loc[df['position'] == 'midfield-AttackingMidfield', 'position'] = 'Midfielder'\n",
    "df.loc[df['position'] == 'midfield-LeftMidfield', 'position'] = 'Midfielder'\n",
    "df.loc[df['position'] == 'midfield', 'position'] = 'Midfielder'\n",
    "df.loc[df['position'] == 'midfield-RightMidfield', 'position'] = 'Midfielder'\n",
    "df.loc[df['position'] == 'Attack Centre-Forward', 'position'] = 'Attack'\n",
    "df.loc[df['position'] == 'Attack-RightWinger', 'position'] = 'Attack'\n",
    "df.loc[df['position'] == 'Attack-LeftWinger', 'position'] = 'Attack'\n",
    "df.loc[df['position'] == 'Attack-SecondStriker', 'position'] = 'Attack'"
   ]
  },
  {
   "cell_type": "code",
   "execution_count": 8,
   "metadata": {},
   "outputs": [
    {
     "data": {
      "text/plain": [
       "array(['Goalkeeper', 'Defender', 'Midfielder', 'Attack'], dtype=object)"
      ]
     },
     "execution_count": 8,
     "metadata": {},
     "output_type": "execute_result"
    }
   ],
   "source": [
    "df['position'].unique()"
   ]
  },
  {
   "cell_type": "markdown",
   "metadata": {},
   "source": [
    "Irrelevant columns"
   ]
  },
  {
   "cell_type": "code",
   "execution_count": 9,
   "metadata": {},
   "outputs": [],
   "source": [
    "#drop irrelevant columns\n",
    "df.drop(columns= 'player', inplace = True)\n",
    "df.drop(columns= 'name', inplace = True)\n",
    "df.drop(columns= 'position_encoded', inplace = True)"
   ]
  },
  {
   "cell_type": "markdown",
   "metadata": {},
   "source": [
    "Uniqeness"
   ]
  },
  {
   "cell_type": "code",
   "execution_count": 10,
   "metadata": {},
   "outputs": [
    {
     "data": {
      "text/html": [
       "<div>\n",
       "<style scoped>\n",
       "    .dataframe tbody tr th:only-of-type {\n",
       "        vertical-align: middle;\n",
       "    }\n",
       "\n",
       "    .dataframe tbody tr th {\n",
       "        vertical-align: top;\n",
       "    }\n",
       "\n",
       "    .dataframe thead th {\n",
       "        text-align: right;\n",
       "    }\n",
       "</style>\n",
       "<table border=\"1\" class=\"dataframe\">\n",
       "  <thead>\n",
       "    <tr style=\"text-align: right;\">\n",
       "      <th></th>\n",
       "      <th>team</th>\n",
       "      <th>position</th>\n",
       "      <th>height</th>\n",
       "      <th>age</th>\n",
       "      <th>appearance</th>\n",
       "      <th>goals</th>\n",
       "      <th>assists</th>\n",
       "      <th>yellow cards</th>\n",
       "      <th>second yellow cards</th>\n",
       "      <th>red cards</th>\n",
       "      <th>goals conceded</th>\n",
       "      <th>clean sheets</th>\n",
       "      <th>minutes played</th>\n",
       "      <th>days_injured</th>\n",
       "      <th>games_injured</th>\n",
       "      <th>award</th>\n",
       "      <th>current_value</th>\n",
       "      <th>highest_value</th>\n",
       "      <th>winger</th>\n",
       "    </tr>\n",
       "  </thead>\n",
       "  <tbody>\n",
       "  </tbody>\n",
       "</table>\n",
       "</div>"
      ],
      "text/plain": [
       "Empty DataFrame\n",
       "Columns: [team, position, height, age, appearance, goals, assists, yellow cards, second yellow cards, red cards, goals conceded, clean sheets, minutes played, days_injured, games_injured, award, current_value, highest_value, winger]\n",
       "Index: []"
      ]
     },
     "execution_count": 10,
     "metadata": {},
     "output_type": "execute_result"
    }
   ],
   "source": [
    "df[df.duplicated()]"
   ]
  },
  {
   "cell_type": "markdown",
   "metadata": {},
   "source": [
    "Completeness"
   ]
  },
  {
   "cell_type": "code",
   "execution_count": 11,
   "metadata": {},
   "outputs": [
    {
     "data": {
      "text/plain": [
       "team                   0\n",
       "position               0\n",
       "height                 0\n",
       "age                    0\n",
       "appearance             0\n",
       "goals                  0\n",
       "assists                0\n",
       "yellow cards           0\n",
       "second yellow cards    0\n",
       "red cards              0\n",
       "goals conceded         0\n",
       "clean sheets           0\n",
       "minutes played         0\n",
       "days_injured           0\n",
       "games_injured          0\n",
       "award                  0\n",
       "current_value          0\n",
       "highest_value          0\n",
       "winger                 0\n",
       "dtype: int64"
      ]
     },
     "execution_count": 11,
     "metadata": {},
     "output_type": "execute_result"
    }
   ],
   "source": [
    "df.isnull().sum()"
   ]
  },
  {
   "cell_type": "markdown",
   "metadata": {},
   "source": [
    " Check Accuracy"
   ]
  },
  {
   "cell_type": "code",
   "execution_count": 12,
   "metadata": {},
   "outputs": [
    {
     "data": {
      "text/plain": [
       "team                    object\n",
       "position                object\n",
       "height                 float64\n",
       "age                    float64\n",
       "appearance               int64\n",
       "goals                  float64\n",
       "assists                float64\n",
       "yellow cards           float64\n",
       "second yellow cards    float64\n",
       "red cards              float64\n",
       "goals conceded         float64\n",
       "clean sheets           float64\n",
       "minutes played           int64\n",
       "days_injured             int64\n",
       "games_injured            int64\n",
       "award                    int64\n",
       "current_value            int64\n",
       "highest_value            int64\n",
       "winger                   int64\n",
       "dtype: object"
      ]
     },
     "execution_count": 12,
     "metadata": {},
     "output_type": "execute_result"
    }
   ],
   "source": [
    "# columns types\n",
    "df.dtypes"
   ]
  },
  {
   "cell_type": "markdown",
   "metadata": {},
   "source": [
    "Outlier"
   ]
  },
  {
   "cell_type": "code",
   "execution_count": 13,
   "metadata": {},
   "outputs": [],
   "source": [
    "#I won't handle outliers manually; I will try to use RobustScaler to manage them"
   ]
  },
  {
   "cell_type": "code",
   "execution_count": 14,
   "metadata": {},
   "outputs": [],
   "source": [
    "# Convert categorical variables using OneHotEncoding\n",
    "categorical_features = ['team', 'position']\n",
    "numeric_features = ['height', 'age', 'appearance', 'goals', 'assists', 'yellow cards', 'second yellow cards', 'red cards',\n",
    "                    'goals conceded', 'clean sheets', 'minutes played', 'days_injured', 'games_injured', 'award', 'current_value', \n",
    "                    'highest_value', 'winger']"
   ]
  },
  {
   "cell_type": "code",
   "execution_count": 15,
   "metadata": {},
   "outputs": [
    {
     "name": "stdout",
     "output_type": "stream",
     "text": [
      "team\n",
      "Daejeon Hana Citizen      46\n",
      "Jeonbuk Hyundai Motors    46\n",
      "FC Seoul                  45\n",
      "Gangwon FC                43\n",
      "Daegu FC                  42\n",
      "                          ..\n",
      "FC Barcelona              22\n",
      "Atlético de Madrid        22\n",
      "CA Osasuna                22\n",
      "Hatayspor                 12\n",
      "Gaziantep FK               6\n",
      "Name: count, Length: 374, dtype: int64\n",
      "position\n",
      "Defender      3528\n",
      "Midfielder    3095\n",
      "Attack        2902\n",
      "Goalkeeper    1229\n",
      "Name: count, dtype: int64\n"
     ]
    }
   ],
   "source": [
    "#Understand categorical features Distribution\n",
    "for i in categorical_features:\n",
    "    print (df[i].value_counts())"
   ]
  },
  {
   "cell_type": "code",
   "execution_count": 16,
   "metadata": {},
   "outputs": [
    {
     "data": {
      "text/plain": [
       "array([[<Axes: title={'center': 'height'}>,\n",
       "        <Axes: title={'center': 'age'}>,\n",
       "        <Axes: title={'center': 'appearance'}>,\n",
       "        <Axes: title={'center': 'goals'}>],\n",
       "       [<Axes: title={'center': 'assists'}>,\n",
       "        <Axes: title={'center': 'yellow cards'}>,\n",
       "        <Axes: title={'center': 'second yellow cards'}>,\n",
       "        <Axes: title={'center': 'red cards'}>],\n",
       "       [<Axes: title={'center': 'goals conceded'}>,\n",
       "        <Axes: title={'center': 'clean sheets'}>,\n",
       "        <Axes: title={'center': 'minutes played'}>,\n",
       "        <Axes: title={'center': 'days_injured'}>],\n",
       "       [<Axes: title={'center': 'games_injured'}>,\n",
       "        <Axes: title={'center': 'award'}>,\n",
       "        <Axes: title={'center': 'current_value'}>,\n",
       "        <Axes: title={'center': 'highest_value'}>],\n",
       "       [<Axes: title={'center': 'winger'}>, <Axes: >, <Axes: >, <Axes: >]],\n",
       "      dtype=object)"
      ]
     },
     "execution_count": 16,
     "metadata": {},
     "output_type": "execute_result"
    },
    {
     "data": {
      "image/png": "[encoded data removed]",
      "text/plain": [
       "<Figure size 1600x2000 with 20 Axes>"
      ]
     },
     "metadata": {},
     "output_type": "display_data"
    }
   ],
   "source": [
    "#Visualize numeric features to Understand the Distribution\n",
    "df[numeric_features].hist(figsize=(16, 20), bins=50)"
   ]
  },
  {
   "cell_type": "markdown",
   "metadata": {},
   "source": [
    "#### 2. Feature engineering"
   ]
  },
  {
   "cell_type": "markdown",
   "metadata": {},
   "source": [
    "1. Feature scaling\n",
    "2. Aggregation\n",
    "3. One hot coding"
   ]
  },
  {
   "cell_type": "code",
   "execution_count": 17,
   "metadata": {},
   "outputs": [],
   "source": [
    "#Convert the column to its previous number before scaling and save it in a new column.\n",
    "multiply = ['goals', 'assists', 'yellow cards', 'second yellow cards', 'red cards', 'goals conceded', 'clean sheets']\n",
    "\n",
    "for column in multiply:\n",
    "    name = column.replace(' ', '_') + '_total'  \n",
    "    df[name] = (df[column] * df['appearance']).astype(int)\n"
   ]
  },
  {
   "cell_type": "code",
   "execution_count": 18,
   "metadata": {},
   "outputs": [
    {
     "data": {
      "text/plain": [
       "(10754, 26)"
      ]
     },
     "execution_count": 18,
     "metadata": {},
     "output_type": "execute_result"
    }
   ],
   "source": [
    "df.shape"
   ]
  },
  {
   "cell_type": "code",
   "execution_count": 19,
   "metadata": {},
   "outputs": [
    {
     "data": {
      "text/plain": [
       "Index(['team', 'position', 'height', 'age', 'appearance', 'goals', 'assists',\n",
       "       'yellow cards', 'second yellow cards', 'red cards', 'goals conceded',\n",
       "       'clean sheets', 'minutes played', 'days_injured', 'games_injured',\n",
       "       'award', 'current_value', 'highest_value', 'winger', 'goals_total',\n",
       "       'assists_total', 'yellow_cards_total', 'second_yellow_cards_total',\n",
       "       'red_cards_total', 'goals_conceded_total', 'clean_sheets_total'],\n",
       "      dtype='object')"
      ]
     },
     "execution_count": 19,
     "metadata": {},
     "output_type": "execute_result"
    }
   ],
   "source": [
    "df.columns"
   ]
  },
  {
   "cell_type": "code",
   "execution_count": 20,
   "metadata": {},
   "outputs": [],
   "source": [
    "# Create a binary column \n",
    "df['has_award'] = df['award'].apply(lambda x: 1 if x > 0 else 0)\n",
    "df['has_clean sheets'] = df['clean_sheets_total'].apply(lambda x: 1 if x > 0 else 0)\n",
    "df['has_second_yellow _ards'] = df['second_yellow_cards_total'].apply(lambda x: 1 if x > 0 else 0)\n",
    "df['has__yellow _ards'] = df['yellow_cards_total'].apply(lambda x: 1 if x > 0 else 0)\n",
    "df['has_red_cards'] = df['red_cards_total'].apply(lambda x: 1 if x > 0 else 0)\n",
    "df['has_conceded_goals'] = df['goals_conceded_total'].apply(lambda x: 1 if x > 0 else 0)\n",
    "df['never_injured'] = df['days_injured'].apply(lambda x: 1 if x > 0 else 0)\n",
    "df['never_play'] = df['appearance'].apply(lambda x: 1 if x > 0 else 0)\n",
    "df['Score'] = df['goals_total'].apply(lambda x: 1 if x > 0 else 0)\n",
    "df['has_assists'] = df['assists_total'].apply(lambda x: 1 if x > 0 else 0)\n"
   ]
  },
  {
   "cell_type": "code",
   "execution_count": 21,
   "metadata": {},
   "outputs": [
    {
     "data": {
      "text/plain": [
       "(10754, 36)"
      ]
     },
     "execution_count": 21,
     "metadata": {},
     "output_type": "execute_result"
    }
   ],
   "source": [
    "df.shape"
   ]
  },
  {
   "cell_type": "code",
   "execution_count": 22,
   "metadata": {},
   "outputs": [
    {
     "data": {
      "text/html": [
       "<div>\n",
       "<style scoped>\n",
       "    .dataframe tbody tr th:only-of-type {\n",
       "        vertical-align: middle;\n",
       "    }\n",
       "\n",
       "    .dataframe tbody tr th {\n",
       "        vertical-align: top;\n",
       "    }\n",
       "\n",
       "    .dataframe thead th {\n",
       "        text-align: right;\n",
       "    }\n",
       "</style>\n",
       "<table border=\"1\" class=\"dataframe\">\n",
       "  <thead>\n",
       "    <tr style=\"text-align: right;\">\n",
       "      <th></th>\n",
       "      <th>team</th>\n",
       "      <th>position</th>\n",
       "      <th>height</th>\n",
       "      <th>age</th>\n",
       "      <th>appearance</th>\n",
       "      <th>goals</th>\n",
       "      <th>assists</th>\n",
       "      <th>yellow cards</th>\n",
       "      <th>second yellow cards</th>\n",
       "      <th>red cards</th>\n",
       "      <th>...</th>\n",
       "      <th>has_award</th>\n",
       "      <th>has_clean sheets</th>\n",
       "      <th>has_second_yellow _ards</th>\n",
       "      <th>has__yellow _ards</th>\n",
       "      <th>has_red_cards</th>\n",
       "      <th>has_conceded_goals</th>\n",
       "      <th>never_injured</th>\n",
       "      <th>never_play</th>\n",
       "      <th>Score</th>\n",
       "      <th>has_assists</th>\n",
       "    </tr>\n",
       "  </thead>\n",
       "  <tbody>\n",
       "    <tr>\n",
       "      <th>0</th>\n",
       "      <td>Manchester United</td>\n",
       "      <td>Goalkeeper</td>\n",
       "      <td>189.0</td>\n",
       "      <td>32.0</td>\n",
       "      <td>104</td>\n",
       "      <td>0.0</td>\n",
       "      <td>0.0</td>\n",
       "      <td>0.009585</td>\n",
       "      <td>0.0</td>\n",
       "      <td>0.0</td>\n",
       "      <td>...</td>\n",
       "      <td>1</td>\n",
       "      <td>1</td>\n",
       "      <td>0</td>\n",
       "      <td>0</td>\n",
       "      <td>0</td>\n",
       "      <td>1</td>\n",
       "      <td>1</td>\n",
       "      <td>1</td>\n",
       "      <td>0</td>\n",
       "      <td>0</td>\n",
       "    </tr>\n",
       "    <tr>\n",
       "      <th>1</th>\n",
       "      <td>Manchester United</td>\n",
       "      <td>Goalkeeper</td>\n",
       "      <td>196.0</td>\n",
       "      <td>30.0</td>\n",
       "      <td>15</td>\n",
       "      <td>0.0</td>\n",
       "      <td>0.0</td>\n",
       "      <td>0.069018</td>\n",
       "      <td>0.0</td>\n",
       "      <td>0.0</td>\n",
       "      <td>...</td>\n",
       "      <td>1</td>\n",
       "      <td>1</td>\n",
       "      <td>0</td>\n",
       "      <td>1</td>\n",
       "      <td>0</td>\n",
       "      <td>1</td>\n",
       "      <td>1</td>\n",
       "      <td>1</td>\n",
       "      <td>0</td>\n",
       "      <td>0</td>\n",
       "    </tr>\n",
       "  </tbody>\n",
       "</table>\n",
       "<p>2 rows × 36 columns</p>\n",
       "</div>"
      ],
      "text/plain": [
       "                team    position  height   age  appearance  goals  assists  \\\n",
       "0  Manchester United  Goalkeeper   189.0  32.0         104    0.0      0.0   \n",
       "1  Manchester United  Goalkeeper   196.0  30.0          15    0.0      0.0   \n",
       "\n",
       "   yellow cards  second yellow cards  red cards  ...  has_award  \\\n",
       "0      0.009585                  0.0        0.0  ...          1   \n",
       "1      0.069018                  0.0        0.0  ...          1   \n",
       "\n",
       "   has_clean sheets  has_second_yellow _ards  has__yellow _ards  \\\n",
       "0                 1                        0                  0   \n",
       "1                 1                        0                  1   \n",
       "\n",
       "   has_red_cards  has_conceded_goals  never_injured  never_play  Score  \\\n",
       "0              0                   1              1           1      0   \n",
       "1              0                   1              1           1      0   \n",
       "\n",
       "   has_assists  \n",
       "0            0  \n",
       "1            0  \n",
       "\n",
       "[2 rows x 36 columns]"
      ]
     },
     "execution_count": 22,
     "metadata": {},
     "output_type": "execute_result"
    }
   ],
   "source": [
    "df.head(2)"
   ]
  },
  {
   "cell_type": "markdown",
   "metadata": {},
   "source": [
    "One hot coding\n"
   ]
  },
  {
   "cell_type": "code",
   "execution_count": 23,
   "metadata": {},
   "outputs": [
    {
     "data": {
      "text/plain": [
       "['team', 'position']"
      ]
     },
     "execution_count": 23,
     "metadata": {},
     "output_type": "execute_result"
    }
   ],
   "source": [
    "categorical_features"
   ]
  },
  {
   "cell_type": "code",
   "execution_count": 24,
   "metadata": {},
   "outputs": [],
   "source": [
    "df = pd.get_dummies(df, columns=categorical_features)"
   ]
  },
  {
   "cell_type": "code",
   "execution_count": 25,
   "metadata": {},
   "outputs": [
    {
     "data": {
      "text/plain": [
       "(10754, 412)"
      ]
     },
     "execution_count": 25,
     "metadata": {},
     "output_type": "execute_result"
    }
   ],
   "source": [
    "df.shape"
   ]
  },
  {
   "cell_type": "code",
   "execution_count": 26,
   "metadata": {},
   "outputs": [
    {
     "data": {
      "text/html": [
       "<div>\n",
       "<style scoped>\n",
       "    .dataframe tbody tr th:only-of-type {\n",
       "        vertical-align: middle;\n",
       "    }\n",
       "\n",
       "    .dataframe tbody tr th {\n",
       "        vertical-align: top;\n",
       "    }\n",
       "\n",
       "    .dataframe thead th {\n",
       "        text-align: right;\n",
       "    }\n",
       "</style>\n",
       "<table border=\"1\" class=\"dataframe\">\n",
       "  <thead>\n",
       "    <tr style=\"text-align: right;\">\n",
       "      <th></th>\n",
       "      <th>height</th>\n",
       "      <th>age</th>\n",
       "      <th>appearance</th>\n",
       "      <th>goals</th>\n",
       "      <th>assists</th>\n",
       "      <th>yellow cards</th>\n",
       "      <th>second yellow cards</th>\n",
       "      <th>red cards</th>\n",
       "      <th>goals conceded</th>\n",
       "      <th>clean sheets</th>\n",
       "      <th>...</th>\n",
       "      <th>team_Wolfsberger AC</th>\n",
       "      <th>team_Wolverhampton Wanderers</th>\n",
       "      <th>team_Yokohama F. Marinos</th>\n",
       "      <th>team_Yokohama FC</th>\n",
       "      <th>team_Zenit St. Petersburg</th>\n",
       "      <th>team_Ümraniyespor</th>\n",
       "      <th>position_Attack</th>\n",
       "      <th>position_Defender</th>\n",
       "      <th>position_Goalkeeper</th>\n",
       "      <th>position_Midfielder</th>\n",
       "    </tr>\n",
       "  </thead>\n",
       "  <tbody>\n",
       "    <tr>\n",
       "      <th>0</th>\n",
       "      <td>189.0</td>\n",
       "      <td>32.0</td>\n",
       "      <td>104</td>\n",
       "      <td>0.0</td>\n",
       "      <td>0.0</td>\n",
       "      <td>0.009585</td>\n",
       "      <td>0.0</td>\n",
       "      <td>0.0</td>\n",
       "      <td>1.217252</td>\n",
       "      <td>0.335463</td>\n",
       "      <td>...</td>\n",
       "      <td>False</td>\n",
       "      <td>False</td>\n",
       "      <td>False</td>\n",
       "      <td>False</td>\n",
       "      <td>False</td>\n",
       "      <td>False</td>\n",
       "      <td>False</td>\n",
       "      <td>False</td>\n",
       "      <td>True</td>\n",
       "      <td>False</td>\n",
       "    </tr>\n",
       "    <tr>\n",
       "      <th>1</th>\n",
       "      <td>196.0</td>\n",
       "      <td>30.0</td>\n",
       "      <td>15</td>\n",
       "      <td>0.0</td>\n",
       "      <td>0.0</td>\n",
       "      <td>0.069018</td>\n",
       "      <td>0.0</td>\n",
       "      <td>0.0</td>\n",
       "      <td>1.242331</td>\n",
       "      <td>0.207055</td>\n",
       "      <td>...</td>\n",
       "      <td>False</td>\n",
       "      <td>False</td>\n",
       "      <td>False</td>\n",
       "      <td>False</td>\n",
       "      <td>False</td>\n",
       "      <td>False</td>\n",
       "      <td>False</td>\n",
       "      <td>False</td>\n",
       "      <td>True</td>\n",
       "      <td>False</td>\n",
       "    </tr>\n",
       "  </tbody>\n",
       "</table>\n",
       "<p>2 rows × 412 columns</p>\n",
       "</div>"
      ],
      "text/plain": [
       "   height   age  appearance  goals  assists  yellow cards  \\\n",
       "0   189.0  32.0         104    0.0      0.0      0.009585   \n",
       "1   196.0  30.0          15    0.0      0.0      0.069018   \n",
       "\n",
       "   second yellow cards  red cards  goals conceded  clean sheets  ...  \\\n",
       "0                  0.0        0.0        1.217252      0.335463  ...   \n",
       "1                  0.0        0.0        1.242331      0.207055  ...   \n",
       "\n",
       "   team_Wolfsberger AC  team_Wolverhampton Wanderers  \\\n",
       "0                False                         False   \n",
       "1                False                         False   \n",
       "\n",
       "   team_Yokohama F. Marinos  team_Yokohama FC  team_Zenit St. Petersburg  \\\n",
       "0                     False             False                      False   \n",
       "1                     False             False                      False   \n",
       "\n",
       "   team_Ümraniyespor  position_Attack  position_Defender  position_Goalkeeper  \\\n",
       "0              False            False              False                 True   \n",
       "1              False            False              False                 True   \n",
       "\n",
       "   position_Midfielder  \n",
       "0                False  \n",
       "1                False  \n",
       "\n",
       "[2 rows x 412 columns]"
      ]
     },
     "execution_count": 26,
     "metadata": {},
     "output_type": "execute_result"
    }
   ],
   "source": [
    "df.head(2)"
   ]
  },
  {
   "cell_type": "code",
   "execution_count": 27,
   "metadata": {},
   "outputs": [
    {
     "data": {
      "text/plain": [
       "800000.0"
      ]
     },
     "execution_count": 27,
     "metadata": {},
     "output_type": "execute_result"
    }
   ],
   "source": [
    "df['current_value'].median()"
   ]
  },
  {
   "cell_type": "code",
   "execution_count": 28,
   "metadata": {},
   "outputs": [],
   "source": [
    "#To know if the current_value is high or not I will use median\n",
    "\n",
    "# Create a new column with binary classification based on median\n",
    "df['current_value_bi'] = (df['current_value'] > df['current_value'].median()).astype(int)"
   ]
  },
  {
   "cell_type": "code",
   "execution_count": 29,
   "metadata": {},
   "outputs": [
    {
     "data": {
      "text/html": [
       "<div>\n",
       "<style scoped>\n",
       "    .dataframe tbody tr th:only-of-type {\n",
       "        vertical-align: middle;\n",
       "    }\n",
       "\n",
       "    .dataframe tbody tr th {\n",
       "        vertical-align: top;\n",
       "    }\n",
       "\n",
       "    .dataframe thead th {\n",
       "        text-align: right;\n",
       "    }\n",
       "</style>\n",
       "<table border=\"1\" class=\"dataframe\">\n",
       "  <thead>\n",
       "    <tr style=\"text-align: right;\">\n",
       "      <th></th>\n",
       "      <th>height</th>\n",
       "      <th>age</th>\n",
       "      <th>appearance</th>\n",
       "      <th>goals</th>\n",
       "      <th>assists</th>\n",
       "      <th>yellow cards</th>\n",
       "      <th>second yellow cards</th>\n",
       "      <th>red cards</th>\n",
       "      <th>goals conceded</th>\n",
       "      <th>clean sheets</th>\n",
       "      <th>...</th>\n",
       "      <th>team_Wolverhampton Wanderers</th>\n",
       "      <th>team_Yokohama F. Marinos</th>\n",
       "      <th>team_Yokohama FC</th>\n",
       "      <th>team_Zenit St. Petersburg</th>\n",
       "      <th>team_Ümraniyespor</th>\n",
       "      <th>position_Attack</th>\n",
       "      <th>position_Defender</th>\n",
       "      <th>position_Goalkeeper</th>\n",
       "      <th>position_Midfielder</th>\n",
       "      <th>current_value_bi</th>\n",
       "    </tr>\n",
       "  </thead>\n",
       "  <tbody>\n",
       "    <tr>\n",
       "      <th>0</th>\n",
       "      <td>189.0</td>\n",
       "      <td>32.0</td>\n",
       "      <td>104</td>\n",
       "      <td>0.000000</td>\n",
       "      <td>0.000000</td>\n",
       "      <td>0.009585</td>\n",
       "      <td>0.0</td>\n",
       "      <td>0.0</td>\n",
       "      <td>1.217252</td>\n",
       "      <td>0.335463</td>\n",
       "      <td>...</td>\n",
       "      <td>False</td>\n",
       "      <td>False</td>\n",
       "      <td>False</td>\n",
       "      <td>False</td>\n",
       "      <td>False</td>\n",
       "      <td>False</td>\n",
       "      <td>False</td>\n",
       "      <td>True</td>\n",
       "      <td>False</td>\n",
       "      <td>1</td>\n",
       "    </tr>\n",
       "    <tr>\n",
       "      <th>1</th>\n",
       "      <td>196.0</td>\n",
       "      <td>30.0</td>\n",
       "      <td>15</td>\n",
       "      <td>0.000000</td>\n",
       "      <td>0.000000</td>\n",
       "      <td>0.069018</td>\n",
       "      <td>0.0</td>\n",
       "      <td>0.0</td>\n",
       "      <td>1.242331</td>\n",
       "      <td>0.207055</td>\n",
       "      <td>...</td>\n",
       "      <td>False</td>\n",
       "      <td>False</td>\n",
       "      <td>False</td>\n",
       "      <td>False</td>\n",
       "      <td>False</td>\n",
       "      <td>False</td>\n",
       "      <td>False</td>\n",
       "      <td>True</td>\n",
       "      <td>False</td>\n",
       "      <td>1</td>\n",
       "    </tr>\n",
       "    <tr>\n",
       "      <th>2</th>\n",
       "      <td>188.0</td>\n",
       "      <td>37.0</td>\n",
       "      <td>4</td>\n",
       "      <td>0.000000</td>\n",
       "      <td>0.000000</td>\n",
       "      <td>0.000000</td>\n",
       "      <td>0.0</td>\n",
       "      <td>0.0</td>\n",
       "      <td>0.616438</td>\n",
       "      <td>0.924658</td>\n",
       "      <td>...</td>\n",
       "      <td>False</td>\n",
       "      <td>False</td>\n",
       "      <td>False</td>\n",
       "      <td>False</td>\n",
       "      <td>False</td>\n",
       "      <td>False</td>\n",
       "      <td>False</td>\n",
       "      <td>True</td>\n",
       "      <td>False</td>\n",
       "      <td>0</td>\n",
       "    </tr>\n",
       "    <tr>\n",
       "      <th>3</th>\n",
       "      <td>175.0</td>\n",
       "      <td>25.0</td>\n",
       "      <td>82</td>\n",
       "      <td>0.028090</td>\n",
       "      <td>0.056180</td>\n",
       "      <td>0.224719</td>\n",
       "      <td>0.0</td>\n",
       "      <td>0.0</td>\n",
       "      <td>0.000000</td>\n",
       "      <td>0.000000</td>\n",
       "      <td>...</td>\n",
       "      <td>False</td>\n",
       "      <td>False</td>\n",
       "      <td>False</td>\n",
       "      <td>False</td>\n",
       "      <td>False</td>\n",
       "      <td>False</td>\n",
       "      <td>True</td>\n",
       "      <td>False</td>\n",
       "      <td>False</td>\n",
       "      <td>1</td>\n",
       "    </tr>\n",
       "    <tr>\n",
       "      <th>4</th>\n",
       "      <td>191.0</td>\n",
       "      <td>30.0</td>\n",
       "      <td>63</td>\n",
       "      <td>0.017889</td>\n",
       "      <td>0.017889</td>\n",
       "      <td>0.053667</td>\n",
       "      <td>0.0</td>\n",
       "      <td>0.0</td>\n",
       "      <td>0.000000</td>\n",
       "      <td>0.000000</td>\n",
       "      <td>...</td>\n",
       "      <td>False</td>\n",
       "      <td>False</td>\n",
       "      <td>False</td>\n",
       "      <td>False</td>\n",
       "      <td>False</td>\n",
       "      <td>False</td>\n",
       "      <td>True</td>\n",
       "      <td>False</td>\n",
       "      <td>False</td>\n",
       "      <td>1</td>\n",
       "    </tr>\n",
       "  </tbody>\n",
       "</table>\n",
       "<p>5 rows × 413 columns</p>\n",
       "</div>"
      ],
      "text/plain": [
       "   height   age  appearance     goals   assists  yellow cards  \\\n",
       "0   189.0  32.0         104  0.000000  0.000000      0.009585   \n",
       "1   196.0  30.0          15  0.000000  0.000000      0.069018   \n",
       "2   188.0  37.0           4  0.000000  0.000000      0.000000   \n",
       "3   175.0  25.0          82  0.028090  0.056180      0.224719   \n",
       "4   191.0  30.0          63  0.017889  0.017889      0.053667   \n",
       "\n",
       "   second yellow cards  red cards  goals conceded  clean sheets  ...  \\\n",
       "0                  0.0        0.0        1.217252      0.335463  ...   \n",
       "1                  0.0        0.0        1.242331      0.207055  ...   \n",
       "2                  0.0        0.0        0.616438      0.924658  ...   \n",
       "3                  0.0        0.0        0.000000      0.000000  ...   \n",
       "4                  0.0        0.0        0.000000      0.000000  ...   \n",
       "\n",
       "   team_Wolverhampton Wanderers  team_Yokohama F. Marinos  team_Yokohama FC  \\\n",
       "0                         False                     False             False   \n",
       "1                         False                     False             False   \n",
       "2                         False                     False             False   \n",
       "3                         False                     False             False   \n",
       "4                         False                     False             False   \n",
       "\n",
       "   team_Zenit St. Petersburg  team_Ümraniyespor  position_Attack  \\\n",
       "0                      False              False            False   \n",
       "1                      False              False            False   \n",
       "2                      False              False            False   \n",
       "3                      False              False            False   \n",
       "4                      False              False            False   \n",
       "\n",
       "   position_Defender  position_Goalkeeper  position_Midfielder  \\\n",
       "0              False                 True                False   \n",
       "1              False                 True                False   \n",
       "2              False                 True                False   \n",
       "3               True                False                False   \n",
       "4               True                False                False   \n",
       "\n",
       "   current_value_bi  \n",
       "0                 1  \n",
       "1                 1  \n",
       "2                 0  \n",
       "3                 1  \n",
       "4                 1  \n",
       "\n",
       "[5 rows x 413 columns]"
      ]
     },
     "execution_count": 29,
     "metadata": {},
     "output_type": "execute_result"
    }
   ],
   "source": [
    "df.head(5)"
   ]
  },
  {
   "cell_type": "markdown",
   "metadata": {},
   "source": [
    "#### 3. Feature selection"
   ]
  },
  {
   "cell_type": "code",
   "execution_count": 30,
   "metadata": {},
   "outputs": [
    {
     "name": "stdout",
     "output_type": "stream",
     "text": [
      "current_value_bi             1.000000\n",
      "appearance                   0.477686\n",
      "minutes played               0.449583\n",
      "highest_value                0.396422\n",
      "current_value                0.377175\n",
      "                               ...   \n",
      "team_Daejeon Hana Citizen   -0.062843\n",
      "has_clean sheets            -0.087994\n",
      "has_conceded_goals          -0.102094\n",
      "goals conceded              -0.112257\n",
      "position_Goalkeeper         -0.150170\n",
      "Name: current_value_bi, Length: 413, dtype: float64\n"
     ]
    }
   ],
   "source": [
    "correlation = df.corr(numeric_only=True)\n",
    "#print(correlation['Price'].sort_values(ascending=False))\n",
    "print(correlation['current_value_bi'].sort_values(ascending=False))"
   ]
  },
  {
   "cell_type": "code",
   "execution_count": 31,
   "metadata": {},
   "outputs": [
    {
     "data": {
      "text/plain": [
       "Index(['appearance', 'minutes played', 'games_injured', 'award',\n",
       "       'current_value', 'highest_value', 'goals_total', 'assists_total',\n",
       "       'yellow_cards_total', 'has_award', 'has__yellow _ards', 'never_injured',\n",
       "       'Score', 'has_assists', 'current_value_bi'],\n",
       "      dtype='object')"
      ]
     },
     "execution_count": 31,
     "metadata": {},
     "output_type": "execute_result"
    }
   ],
   "source": [
    "# Set the correlation threshold\n",
    "threshold = 0.2  # You can change this value based on your requirement\n",
    "\n",
    "# Filter the correlations\n",
    "# We use `abs()` for absolute value to consider both strong positive and negative correlations\n",
    "selected_features = correlation[abs(correlation['current_value_bi']) > \\\n",
    "threshold]['current_value_bi'].index\n",
    "selected_features"
   ]
  },
  {
   "cell_type": "code",
   "execution_count": 32,
   "metadata": {},
   "outputs": [],
   "source": [
    "#Now, let's see the selected features and filter out multicollinearity."
   ]
  },
  {
   "cell_type": "code",
   "execution_count": 33,
   "metadata": {},
   "outputs": [],
   "source": [
    "#First, let's see the correlation between the columns.\n",
    "df_num= df.select_dtypes(include=['number'])\n",
    "correlation = df_num.corr()"
   ]
  },
  {
   "cell_type": "code",
   "execution_count": 34,
   "metadata": {},
   "outputs": [
    {
     "data": {
      "application/vnd.plotly.v1+json": {
       "config": {
        "plotlyServerURL": "https://plot.ly"
       },
       "data": [
        {
         "coloraxis": "coloraxis",
         "hovertemplate": "x: %{x}<br>y: %{y}<br>color: %{z}<extra></extra>",
         "name": "0",
         "texttemplate": "%{z}",
         "type": "heatmap",
         "x": [
          "height",
          "age",
          "appearance",
          "goals",
          "assists",
          "yellow cards",
          "second yellow cards",
          "red cards",
          "goals conceded",
          "clean sheets",
          "minutes played",
          "days_injured",
          "games_injured",
          "award",
          "current_value",
          "highest_value",
          "winger",
          "goals_total",
          "assists_total",
          "yellow_cards_total",
          "second_yellow_cards_total",
          "red_cards_total",
          "goals_conceded_total",
          "clean_sheets_total",
          "has_award",
          "has_clean sheets",
          "has_second_yellow _ards",
          "has__yellow _ards",
          "has_red_cards",
          "has_conceded_goals",
          "never_injured",
          "never_play",
          "Score",
          "has_assists",
          "current_value_bi"
         ],
         "xaxis": "x",
         "y": [
          "height",
          "age",
          "appearance",
          "goals",
          "assists",
          "yellow cards",
          "second yellow cards",
          "red cards",
          "goals conceded",
          "clean sheets",
          "minutes played",
          "days_injured",
          "games_injured",
          "award",
          "current_value",
          "highest_value",
          "winger",
          "goals_total",
          "assists_total",
          "yellow_cards_total",
          "second_yellow_cards_total",
          "red_cards_total",
          "goals_conceded_total",
          "clean_sheets_total",
          "has_award",
          "has_clean sheets",
          "has_second_yellow _ards",
          "has__yellow _ards",
          "has_red_cards",
          "has_conceded_goals",
          "never_injured",
          "never_play",
          "Score",
          "has_assists",
          "current_value_bi"
         ],
         "yaxis": "y",
         "z": [
          [
           1,
           0.06365177062399664,
           0.06064117796530149,
           -0.05596191995567038,
           -0.20244097239012585,
           -0.037973842890014806,
           -0.005112377267790255,
           -0.005693330834587812,
           0.33309152267957687,
           0.04436625598733551,
           0.13288709133909585,
           0.059391602514593494,
           0.05490228458323143,
           0.013976187563614465,
           0.04053536951754009,
           0.036775815070784965,
           -0.3817284891424665,
           -0.004811604653375187,
           -0.1522777242557007,
           0.0030798486027032897,
           0.03044603001675268,
           0.02180008083555496,
           0.2912541305576885,
           0.25758488421705616,
           0.027397849608696172,
           0.3494662156039769,
           0.03890652084560032,
           -0.031437644495718536,
           0.036220842217535916,
           0.36191694146964615,
           0.062000024818319247,
           -0.06476261973472976,
           -0.10460943311455416,
           -0.18901219168091485,
           0.017480673660406287
          ],
          [
           0.06365177062399664,
           1,
           0.13984570316204029,
           -0.03480523499142448,
           -0.024155737226766286,
           0.007084651140658084,
           0.015528818868629416,
           0.0030739224584718653,
           0.08334299146437135,
           0.03906391847918943,
           0.16901954291171897,
           0.3242668136698668,
           0.3430294419641042,
           0.3634778240346164,
           -0.050156027958007145,
           0.123467992471881,
           -0.04780814221383221,
           0.008985764016055805,
           0.024391096855872436,
           0.09010664938735184,
           0.01821436897491683,
           0.038182241087383655,
           0.1100208031473581,
           0.122987972784056,
           0.3478249764602984,
           0.11102275330650044,
           0.02491023359101999,
           0.11298851893303116,
           0.0517430380875574,
           0.10938453420118013,
           0.33956392379401673,
           0.09006698818337637,
           0.021348700849641716,
           0.04382023091100783,
           0.01870828426627137
          ],
          [
           0.06064117796530149,
           0.13984570316204029,
           1,
           0.13146910973781328,
           0.15718571139174078,
           -0.02309220136218782,
           -0.007435581864206469,
           -0.024513817959300906,
           -0.10138380007782766,
           -0.03251543665228948,
           0.9453647050164989,
           0.1273688317538078,
           0.1475276692604631,
           0.22213907382398823,
           0.4196560172857329,
           0.41839428950196145,
           0.03871349425480618,
           0.5093246000485926,
           0.5876365227900229,
           0.6861851766081181,
           0.19207973830352937,
           0.18010050671971586,
           0.10922117549494202,
           0.11463914247389533,
           0.25090806578343067,
           -0.05623523557291669,
           0.22481874952581568,
           0.54433380339787,
           0.23008205595862222,
           -0.08509378617198392,
           0.30796974411057304,
           0.26589780655126244,
           0.5455074488691188,
           0.5661585379358594,
           0.477685803113539
          ],
          [
           -0.05596191995567038,
           -0.03480523499142448,
           0.13146910973781328,
           1,
           0.21826607842831017,
           -0.01282615567809171,
           -0.013973822399569841,
           -0.013939615906933461,
           -0.15810679227034805,
           -0.025810719330861858,
           0.05086284262143017,
           0.03752650452164014,
           0.04169643166488461,
           0.09961670379483277,
           0.12157414357739328,
           0.1290373105798055,
           -0.0045808920138936116,
           0.5768291379042131,
           0.2791163123872299,
           0.06869536541819149,
           0.0009563790988615896,
           0.002358734630321987,
           -0.12915734709182236,
           -0.11718908724422582,
           0.07230305158389683,
           -0.16337149002622123,
           0.004349284093988601,
           0.07426692347863977,
           -0.006856092981183322,
           -0.1711902286370846,
           0.0451772848287549,
           0.10325095457044024,
           0.43996139108447974,
           0.21395437398379588,
           0.10871756386602685
          ],
          [
           -0.20244097239012585,
           -0.024155737226766286,
           0.15718571139174078,
           0.21826607842831017,
           1,
           -0.004430022435364644,
           0.01955117230515893,
           -0.013189257018372334,
           -0.18060652660801654,
           -0.02945984046549294,
           0.08113557860428834,
           0.039430781059278885,
           0.0493834584060061,
           0.09156940687651377,
           0.13741542318483033,
           0.14540734920208925,
           0.1775803177451147,
           0.28437258364559526,
           0.5749663910422214,
           0.10426968336519274,
           0.0155581301649906,
           0.004238654101014782,
           -0.14771332086252542,
           -0.13403779708660085,
           0.07154894729409826,
           -0.1868008632066451,
           0.010808302193551998,
           0.1061243407411632,
           0.003355527791154708,
           -0.19567216998302148,
           0.09248693259297329,
           0.11754827430716885,
           0.2457759557130255,
           0.5168634096383626,
           0.14709886610272294
          ],
          [
           -0.037973842890014806,
           0.007084651140658084,
           -0.02309220136218782,
           -0.01282615567809171,
           -0.004430022435364644,
           1,
           0.028738511449774313,
           -0.003006832450374126,
           -0.0936754342938636,
           -0.01712213919680861,
           -0.03965219543381791,
           0.011461279190382413,
           0.012892315281048998,
           -0.009051784838652379,
           -0.011765750454192465,
           -0.009772139078705153,
           0.010096957514843987,
           -0.020972439299845498,
           -0.015616739732137633,
           0.24630611681400663,
           0.030080828734540013,
           0.012450609699985748,
           -0.07318587077515054,
           -0.06608390503845366,
           -0.006329905491203281,
           -0.09335279879358352,
           0.026955723300567662,
           0.22307981561102058,
           0.011151338113321653,
           -0.09930683943437013,
           0.0175087240889488,
           0.07926360984309429,
           0.0021908560705552623,
           0.0022989773306221154,
           0.003685558297998236
          ],
          [
           -0.005112377267790255,
           0.015528818868629416,
           -0.007435581864206469,
           -0.013973822399569841,
           0.01955117230515893,
           0.028738511449774313,
           1,
           -0.002562236730400304,
           -0.04583981846091725,
           -0.0067702633371070145,
           -0.010411180064428541,
           0.00377173471096845,
           0.007089638095830511,
           -0.015230865700574631,
           -0.013888799122193518,
           -0.01415525181778358,
           -0.007258943435514449,
           -0.015032045510906828,
           -0.012992979067090094,
           0.04400254096571626,
           0.5946315284687642,
           0.014878767618452348,
           -0.038889914659768696,
           -0.03352151969450936,
           -0.010518400398706012,
           -0.04139418044671087,
           0.5287559924885173,
           0.047238656751810756,
           0.015433644048473787,
           -0.044677262850679224,
           0.0009041285567648958,
           0.03582385649941382,
           0.012282440786803921,
           0.016661411290092992,
           -0.006547468209930472
          ],
          [
           -0.005693330834587812,
           0.0030739224584718653,
           -0.024513817959300906,
           -0.013939615906933461,
           -0.013189257018372334,
           -0.003006832450374126,
           -0.002562236730400304,
           1,
           -0.0045842688505181185,
           -0.0017782436194807814,
           -0.024401831151686735,
           -0.0036499999632001066,
           -0.004763994173827861,
           -0.007886203320530267,
           -0.010170675427942848,
           -0.007257397791433583,
           -0.007025725427656221,
           -0.014885547619200277,
           -0.016824667237239386,
           -0.008767997829359202,
           0.0008843978923054197,
           0.4719554337587925,
           -0.010921471640451517,
           -0.009617973786078517,
           -0.018037982418421337,
           -0.011243677716295046,
           -0.00044097980324698697,
           -0.025183714992528795,
           0.21748640880245054,
           -0.004423475894497368,
           -0.010123564816547323,
           0.010160123750760867,
           -0.01989724284763296,
           -0.019897661573061987,
           -0.006523179967670276
          ],
          [
           0.33309152267957687,
           0.08334299146437135,
           -0.10138380007782766,
           -0.15810679227034805,
           -0.18060652660801654,
           -0.0936754342938636,
           -0.04583981846091725,
           -0.0045842688505181185,
           1,
           0.06746592070731552,
           -0.004266823818592336,
           -0.030925586333274423,
           -0.042140409133349294,
           -0.011519584162628129,
           -0.06352871777631047,
           -0.06118292536456113,
           -0.19835070601926827,
           -0.1695691907915658,
           -0.1917185420133328,
           -0.22511663754979253,
           -0.08438978003246168,
           -0.05219929595670611,
           0.6914305538888134,
           0.5235283409915368,
           -0.011236842238793327,
           0.7931064148494348,
           -0.09163439777262569,
           -0.19676142817963246,
           -0.05459810490715431,
           0.9219261158004372,
           -0.026609015472936936,
           0.057663032415928635,
           -0.35498757128417674,
           -0.3471031571532491,
           -0.11225719033620403
          ],
          [
           0.04436625598733551,
           0.03906391847918943,
           -0.03251543665228948,
           -0.025810719330861858,
           -0.02945984046549294,
           -0.01712213919680861,
           -0.0067702633371070145,
           -0.0017782436194807814,
           0.06746592070731552,
           1,
           -0.020189618341791504,
           0.0012751430725898992,
           0.005610949237546909,
           0.0029963365035353506,
           -0.011683696570018868,
           -0.008302101405093153,
           -0.03235420261543407,
           -0.027684744165311456,
           -0.03127238958671742,
           -0.04012285457497206,
           -0.013765221868804554,
           -0.010550686131367443,
           0.0605358905247732,
           0.3215855349115798,
           0.010373852497424453,
           0.15606624899068242,
           -0.014946896295704882,
           -0.05232376845422473,
           -0.011666947259514603,
           0.0843519575105412,
           0.0016213390781188953,
           0.009405771583308822,
           -0.05817353525128748,
           -0.05661812907236182,
           -0.026962335430867148
          ],
          [
           0.13288709133909585,
           0.16901954291171897,
           0.9453647050164989,
           0.05086284262143017,
           0.08113557860428834,
           -0.03965219543381791,
           -0.010411180064428541,
           -0.024401831151686735,
           -0.004266823818592336,
           -0.020189618341791504,
           1,
           0.10758169473880164,
           0.12367414230538609,
           0.2145503064119532,
           0.4205415722483409,
           0.3993889442873285,
           -0.006654584950208902,
           0.38326536097384956,
           0.4725740208915395,
           0.6030920211765158,
           0.1871100142453388,
           0.17460233972215544,
           0.22385615450434515,
           0.22131171591741405,
           0.23187928662432164,
           0.052943312999158026,
           0.23070119700673847,
           0.4923201906898563,
           0.23683720102424183,
           0.02496841079243164,
           0.285344481603906,
           0.23677107878667059,
           0.4459542389450167,
           0.46189643634702754,
           0.4495834167363955
          ],
          [
           0.059391602514593494,
           0.3242668136698668,
           0.1273688317538078,
           0.03752650452164014,
           0.039430781059278885,
           0.011461279190382413,
           0.00377173471096845,
           -0.0036499999632001066,
           -0.030925586333274423,
           0.0012751430725898992,
           0.10758169473880164,
           1,
           0.9541727032958321,
           0.2551243162858293,
           0.10768631699782132,
           0.23435178331310053,
           0.000038755559444169515,
           0.07194415594194824,
           0.08690215279016557,
           0.09604863511702942,
           0.026656945612808045,
           0.019485676678440866,
           -0.0023549004926497466,
           -0.001466485658726334,
           0.2670934769425198,
           -0.02501481750232089,
           0.02489192652498393,
           0.10875484755939022,
           0.022448836500595874,
           -0.029056511694216976,
           0.5302915106503414,
           0.09709077146465214,
           0.10752185671990476,
           0.11784052876449286,
           0.1725504381010272
          ],
          [
           0.05490228458323143,
           0.3430294419641042,
           0.1475276692604631,
           0.04169643166488461,
           0.0493834584060061,
           0.012892315281048998,
           0.007089638095830511,
           -0.004763994173827861,
           -0.042140409133349294,
           0.005610949237546909,
           0.12367414230538609,
           0.9541727032958321,
           1,
           0.30845950191587673,
           0.1356542080017363,
           0.285244413573598,
           0.0021151333687671,
           0.08621081873374212,
           0.10668462613371821,
           0.11215753258199743,
           0.031149748469481823,
           0.02056000251599043,
           -0.00883605428522273,
           -0.003176461785058307,
           0.2909174435573698,
           -0.03369031622001738,
           0.030396249367007088,
           0.11359407202640404,
           0.023162787524100777,
           -0.038869975304412455,
           0.5330638309350789,
           0.09749243689789489,
           0.1181436062131075,
           0.13053920847256562,
           0.20045697058308265
          ],
          [
           0.013976187563614465,
           0.3634778240346164,
           0.22213907382398823,
           0.09961670379483277,
           0.09156940687651377,
           -0.009051784838652379,
           -0.015230865700574631,
           -0.007886203320530267,
           -0.011519584162628129,
           0.0029963365035353506,
           0.2145503064119532,
           0.2551243162858293,
           0.30845950191587673,
           1,
           0.3004535109105001,
           0.5286412421452018,
           -0.025471563079969964,
           0.21739754565552066,
           0.2287473276104963,
           0.11747058920056572,
           0.018705558557564825,
           0.022972015839727147,
           0.03765714021973257,
           0.06963356655252526,
           0.46786948575636106,
           0.016387674220409026,
           0.02733063821305035,
           0.10305591249993469,
           0.03444059091746569,
           0.008482112259603207,
           0.2701338593941474,
           0.07153205838232915,
           0.12597324271570978,
           0.13381306853000374,
           0.21092097726263304
          ],
          [
           0.04053536951754009,
           -0.050156027958007145,
           0.4196560172857329,
           0.12157414357739328,
           0.13741542318483033,
           -0.011765750454192465,
           -0.013888799122193518,
           -0.010170675427942848,
           -0.06352871777631047,
           -0.011683696570018868,
           0.4205415722483409,
           0.10768631699782132,
           0.1356542080017363,
           0.3004535109105001,
           1,
           0.8345530981111612,
           0.005034049467273422,
           0.35788954304936893,
           0.4058653198132657,
           0.26113395549750074,
           0.04954269769549988,
           0.04555747467591882,
           -0.00018148651868221287,
           0.02366765693403681,
           0.19070547313012792,
           -0.05169614330993633,
           0.0662232989241555,
           0.1612945875657889,
           0.058746250345760524,
           -0.05900248757176335,
           0.20537197853249783,
           0.0716261069543313,
           0.21355728473447722,
           0.21800582567662913,
           0.3771751284402338
          ],
          [
           0.036775815070784965,
           0.123467992471881,
           0.41839428950196145,
           0.1290373105798055,
           0.14540734920208925,
           -0.009772139078705153,
           -0.01415525181778358,
           -0.007257397791433583,
           -0.06118292536456113,
           -0.008302101405093153,
           0.3993889442873285,
           0.23435178331310053,
           0.285244413573598,
           0.5286412421452018,
           0.8345530981111612,
           1,
           0.0019441852109124897,
           0.3591048109706227,
           0.4045029880348203,
           0.2592217006359567,
           0.045603682957636164,
           0.054709658215193545,
           0.009203789617588071,
           0.03614575898778299,
           0.2566928835424096,
           -0.04698881334022235,
           0.062075621610388695,
           0.1731160394509065,
           0.06432197132734917,
           -0.05509270158878221,
           0.2691620382665175,
           0.08235202643360162,
           0.22187247723529926,
           0.23116389653393127,
           0.3964221304564521
          ],
          [
           -0.3817284891424665,
           -0.04780814221383221,
           0.03871349425480618,
           -0.0045808920138936116,
           0.1775803177451147,
           0.010096957514843987,
           -0.007258943435514449,
           -0.007025725427656221,
           -0.19835070601926827,
           -0.03235420261543407,
           -0.006654584950208902,
           0.000038755559444169515,
           0.0021151333687671,
           -0.025471563079969964,
           0.005034049467273422,
           0.0019441852109124897,
           1,
           -0.011107538688622888,
           0.17873797715129905,
           0.007595203857240795,
           -0.014388484632715514,
           -0.02219352314401748,
           -0.16222581781400786,
           -0.14720670501070826,
           -0.01834781774704188,
           -0.2051536220640804,
           -0.011249155049317769,
           0.05975250382654579,
           -0.021283977757228983,
           -0.21489651450243907,
           0.017839704225943612,
           0.07513701646829464,
           0.08412051118488661,
           0.19913763947821642,
           0.03670610007427171
          ],
          [
           -0.004811604653375187,
           0.008985764016055805,
           0.5093246000485926,
           0.5768291379042131,
           0.28437258364559526,
           -0.020972439299845498,
           -0.015032045510906828,
           -0.014885547619200277,
           -0.1695691907915658,
           -0.027684744165311456,
           0.38326536097384956,
           0.07194415594194824,
           0.08621081873374212,
           0.21739754565552066,
           0.35788954304936893,
           0.3591048109706227,
           -0.011107538688622888,
           1,
           0.6243736871984018,
           0.3008720260322671,
           0.05879537677492212,
           0.060400812581506674,
           -0.13846302460819637,
           -0.12571183730847732,
           0.16605674883042354,
           -0.17530332917510832,
           0.07395565119112935,
           0.243261250561654,
           0.06450364372035354,
           -0.18367227721562113,
           0.15196656213874865,
           0.11063728610143297,
           0.472868534938182,
           0.39873606036845444,
           0.27879256479507086
          ],
          [
           -0.1522777242557007,
           0.024391096855872436,
           0.5876365227900229,
           0.2791163123872299,
           0.5749663910422214,
           -0.015616739732137633,
           -0.012992979067090094,
           -0.016824667237239386,
           -0.1917185420133328,
           -0.03127238958671742,
           0.4725740208915395,
           0.08690215279016557,
           0.10668462613371821,
           0.2287473276104963,
           0.4058653198132657,
           0.4045029880348203,
           0.17873797715129905,
           0.6243736871984018,
           1,
           0.38545489686593554,
           0.07906339500343199,
           0.07034552302128133,
           -0.15680154556747997,
           -0.14228462013388626,
           0.19318710009996187,
           -0.19829399199143288,
           0.09305400611033145,
           0.2839926762388915,
           0.08698257076361093,
           -0.20771111568492515,
           0.21276167944381497,
           0.12478056130975673,
           0.43524211054628154,
           0.5523388020601879,
           0.33926915587365286
          ],
          [
           0.0030798486027032897,
           0.09010664938735184,
           0.6861851766081181,
           0.06869536541819149,
           0.10426968336519274,
           0.24630611681400663,
           0.04400254096571626,
           -0.008767997829359202,
           -0.22511663754979253,
           -0.04012285457497206,
           0.6030920211765158,
           0.09604863511702942,
           0.11215753258199743,
           0.11747058920056572,
           0.26113395549750074,
           0.2592217006359567,
           0.007595203857240795,
           0.3008720260322671,
           0.38545489686593554,
           1,
           0.2461498859085644,
           0.19304424644896218,
           -0.14085328848109624,
           -0.12220226386038428,
           0.1648403773391583,
           -0.2200102960972541,
           0.2685267716089918,
           0.5130305177239295,
           0.22780062978160856,
           -0.23707411182911525,
           0.22571622789277127,
           0.19012576903241837,
           0.4385620509198802,
           0.4517895893176286,
           0.34544698647661526
          ],
          [
           0.03044603001675268,
           0.01821436897491683,
           0.19207973830352937,
           0.0009563790988615896,
           0.0155581301649906,
           0.030080828734540013,
           0.5946315284687642,
           0.0008843978923054197,
           -0.08438978003246168,
           -0.013765221868804554,
           0.1871100142453388,
           0.026656945612808045,
           0.031149748469481823,
           0.018705558557564825,
           0.04954269769549988,
           0.045603682957636164,
           -0.014388484632715514,
           0.05879537677492212,
           0.07906339500343199,
           0.2461498859085644,
           1,
           0.08909313773578813,
           -0.0641284990824327,
           -0.05495926222692558,
           0.04748755444515162,
           -0.08382387988807176,
           0.9001979008228475,
           0.14377490283669617,
           0.1027198095851676,
           -0.08887602622827304,
           0.06129687215266976,
           0.06069831320784923,
           0.13827968138176439,
           0.1379147277400686,
           0.09030175223627415
          ],
          [
           0.02180008083555496,
           0.038182241087383655,
           0.18010050671971586,
           0.002358734630321987,
           0.004238654101014782,
           0.012450609699985748,
           0.014878767618452348,
           0.4719554337587925,
           -0.05219929595670611,
           -0.010550686131367443,
           0.17460233972215544,
           0.019485676678440866,
           0.02056000251599043,
           0.022972015839727147,
           0.04555747467591882,
           0.054709658215193545,
           -0.02219352314401748,
           0.060400812581506674,
           0.07034552302128133,
           0.19304424644896218,
           0.08909313773578813,
           1,
           -0.02498018408815526,
           -0.01951402043953874,
           0.03168684534198454,
           -0.048810729186169514,
           0.0907042658463748,
           0.124369106102927,
           0.8499866417337025,
           -0.05332718718066467,
           0.05084272461294946,
           0.06130149838480022,
           0.11373154328078497,
           0.10917721583188766,
           0.09651894108052593
          ],
          [
           0.2912541305576885,
           0.1100208031473581,
           0.10922117549494202,
           -0.12915734709182236,
           -0.14771332086252542,
           -0.07318587077515054,
           -0.038889914659768696,
           -0.010921471640451517,
           0.6914305538888134,
           0.0605358905247732,
           0.22385615450434515,
           -0.0023549004926497466,
           -0.00883605428522273,
           0.03765714021973257,
           -0.00018148651868221287,
           0.009203789617588071,
           -0.16222581781400786,
           -0.13846302460819637,
           -0.15680154556747997,
           -0.14085328848109624,
           -0.0641284990824327,
           -0.02498018408815526,
           1,
           0.838437489011553,
           0.04436643973370829,
           0.772010419589079,
           -0.06834692661859457,
           -0.02041929211194984,
           -0.022285018020070362,
           0.7549020429187447,
           0.032433705470803556,
           0.04716107534500481,
           -0.2870310769363728,
           -0.28388652939576564,
           0.007095041007481854
          ],
          [
           0.25758488421705616,
           0.122987972784056,
           0.11463914247389533,
           -0.11718908724422582,
           -0.13403779708660085,
           -0.06608390503845366,
           -0.03352151969450936,
           -0.009617973786078517,
           0.5235283409915368,
           0.3215855349115798,
           0.22131171591741405,
           -0.001466485658726334,
           -0.003176461785058307,
           0.06963356655252526,
           0.02366765693403681,
           0.03614575898778299,
           -0.14720670501070826,
           -0.12571183730847732,
           -0.14228462013388626,
           -0.12220226386038428,
           -0.05495926222692558,
           -0.01951402043953874,
           0.838437489011553,
           1,
           0.06015250196797718,
           0.7175437778267872,
           -0.05765942216500243,
           -0.015433997834103725,
           -0.016782274321459473,
           0.6669354470509538,
           0.035073383554139734,
           0.04279483130274241,
           -0.26118333173235464,
           -0.2576038829848173,
           0.018994715053903835
          ],
          [
           0.027397849608696172,
           0.3478249764602984,
           0.25090806578343067,
           0.07230305158389683,
           0.07154894729409826,
           -0.006329905491203281,
           -0.010518400398706012,
           -0.018037982418421337,
           -0.011236842238793327,
           0.010373852497424453,
           0.23187928662432164,
           0.2670934769425198,
           0.2909174435573698,
           0.46786948575636106,
           0.19070547313012792,
           0.2566928835424096,
           -0.01834781774704188,
           0.16605674883042354,
           0.19318710009996187,
           0.1648403773391583,
           0.04748755444515162,
           0.03168684534198454,
           0.04436643973370829,
           0.06015250196797718,
           1,
           0.020106884460532798,
           0.05771723108377886,
           0.1616658975815334,
           0.04807192975074468,
           0.008717060410691422,
           0.34335658518554935,
           0.10660026323547685,
           0.15494441619253507,
           0.17288017944866757,
           0.2387275517212393
          ],
          [
           0.3494662156039769,
           0.11102275330650044,
           -0.05623523557291669,
           -0.16337149002622123,
           -0.1868008632066451,
           -0.09335279879358352,
           -0.04139418044671087,
           -0.011243677716295046,
           0.7931064148494348,
           0.15606624899068242,
           0.052943312999158026,
           -0.02501481750232089,
           -0.03369031622001738,
           0.016387674220409026,
           -0.05169614330993633,
           -0.04698881334022235,
           -0.2051536220640804,
           -0.17530332917510832,
           -0.19829399199143288,
           -0.2200102960972541,
           -0.08382387988807176,
           -0.048810729186169514,
           0.772010419589079,
           0.7175437778267872,
           0.020106884460532798,
           1,
           -0.09010965391158167,
           -0.14593714702891503,
           -0.04988323732625077,
           0.920700819496568,
           -0.00719837817717929,
           0.05964072524237457,
           -0.3664269276290481,
           -0.35900789742058564,
           -0.08799442570729459
          ],
          [
           0.03890652084560032,
           0.02491023359101999,
           0.22481874952581568,
           0.004349284093988601,
           0.010808302193551998,
           0.026955723300567662,
           0.5287559924885173,
           -0.00044097980324698697,
           -0.09163439777262569,
           -0.014946896295704882,
           0.23070119700673847,
           0.02489192652498393,
           0.030396249367007088,
           0.02733063821305035,
           0.0662232989241555,
           0.062075621610388695,
           -0.011249155049317769,
           0.07395565119112935,
           0.09305400611033145,
           0.2685267716089918,
           0.9001979008228475,
           0.0907042658463748,
           -0.06834692661859457,
           -0.05765942216500243,
           0.05771723108377886,
           -0.09010965391158167,
           1,
           0.16224682096348922,
           0.11135973882388914,
           -0.0958340997625502,
           0.07262369487450304,
           0.06742774355768487,
           0.15830909218566275,
           0.1535971147051693,
           0.10518050387929814
          ],
          [
           -0.031437644495718536,
           0.11298851893303116,
           0.54433380339787,
           0.07426692347863977,
           0.1061243407411632,
           0.22307981561102058,
           0.047238656751810756,
           -0.025183714992528795,
           -0.19676142817963246,
           -0.05232376845422473,
           0.4923201906898563,
           0.10875484755939022,
           0.11359407202640404,
           0.10305591249993469,
           0.1612945875657889,
           0.1731160394509065,
           0.05975250382654579,
           0.243261250561654,
           0.2839926762388915,
           0.5130305177239295,
           0.14377490283669617,
           0.124369106102927,
           -0.02041929211194984,
           -0.015433997834103725,
           0.1616658975815334,
           -0.14593714702891503,
           0.16224682096348922,
           1,
           0.16412868755100238,
           -0.1865527061438814,
           0.21034372143162255,
           0.37059348803637493,
           0.42846454123281585,
           0.43680050059532555,
           0.29855468640592037
          ],
          [
           0.036220842217535916,
           0.0517430380875574,
           0.23008205595862222,
           -0.006856092981183322,
           0.003355527791154708,
           0.011151338113321653,
           0.015433644048473787,
           0.21748640880245054,
           -0.05459810490715431,
           -0.011666947259514603,
           0.23683720102424183,
           0.022448836500595874,
           0.023162787524100777,
           0.03444059091746569,
           0.058746250345760524,
           0.06432197132734917,
           -0.021283977757228983,
           0.06450364372035354,
           0.08698257076361093,
           0.22780062978160856,
           0.1027198095851676,
           0.8499866417337025,
           -0.022285018020070362,
           -0.016782274321459473,
           0.04807192975074468,
           -0.04988323732625077,
           0.11135973882388914,
           0.16412868755100238,
           1,
           -0.054819633974725196,
           0.06970185871251185,
           0.07212054328261554,
           0.1432423571697717,
           0.1367967954969796,
           0.11386575419869681
          ],
          [
           0.36191694146964615,
           0.10938453420118013,
           -0.08509378617198392,
           -0.1711902286370846,
           -0.19567216998302148,
           -0.09930683943437013,
           -0.044677262850679224,
           -0.004423475894497368,
           0.9219261158004372,
           0.0843519575105412,
           0.02496841079243164,
           -0.029056511694216976,
           -0.038869975304412455,
           0.008482112259603207,
           -0.05900248757176335,
           -0.05509270158878221,
           -0.21489651450243907,
           -0.18367227721562113,
           -0.20771111568492515,
           -0.23707411182911525,
           -0.08887602622827304,
           -0.05332718718066467,
           0.7549020429187447,
           0.6669354470509538,
           0.008717060410691422,
           0.920700819496568,
           -0.0958340997625502,
           -0.1865527061438814,
           -0.054819633974725196,
           1,
           -0.018461403203353537,
           0.062473105997517285,
           -0.38428543855728803,
           -0.3760574395826898,
           -0.1020941287700663
          ],
          [
           0.062000024818319247,
           0.33956392379401673,
           0.30796974411057304,
           0.0451772848287549,
           0.09248693259297329,
           0.0175087240889488,
           0.0009041285567648958,
           -0.010123564816547323,
           -0.026609015472936936,
           0.0016213390781188953,
           0.285344481603906,
           0.5302915106503414,
           0.5330638309350789,
           0.2701338593941474,
           0.20537197853249783,
           0.2691620382665175,
           0.017839704225943612,
           0.15196656213874865,
           0.21276167944381497,
           0.22571622789277127,
           0.06129687215266976,
           0.05084272461294946,
           0.032433705470803556,
           0.035073383554139734,
           0.34335658518554935,
           -0.00719837817717929,
           0.07262369487450304,
           0.21034372143162255,
           0.06970185871251185,
           -0.018461403203353537,
           1,
           0.17117963619454146,
           0.2046456247720546,
           0.23515567365550447,
           0.31936914289086926
          ],
          [
           -0.06476261973472976,
           0.09006698818337637,
           0.26589780655126244,
           0.10325095457044024,
           0.11754827430716885,
           0.07926360984309429,
           0.03582385649941382,
           0.010160123750760867,
           0.057663032415928635,
           0.009405771583308822,
           0.23677107878667059,
           0.09709077146465214,
           0.09749243689789489,
           0.07153205838232915,
           0.0716261069543313,
           0.08235202643360162,
           0.07513701646829464,
           0.11063728610143297,
           0.12478056130975673,
           0.19012576903241837,
           0.06069831320784923,
           0.06130149838480022,
           0.04716107534500481,
           0.04279483130274241,
           0.10660026323547685,
           0.05964072524237457,
           0.06742774355768487,
           0.37059348803637493,
           0.07212054328261554,
           0.062473105997517285,
           0.17117963619454146,
           1,
           0.23397049692870048,
           0.22591308241306532,
           0.16182286697646456
          ],
          [
           -0.10460943311455416,
           0.021348700849641716,
           0.5455074488691188,
           0.43996139108447974,
           0.2457759557130255,
           0.0021908560705552623,
           0.012282440786803921,
           -0.01989724284763296,
           -0.35498757128417674,
           -0.05817353525128748,
           0.4459542389450167,
           0.10752185671990476,
           0.1181436062131075,
           0.12597324271570978,
           0.21355728473447722,
           0.22187247723529926,
           0.08412051118488661,
           0.472868534938182,
           0.43524211054628154,
           0.4385620509198802,
           0.13827968138176439,
           0.11373154328078497,
           -0.2870310769363728,
           -0.26118333173235464,
           0.15494441619253507,
           -0.3664269276290481,
           0.15830909218566275,
           0.42846454123281585,
           0.1432423571697717,
           -0.38428543855728803,
           0.2046456247720546,
           0.23397049692870048,
           1,
           0.5671585468276994,
           0.31416649079595615
          ],
          [
           -0.18901219168091485,
           0.04382023091100783,
           0.5661585379358594,
           0.21395437398379588,
           0.5168634096383626,
           0.0022989773306221154,
           0.016661411290092992,
           -0.019897661573061987,
           -0.3471031571532491,
           -0.05661812907236182,
           0.46189643634702754,
           0.11784052876449286,
           0.13053920847256562,
           0.13381306853000374,
           0.21800582567662913,
           0.23116389653393127,
           0.19913763947821642,
           0.39873606036845444,
           0.5523388020601879,
           0.4517895893176286,
           0.1379147277400686,
           0.10917721583188766,
           -0.28388652939576564,
           -0.2576038829848173,
           0.17288017944866757,
           -0.35900789742058564,
           0.1535971147051693,
           0.43680050059532555,
           0.1367967954969796,
           -0.3760574395826898,
           0.23515567365550447,
           0.22591308241306532,
           0.5671585468276994,
           1,
           0.35172742474777974
          ],
          [
           0.017480673660406287,
           0.01870828426627137,
           0.477685803113539,
           0.10871756386602685,
           0.14709886610272294,
           0.003685558297998236,
           -0.006547468209930472,
           -0.006523179967670276,
           -0.11225719033620403,
           -0.026962335430867148,
           0.4495834167363955,
           0.1725504381010272,
           0.20045697058308265,
           0.21092097726263304,
           0.3771751284402338,
           0.3964221304564521,
           0.03670610007427171,
           0.27879256479507086,
           0.33926915587365286,
           0.34544698647661526,
           0.09030175223627415,
           0.09651894108052593,
           0.007095041007481854,
           0.018994715053903835,
           0.2387275517212393,
           -0.08799442570729459,
           0.10518050387929814,
           0.29855468640592037,
           0.11386575419869681,
           -0.1020941287700663,
           0.31936914289086926,
           0.16182286697646456,
           0.31416649079595615,
           0.35172742474777974,
           1
          ]
         ]
        }
       ],
       "layout": {
        "coloraxis": {
         "colorscale": [
          [
           0,
           "#440154"
          ],
          [
           0.1111111111111111,
           "#482878"
          ],
          [
           0.2222222222222222,
           "#3e4989"
          ],
          [
           0.3333333333333333,
           "#31688e"
          ],
          [
           0.4444444444444444,
           "#26828e"
          ],
          [
           0.5555555555555556,
           "#1f9e89"
          ],
          [
           0.6666666666666666,
           "#35b779"
          ],
          [
           0.7777777777777778,
           "#6ece58"
          ],
          [
           0.8888888888888888,
           "#b5de2b"
          ],
          [
           1,
           "#fde725"
          ]
         ]
        },
        "height": 600,
        "margin": {
         "t": 60
        },
        "template": {
         "data": {
          "bar": [
           {
            "error_x": {
             "color": "#2a3f5f"
            },
            "error_y": {
             "color": "#2a3f5f"
            },
            "marker": {
             "line": {
              "color": "#E5ECF6",
              "width": 0.5
             },
             "pattern": {
              "fillmode": "overlay",
              "size": 10,
              "solidity": 0.2
             }
            },
            "type": "bar"
           }
          ],
          "barpolar": [
           {
            "marker": {
             "line": {
              "color": "#E5ECF6",
              "width": 0.5
             },
             "pattern": {
              "fillmode": "overlay",
              "size": 10,
              "solidity": 0.2
             }
            },
            "type": "barpolar"
           }
          ],
          "carpet": [
           {
            "aaxis": {
             "endlinecolor": "#2a3f5f",
             "gridcolor": "white",
             "linecolor": "white",
             "minorgridcolor": "white",
             "startlinecolor": "#2a3f5f"
            },
            "baxis": {
             "endlinecolor": "#2a3f5f",
             "gridcolor": "white",
             "linecolor": "white",
             "minorgridcolor": "white",
             "startlinecolor": "#2a3f5f"
            },
            "type": "carpet"
           }
          ],
          "choropleth": [
           {
            "colorbar": {
             "outlinewidth": 0,
             "ticks": ""
            },
            "type": "choropleth"
           }
          ],
          "contour": [
           {
            "colorbar": {
             "outlinewidth": 0,
             "ticks": ""
            },
            "colorscale": [
             [
              0,
              "#0d0887"
             ],
             [
              0.1111111111111111,
              "#46039f"
             ],
             [
              0.2222222222222222,
              "#7201a8"
             ],
             [
              0.3333333333333333,
              "#9c179e"
             ],
             [
              0.4444444444444444,
              "#bd3786"
             ],
             [
              0.5555555555555556,
              "#d8576b"
             ],
             [
              0.6666666666666666,
              "#ed7953"
             ],
             [
              0.7777777777777778,
              "#fb9f3a"
             ],
             [
              0.8888888888888888,
              "#fdca26"
             ],
             [
              1,
              "#f0f921"
             ]
            ],
            "type": "contour"
           }
          ],
          "contourcarpet": [
           {
            "colorbar": {
             "outlinewidth": 0,
             "ticks": ""
            },
            "type": "contourcarpet"
           }
          ],
          "heatmap": [
           {
            "colorbar": {
             "outlinewidth": 0,
             "ticks": ""
            },
            "colorscale": [
             [
              0,
              "#0d0887"
             ],
             [
              0.1111111111111111,
              "#46039f"
             ],
             [
              0.2222222222222222,
              "#7201a8"
             ],
             [
              0.3333333333333333,
              "#9c179e"
             ],
             [
              0.4444444444444444,
              "#bd3786"
             ],
             [
              0.5555555555555556,
              "#d8576b"
             ],
             [
              0.6666666666666666,
              "#ed7953"
             ],
             [
              0.7777777777777778,
              "#fb9f3a"
             ],
             [
              0.8888888888888888,
              "#fdca26"
             ],
             [
              1,
              "#f0f921"
             ]
            ],
            "type": "heatmap"
           }
          ],
          "heatmapgl": [
           {
            "colorbar": {
             "outlinewidth": 0,
             "ticks": ""
            },
            "colorscale": [
             [
              0,
              "#0d0887"
             ],
             [
              0.1111111111111111,
              "#46039f"
             ],
             [
              0.2222222222222222,
              "#7201a8"
             ],
             [
              0.3333333333333333,
              "#9c179e"
             ],
             [
              0.4444444444444444,
              "#bd3786"
             ],
             [
              0.5555555555555556,
              "#d8576b"
             ],
             [
              0.6666666666666666,
              "#ed7953"
             ],
             [
              0.7777777777777778,
              "#fb9f3a"
             ],
             [
              0.8888888888888888,
              "#fdca26"
             ],
             [
              1,
              "#f0f921"
             ]
            ],
            "type": "heatmapgl"
           }
          ],
          "histogram": [
           {
            "marker": {
             "pattern": {
              "fillmode": "overlay",
              "size": 10,
              "solidity": 0.2
             }
            },
            "type": "histogram"
           }
          ],
          "histogram2d": [
           {
            "colorbar": {
             "outlinewidth": 0,
             "ticks": ""
            },
            "colorscale": [
             [
              0,
              "#0d0887"
             ],
             [
              0.1111111111111111,
              "#46039f"
             ],
             [
              0.2222222222222222,
              "#7201a8"
             ],
             [
              0.3333333333333333,
              "#9c179e"
             ],
             [
              0.4444444444444444,
              "#bd3786"
             ],
             [
              0.5555555555555556,
              "#d8576b"
             ],
             [
              0.6666666666666666,
              "#ed7953"
             ],
             [
              0.7777777777777778,
              "#fb9f3a"
             ],
             [
              0.8888888888888888,
              "#fdca26"
             ],
             [
              1,
              "#f0f921"
             ]
            ],
            "type": "histogram2d"
           }
          ],
          "histogram2dcontour": [
           {
            "colorbar": {
             "outlinewidth": 0,
             "ticks": ""
            },
            "colorscale": [
             [
              0,
              "#0d0887"
             ],
             [
              0.1111111111111111,
              "#46039f"
             ],
             [
              0.2222222222222222,
              "#7201a8"
             ],
             [
              0.3333333333333333,
              "#9c179e"
             ],
             [
              0.4444444444444444,
              "#bd3786"
             ],
             [
              0.5555555555555556,
              "#d8576b"
             ],
             [
              0.6666666666666666,
              "#ed7953"
             ],
             [
              0.7777777777777778,
              "#fb9f3a"
             ],
             [
              0.8888888888888888,
              "#fdca26"
             ],
             [
              1,
              "#f0f921"
             ]
            ],
            "type": "histogram2dcontour"
           }
          ],
          "mesh3d": [
           {
            "colorbar": {
             "outlinewidth": 0,
             "ticks": ""
            },
            "type": "mesh3d"
           }
          ],
          "parcoords": [
           {
            "line": {
             "colorbar": {
              "outlinewidth": 0,
              "ticks": ""
             }
            },
            "type": "parcoords"
           }
          ],
          "pie": [
           {
            "automargin": true,
            "type": "pie"
           }
          ],
          "scatter": [
           {
            "fillpattern": {
             "fillmode": "overlay",
             "size": 10,
             "solidity": 0.2
            },
            "type": "scatter"
           }
          ],
          "scatter3d": [
           {
            "line": {
             "colorbar": {
              "outlinewidth": 0,
              "ticks": ""
             }
            },
            "marker": {
             "colorbar": {
              "outlinewidth": 0,
              "ticks": ""
             }
            },
            "type": "scatter3d"
           }
          ],
          "scattercarpet": [
           {
            "marker": {
             "colorbar": {
              "outlinewidth": 0,
              "ticks": ""
             }
            },
            "type": "scattercarpet"
           }
          ],
          "scattergeo": [
           {
            "marker": {
             "colorbar": {
              "outlinewidth": 0,
              "ticks": ""
             }
            },
            "type": "scattergeo"
           }
          ],
          "scattergl": [
           {
            "marker": {
             "colorbar": {
              "outlinewidth": 0,
              "ticks": ""
             }
            },
            "type": "scattergl"
           }
          ],
          "scattermapbox": [
           {
            "marker": {
             "colorbar": {
              "outlinewidth": 0,
              "ticks": ""
             }
            },
            "type": "scattermapbox"
           }
          ],
          "scatterpolar": [
           {
            "marker": {
             "colorbar": {
              "outlinewidth": 0,
              "ticks": ""
             }
            },
            "type": "scatterpolar"
           }
          ],
          "scatterpolargl": [
           {
            "marker": {
             "colorbar": {
              "outlinewidth": 0,
              "ticks": ""
             }
            },
            "type": "scatterpolargl"
           }
          ],
          "scatterternary": [
           {
            "marker": {
             "colorbar": {
              "outlinewidth": 0,
              "ticks": ""
             }
            },
            "type": "scatterternary"
           }
          ],
          "surface": [
           {
            "colorbar": {
             "outlinewidth": 0,
             "ticks": ""
            },
            "colorscale": [
             [
              0,
              "#0d0887"
             ],
             [
              0.1111111111111111,
              "#46039f"
             ],
             [
              0.2222222222222222,
              "#7201a8"
             ],
             [
              0.3333333333333333,
              "#9c179e"
             ],
             [
              0.4444444444444444,
              "#bd3786"
             ],
             [
              0.5555555555555556,
              "#d8576b"
             ],
             [
              0.6666666666666666,
              "#ed7953"
             ],
             [
              0.7777777777777778,
              "#fb9f3a"
             ],
             [
              0.8888888888888888,
              "#fdca26"
             ],
             [
              1,
              "#f0f921"
             ]
            ],
            "type": "surface"
           }
          ],
          "table": [
           {
            "cells": {
             "fill": {
              "color": "#EBF0F8"
             },
             "line": {
              "color": "white"
             }
            },
            "header": {
             "fill": {
              "color": "#C8D4E3"
             },
             "line": {
              "color": "white"
             }
            },
            "type": "table"
           }
          ]
         },
         "layout": {
          "annotationdefaults": {
           "arrowcolor": "#2a3f5f",
           "arrowhead": 0,
           "arrowwidth": 1
          },
          "autotypenumbers": "strict",
          "coloraxis": {
           "colorbar": {
            "outlinewidth": 0,
            "ticks": ""
           }
          },
          "colorscale": {
           "diverging": [
            [
             0,
             "#8e0152"
            ],
            [
             0.1,
             "#c51b7d"
            ],
            [
             0.2,
             "#de77ae"
            ],
            [
             0.3,
             "#f1b6da"
            ],
            [
             0.4,
             "#fde0ef"
            ],
            [
             0.5,
             "#f7f7f7"
            ],
            [
             0.6,
             "#e6f5d0"
            ],
            [
             0.7,
             "#b8e186"
            ],
            [
             0.8,
             "#7fbc41"
            ],
            [
             0.9,
             "#4d9221"
            ],
            [
             1,
             "#276419"
            ]
           ],
           "sequential": [
            [
             0,
             "#0d0887"
            ],
            [
             0.1111111111111111,
             "#46039f"
            ],
            [
             0.2222222222222222,
             "#7201a8"
            ],
            [
             0.3333333333333333,
             "#9c179e"
            ],
            [
             0.4444444444444444,
             "#bd3786"
            ],
            [
             0.5555555555555556,
             "#d8576b"
            ],
            [
             0.6666666666666666,
             "#ed7953"
            ],
            [
             0.7777777777777778,
             "#fb9f3a"
            ],
            [
             0.8888888888888888,
             "#fdca26"
            ],
            [
             1,
             "#f0f921"
            ]
           ],
           "sequentialminus": [
            [
             0,
             "#0d0887"
            ],
            [
             0.1111111111111111,
             "#46039f"
            ],
            [
             0.2222222222222222,
             "#7201a8"
            ],
            [
             0.3333333333333333,
             "#9c179e"
            ],
            [
             0.4444444444444444,
             "#bd3786"
            ],
            [
             0.5555555555555556,
             "#d8576b"
            ],
            [
             0.6666666666666666,
             "#ed7953"
            ],
            [
             0.7777777777777778,
             "#fb9f3a"
            ],
            [
             0.8888888888888888,
             "#fdca26"
            ],
            [
             1,
             "#f0f921"
            ]
           ]
          },
          "colorway": [
           "#636efa",
           "#EF553B",
           "#00cc96",
           "#ab63fa",
           "#FFA15A",
           "#19d3f3",
           "#FF6692",
           "#B6E880",
           "#FF97FF",
           "#FECB52"
          ],
          "font": {
           "color": "#2a3f5f"
          },
          "geo": {
           "bgcolor": "white",
           "lakecolor": "white",
           "landcolor": "#E5ECF6",
           "showlakes": true,
           "showland": true,
           "subunitcolor": "white"
          },
          "hoverlabel": {
           "align": "left"
          },
          "hovermode": "closest",
          "mapbox": {
           "style": "light"
          },
          "paper_bgcolor": "white",
          "plot_bgcolor": "#E5ECF6",
          "polar": {
           "angularaxis": {
            "gridcolor": "white",
            "linecolor": "white",
            "ticks": ""
           },
           "bgcolor": "#E5ECF6",
           "radialaxis": {
            "gridcolor": "white",
            "linecolor": "white",
            "ticks": ""
           }
          },
          "scene": {
           "xaxis": {
            "backgroundcolor": "#E5ECF6",
            "gridcolor": "white",
            "gridwidth": 2,
            "linecolor": "white",
            "showbackground": true,
            "ticks": "",
            "zerolinecolor": "white"
           },
           "yaxis": {
            "backgroundcolor": "#E5ECF6",
            "gridcolor": "white",
            "gridwidth": 2,
            "linecolor": "white",
            "showbackground": true,
            "ticks": "",
            "zerolinecolor": "white"
           },
           "zaxis": {
            "backgroundcolor": "#E5ECF6",
            "gridcolor": "white",
            "gridwidth": 2,
            "linecolor": "white",
            "showbackground": true,
            "ticks": "",
            "zerolinecolor": "white"
           }
          },
          "shapedefaults": {
           "line": {
            "color": "#2a3f5f"
           }
          },
          "ternary": {
           "aaxis": {
            "gridcolor": "white",
            "linecolor": "white",
            "ticks": ""
           },
           "baxis": {
            "gridcolor": "white",
            "linecolor": "white",
            "ticks": ""
           },
           "bgcolor": "#E5ECF6",
           "caxis": {
            "gridcolor": "white",
            "linecolor": "white",
            "ticks": ""
           }
          },
          "title": {
           "x": 0.05
          },
          "xaxis": {
           "automargin": true,
           "gridcolor": "white",
           "linecolor": "white",
           "ticks": "",
           "title": {
            "standoff": 15
           },
           "zerolinecolor": "white",
           "zerolinewidth": 2
          },
          "yaxis": {
           "automargin": true,
           "gridcolor": "white",
           "linecolor": "white",
           "ticks": "",
           "title": {
            "standoff": 15
           },
           "zerolinecolor": "white",
           "zerolinewidth": 2
          }
         }
        },
        "width": 800,
        "xaxis": {
         "anchor": "y",
         "constrain": "domain",
         "domain": [
          0,
          1
         ],
         "scaleanchor": "y",
         "ticktext": [
          "height",
          "age",
          "appearance",
          "goals",
          "assists",
          "yellow cards",
          "second yellow cards",
          "red cards",
          "goals conceded",
          "clean sheets",
          "minutes played",
          "days_injured",
          "games_injured",
          "award",
          "current_value",
          "highest_value",
          "winger",
          "goals_total",
          "assists_total",
          "yellow_cards_total",
          "second_yellow_cards_total",
          "red_cards_total",
          "goals_conceded_total",
          "clean_sheets_total",
          "has_award",
          "has_clean sheets",
          "has_second_yellow _ards",
          "has__yellow _ards",
          "has_red_cards",
          "has_conceded_goals",
          "never_injured",
          "never_play",
          "Score",
          "has_assists",
          "current_value_bi"
         ],
         "tickvals": [
          "height",
          "age",
          "appearance",
          "goals",
          "assists",
          "yellow cards",
          "second yellow cards",
          "red cards",
          "goals conceded",
          "clean sheets",
          "minutes played",
          "days_injured",
          "games_injured",
          "award",
          "current_value",
          "highest_value",
          "winger",
          "goals_total",
          "assists_total",
          "yellow_cards_total",
          "second_yellow_cards_total",
          "red_cards_total",
          "goals_conceded_total",
          "clean_sheets_total",
          "has_award",
          "has_clean sheets",
          "has_second_yellow _ards",
          "has__yellow _ards",
          "has_red_cards",
          "has_conceded_goals",
          "never_injured",
          "never_play",
          "Score",
          "has_assists",
          "current_value_bi"
         ],
         "title": {
          "text": "Features"
         }
        },
        "yaxis": {
         "anchor": "x",
         "autorange": "reversed",
         "constrain": "domain",
         "domain": [
          0,
          1
         ],
         "ticktext": [
          "height",
          "age",
          "appearance",
          "goals",
          "assists",
          "yellow cards",
          "second yellow cards",
          "red cards",
          "goals conceded",
          "clean sheets",
          "minutes played",
          "days_injured",
          "games_injured",
          "award",
          "current_value",
          "highest_value",
          "winger",
          "goals_total",
          "assists_total",
          "yellow_cards_total",
          "second_yellow_cards_total",
          "red_cards_total",
          "goals_conceded_total",
          "clean_sheets_total",
          "has_award",
          "has_clean sheets",
          "has_second_yellow _ards",
          "has__yellow _ards",
          "has_red_cards",
          "has_conceded_goals",
          "never_injured",
          "never_play",
          "Score",
          "has_assists",
          "current_value_bi"
         ],
         "tickvals": [
          "height",
          "age",
          "appearance",
          "goals",
          "assists",
          "yellow cards",
          "second yellow cards",
          "red cards",
          "goals conceded",
          "clean sheets",
          "minutes played",
          "days_injured",
          "games_injured",
          "award",
          "current_value",
          "highest_value",
          "winger",
          "goals_total",
          "assists_total",
          "yellow_cards_total",
          "second_yellow_cards_total",
          "red_cards_total",
          "goals_conceded_total",
          "clean_sheets_total",
          "has_award",
          "has_clean sheets",
          "has_second_yellow _ards",
          "has__yellow _ards",
          "has_red_cards",
          "has_conceded_goals",
          "never_injured",
          "never_play",
          "Score",
          "has_assists",
          "current_value_bi"
         ],
         "title": {
          "text": "Features"
         }
        }
       }
      }
     },
     "metadata": {},
     "output_type": "display_data"
    }
   ],
   "source": [
    "import plotly.express as px\n",
    "\n",
    "fig = px.imshow(correlation, text_auto=True, color_continuous_scale='Viridis')\n",
    "fig.update_layout(\n",
    "    width=800,  \n",
    "    height=600,  \n",
    "    xaxis_title='Features',\n",
    "    yaxis_title='Features',\n",
    "    xaxis=dict(tickvals=list(correlation.columns), ticktext=list(correlation.columns)),\n",
    "    yaxis=dict(tickvals=list(correlation.columns), ticktext=list(correlation.columns)))"
   ]
  },
  {
   "cell_type": "code",
   "execution_count": 35,
   "metadata": {},
   "outputs": [
    {
     "data": {
      "text/plain": [
       "\"\\n'appearance' and 'minutes played' have high correlation; I will keep 'appearance.\\n'games_injured' and 'never_injured' have high correlation; I will keep 'games_injured'.\\n'award' and 'has_award' have high correlation; I will keep 'award'.\\n'goals_total' and 'Score' have high correlation; I will keep 'goals_total'.\\n'assists_total' and 'has_assists' have high correlation; I will keep 'assists_total'.\\n'yellow_cards_total' and 'has__yellow _ards' have high correlation; I will keep 'yellow_cards_total'.\\n\""
      ]
     },
     "execution_count": 35,
     "metadata": {},
     "output_type": "execute_result"
    }
   ],
   "source": [
    "'''\n",
    "'appearance' and 'minutes played' have high correlation; I will keep 'appearance.\n",
    "'games_injured' and 'never_injured' have high correlation; I will keep 'games_injured'.\n",
    "'award' and 'has_award' have high correlation; I will keep 'award'.\n",
    "'goals_total' and 'Score' have high correlation; I will keep 'goals_total'.\n",
    "'assists_total' and 'has_assists' have high correlation; I will keep 'assists_total'.\n",
    "'yellow_cards_total' and 'has__yellow _ards' have high correlation; I will keep 'yellow_cards_total'.\n",
    "'''"
   ]
  },
  {
   "cell_type": "code",
   "execution_count": 36,
   "metadata": {},
   "outputs": [],
   "source": [
    "selected_features = ['appearance','games_injured', 'award', 'highest_value', 'goals_total',\n",
    "                      'assists_total', 'yellow_cards_total', 'current_value_bi']"
   ]
  },
  {
   "cell_type": "code",
   "execution_count": 85,
   "metadata": {},
   "outputs": [
    {
     "data": {
      "text/html": [
       "<div>\n",
       "<style scoped>\n",
       "    .dataframe tbody tr th:only-of-type {\n",
       "        vertical-align: middle;\n",
       "    }\n",
       "\n",
       "    .dataframe tbody tr th {\n",
       "        vertical-align: top;\n",
       "    }\n",
       "\n",
       "    .dataframe thead th {\n",
       "        text-align: right;\n",
       "    }\n",
       "</style>\n",
       "<table border=\"1\" class=\"dataframe\">\n",
       "  <thead>\n",
       "    <tr style=\"text-align: right;\">\n",
       "      <th></th>\n",
       "      <th>appearance</th>\n",
       "      <th>games_injured</th>\n",
       "      <th>award</th>\n",
       "      <th>highest_value</th>\n",
       "      <th>goals_total</th>\n",
       "      <th>assists_total</th>\n",
       "      <th>yellow_cards_total</th>\n",
       "      <th>current_value_bi</th>\n",
       "    </tr>\n",
       "  </thead>\n",
       "  <tbody>\n",
       "    <tr>\n",
       "      <th>0</th>\n",
       "      <td>104</td>\n",
       "      <td>5</td>\n",
       "      <td>13</td>\n",
       "      <td>70000000</td>\n",
       "      <td>0</td>\n",
       "      <td>0</td>\n",
       "      <td>0</td>\n",
       "      <td>1</td>\n",
       "    </tr>\n",
       "    <tr>\n",
       "      <th>1</th>\n",
       "      <td>15</td>\n",
       "      <td>58</td>\n",
       "      <td>1</td>\n",
       "      <td>22000000</td>\n",
       "      <td>0</td>\n",
       "      <td>0</td>\n",
       "      <td>1</td>\n",
       "      <td>1</td>\n",
       "    </tr>\n",
       "    <tr>\n",
       "      <th>2</th>\n",
       "      <td>4</td>\n",
       "      <td>84</td>\n",
       "      <td>4</td>\n",
       "      <td>6000000</td>\n",
       "      <td>0</td>\n",
       "      <td>0</td>\n",
       "      <td>0</td>\n",
       "      <td>0</td>\n",
       "    </tr>\n",
       "    <tr>\n",
       "      <th>3</th>\n",
       "      <td>82</td>\n",
       "      <td>22</td>\n",
       "      <td>9</td>\n",
       "      <td>50000000</td>\n",
       "      <td>2</td>\n",
       "      <td>4</td>\n",
       "      <td>18</td>\n",
       "      <td>1</td>\n",
       "    </tr>\n",
       "    <tr>\n",
       "      <th>4</th>\n",
       "      <td>63</td>\n",
       "      <td>51</td>\n",
       "      <td>21</td>\n",
       "      <td>80000000</td>\n",
       "      <td>1</td>\n",
       "      <td>1</td>\n",
       "      <td>3</td>\n",
       "      <td>1</td>\n",
       "    </tr>\n",
       "  </tbody>\n",
       "</table>\n",
       "</div>"
      ],
      "text/plain": [
       "   appearance  games_injured  award  highest_value  goals_total  \\\n",
       "0         104              5     13       70000000            0   \n",
       "1          15             58      1       22000000            0   \n",
       "2           4             84      4        6000000            0   \n",
       "3          82             22      9       50000000            2   \n",
       "4          63             51     21       80000000            1   \n",
       "\n",
       "   assists_total  yellow_cards_total  current_value_bi  \n",
       "0              0                   0                 1  \n",
       "1              0                   1                 1  \n",
       "2              0                   0                 0  \n",
       "3              4                  18                 1  \n",
       "4              1                   3                 1  "
      ]
     },
     "execution_count": 85,
     "metadata": {},
     "output_type": "execute_result"
    }
   ],
   "source": [
    "df = df[selected_features]\n",
    "df.head()"
   ]
  },
  {
   "cell_type": "markdown",
   "metadata": {},
   "source": [
    "#### 4. Prepare train and test data"
   ]
  },
  {
   "cell_type": "code",
   "execution_count": 86,
   "metadata": {},
   "outputs": [],
   "source": [
    "# Prepare data\n",
    "X = df.drop(['current_value_bi'], axis=1)\n",
    "y = df['current_value_bi']\n",
    "\n",
    "# Split data into training and testing sets\n",
    "X_train, X_test, y_train, y_test = train_test_split(X, y,\n",
    "                                                    test_size=0.2,\n",
    "                                                    shuffle=True,\n",
    "                                                    random_state=42)"
   ]
  },
  {
   "cell_type": "code",
   "execution_count": 87,
   "metadata": {},
   "outputs": [],
   "source": [
    "# sacle the data using RobustScaler\n",
    "from sklearn.preprocessing import RobustScaler\n",
    "\n",
    "scaler = RobustScaler()\n",
    "scaler.fit(X_train)\n",
    "X_train_scaled = scaler.transform(X_train)\n",
    "X_test_scaled = scaler.transform(X_test)"
   ]
  },
  {
   "cell_type": "code",
   "execution_count": 40,
   "metadata": {},
   "outputs": [
    {
     "data": {
      "text/plain": [
       "(10754, 7)"
      ]
     },
     "execution_count": 40,
     "metadata": {},
     "output_type": "execute_result"
    }
   ],
   "source": [
    "X.shape"
   ]
  },
  {
   "cell_type": "markdown",
   "metadata": {},
   "source": [
    "## Buliding the Model"
   ]
  },
  {
   "cell_type": "code",
   "execution_count": 88,
   "metadata": {},
   "outputs": [],
   "source": [
    "from sklearn.svm import SVC\n",
    "\n",
    "svm_classifier = SVC() "
   ]
  },
  {
   "cell_type": "code",
   "execution_count": 63,
   "metadata": {},
   "outputs": [],
   "source": [
    "param_grid = {\n",
    "    'kernel': ['linear', 'rbf'],   \n",
    "    'C':[ 0,0.1, 0.01, 1, 2, 5, 10, 15, 20, 25],\n",
    "    'gamma': [0.1, 0.01, 1,2,6 ]\n",
    "\n",
    "}\n",
    "grid_search = GridSearchCV(estimator=svm_classifier,\n",
    "                           param_grid=param_grid,\n",
    "                           cv = 5,\n",
    "                           scoring='f1_macro',\n",
    "                           n_jobs = -1, \n",
    "                           verbose = 1)"
   ]
  },
  {
   "cell_type": "markdown",
   "metadata": {},
   "source": [
    "## Train the Model"
   ]
  },
  {
   "cell_type": "code",
   "execution_count": 64,
   "metadata": {},
   "outputs": [
    {
     "name": "stdout",
     "output_type": "stream",
     "text": [
      "Fitting 5 folds for each of 4 candidates, totalling 20 fits\n"
     ]
    },
    {
     "data": {
      "text/html": [
       "<style>#sk-container-id-2 {\n",
       "  /* Definition of color scheme common for light and dark mode */\n",
       "  --sklearn-color-text: black;\n",
       "  --sklearn-color-line: gray;\n",
       "  /* Definition of color scheme for unfitted estimators */\n",
       "  --sklearn-color-unfitted-level-0: #fff5e6;\n",
       "  --sklearn-color-unfitted-level-1: #f6e4d2;\n",
       "  --sklearn-color-unfitted-level-2: #ffe0b3;\n",
       "  --sklearn-color-unfitted-level-3: chocolate;\n",
       "  /* Definition of color scheme for fitted estimators */\n",
       "  --sklearn-color-fitted-level-0: #f0f8ff;\n",
       "  --sklearn-color-fitted-level-1: #d4ebff;\n",
       "  --sklearn-color-fitted-level-2: #b3dbfd;\n",
       "  --sklearn-color-fitted-level-3: cornflowerblue;\n",
       "\n",
       "  /* Specific color for light theme */\n",
       "  --sklearn-color-text-on-default-background: var(--sg-text-color, var(--theme-code-foreground, var(--jp-content-font-color1, black)));\n",
       "  --sklearn-color-background: var(--sg-background-color, var(--theme-background, var(--jp-layout-color0, white)));\n",
       "  --sklearn-color-border-box: var(--sg-text-color, var(--theme-code-foreground, var(--jp-content-font-color1, black)));\n",
       "  --sklearn-color-icon: #696969;\n",
       "\n",
       "  @media (prefers-color-scheme: dark) {\n",
       "    /* Redefinition of color scheme for dark theme */\n",
       "    --sklearn-color-text-on-default-background: var(--sg-text-color, var(--theme-code-foreground, var(--jp-content-font-color1, white)));\n",
       "    --sklearn-color-background: var(--sg-background-color, var(--theme-background, var(--jp-layout-color0, #111)));\n",
       "    --sklearn-color-border-box: var(--sg-text-color, var(--theme-code-foreground, var(--jp-content-font-color1, white)));\n",
       "    --sklearn-color-icon: #878787;\n",
       "  }\n",
       "}\n",
       "\n",
       "#sk-container-id-2 {\n",
       "  color: var(--sklearn-color-text);\n",
       "}\n",
       "\n",
       "#sk-container-id-2 pre {\n",
       "  padding: 0;\n",
       "}\n",
       "\n",
       "#sk-container-id-2 input.sk-hidden--visually {\n",
       "  border: 0;\n",
       "  clip: rect(1px 1px 1px 1px);\n",
       "  clip: rect(1px, 1px, 1px, 1px);\n",
       "  height: 1px;\n",
       "  margin: -1px;\n",
       "  overflow: hidden;\n",
       "  padding: 0;\n",
       "  position: absolute;\n",
       "  width: 1px;\n",
       "}\n",
       "\n",
       "#sk-container-id-2 div.sk-dashed-wrapped {\n",
       "  border: 1px dashed var(--sklearn-color-line);\n",
       "  margin: 0 0.4em 0.5em 0.4em;\n",
       "  box-sizing: border-box;\n",
       "  padding-bottom: 0.4em;\n",
       "  background-color: var(--sklearn-color-background);\n",
       "}\n",
       "\n",
       "#sk-container-id-2 div.sk-container {\n",
       "  /* jupyter's `normalize.less` sets `[hidden] { display: none; }`\n",
       "     but bootstrap.min.css set `[hidden] { display: none !important; }`\n",
       "     so we also need the `!important` here to be able to override the\n",
       "     default hidden behavior on the sphinx rendered scikit-learn.org.\n",
       "     See: https://github.com/scikit-learn/scikit-learn/issues/21755 */\n",
       "  display: inline-block !important;\n",
       "  position: relative;\n",
       "}\n",
       "\n",
       "#sk-container-id-2 div.sk-text-repr-fallback {\n",
       "  display: none;\n",
       "}\n",
       "\n",
       "div.sk-parallel-item,\n",
       "div.sk-serial,\n",
       "div.sk-item {\n",
       "  /* draw centered vertical line to link estimators */\n",
       "  background-image: linear-gradient(var(--sklearn-color-text-on-default-background), var(--sklearn-color-text-on-default-background));\n",
       "  background-size: 2px 100%;\n",
       "  background-repeat: no-repeat;\n",
       "  background-position: center center;\n",
       "}\n",
       "\n",
       "/* Parallel-specific style estimator block */\n",
       "\n",
       "#sk-container-id-2 div.sk-parallel-item::after {\n",
       "  content: \"\";\n",
       "  width: 100%;\n",
       "  border-bottom: 2px solid var(--sklearn-color-text-on-default-background);\n",
       "  flex-grow: 1;\n",
       "}\n",
       "\n",
       "#sk-container-id-2 div.sk-parallel {\n",
       "  display: flex;\n",
       "  align-items: stretch;\n",
       "  justify-content: center;\n",
       "  background-color: var(--sklearn-color-background);\n",
       "  position: relative;\n",
       "}\n",
       "\n",
       "#sk-container-id-2 div.sk-parallel-item {\n",
       "  display: flex;\n",
       "  flex-direction: column;\n",
       "}\n",
       "\n",
       "#sk-container-id-2 div.sk-parallel-item:first-child::after {\n",
       "  align-self: flex-end;\n",
       "  width: 50%;\n",
       "}\n",
       "\n",
       "#sk-container-id-2 div.sk-parallel-item:last-child::after {\n",
       "  align-self: flex-start;\n",
       "  width: 50%;\n",
       "}\n",
       "\n",
       "#sk-container-id-2 div.sk-parallel-item:only-child::after {\n",
       "  width: 0;\n",
       "}\n",
       "\n",
       "/* Serial-specific style estimator block */\n",
       "\n",
       "#sk-container-id-2 div.sk-serial {\n",
       "  display: flex;\n",
       "  flex-direction: column;\n",
       "  align-items: center;\n",
       "  background-color: var(--sklearn-color-background);\n",
       "  padding-right: 1em;\n",
       "  padding-left: 1em;\n",
       "}\n",
       "\n",
       "\n",
       "/* Toggleable style: style used for estimator/Pipeline/ColumnTransformer box that is\n",
       "clickable and can be expanded/collapsed.\n",
       "- Pipeline and ColumnTransformer use this feature and define the default style\n",
       "- Estimators will overwrite some part of the style using the `sk-estimator` class\n",
       "*/\n",
       "\n",
       "/* Pipeline and ColumnTransformer style (default) */\n",
       "\n",
       "#sk-container-id-2 div.sk-toggleable {\n",
       "  /* Default theme specific background. It is overwritten whether we have a\n",
       "  specific estimator or a Pipeline/ColumnTransformer */\n",
       "  background-color: var(--sklearn-color-background);\n",
       "}\n",
       "\n",
       "/* Toggleable label */\n",
       "#sk-container-id-2 label.sk-toggleable__label {\n",
       "  cursor: pointer;\n",
       "  display: block;\n",
       "  width: 100%;\n",
       "  margin-bottom: 0;\n",
       "  padding: 0.5em;\n",
       "  box-sizing: border-box;\n",
       "  text-align: center;\n",
       "}\n",
       "\n",
       "#sk-container-id-2 label.sk-toggleable__label-arrow:before {\n",
       "  /* Arrow on the left of the label */\n",
       "  content: \"▸\";\n",
       "  float: left;\n",
       "  margin-right: 0.25em;\n",
       "  color: var(--sklearn-color-icon);\n",
       "}\n",
       "\n",
       "#sk-container-id-2 label.sk-toggleable__label-arrow:hover:before {\n",
       "  color: var(--sklearn-color-text);\n",
       "}\n",
       "\n",
       "/* Toggleable content - dropdown */\n",
       "\n",
       "#sk-container-id-2 div.sk-toggleable__content {\n",
       "  max-height: 0;\n",
       "  max-width: 0;\n",
       "  overflow: hidden;\n",
       "  text-align: left;\n",
       "  /* unfitted */\n",
       "  background-color: var(--sklearn-color-unfitted-level-0);\n",
       "}\n",
       "\n",
       "#sk-container-id-2 div.sk-toggleable__content.fitted {\n",
       "  /* fitted */\n",
       "  background-color: var(--sklearn-color-fitted-level-0);\n",
       "}\n",
       "\n",
       "#sk-container-id-2 div.sk-toggleable__content pre {\n",
       "  margin: 0.2em;\n",
       "  border-radius: 0.25em;\n",
       "  color: var(--sklearn-color-text);\n",
       "  /* unfitted */\n",
       "  background-color: var(--sklearn-color-unfitted-level-0);\n",
       "}\n",
       "\n",
       "#sk-container-id-2 div.sk-toggleable__content.fitted pre {\n",
       "  /* unfitted */\n",
       "  background-color: var(--sklearn-color-fitted-level-0);\n",
       "}\n",
       "\n",
       "#sk-container-id-2 input.sk-toggleable__control:checked~div.sk-toggleable__content {\n",
       "  /* Expand drop-down */\n",
       "  max-height: 200px;\n",
       "  max-width: 100%;\n",
       "  overflow: auto;\n",
       "}\n",
       "\n",
       "#sk-container-id-2 input.sk-toggleable__control:checked~label.sk-toggleable__label-arrow:before {\n",
       "  content: \"▾\";\n",
       "}\n",
       "\n",
       "/* Pipeline/ColumnTransformer-specific style */\n",
       "\n",
       "#sk-container-id-2 div.sk-label input.sk-toggleable__control:checked~label.sk-toggleable__label {\n",
       "  color: var(--sklearn-color-text);\n",
       "  background-color: var(--sklearn-color-unfitted-level-2);\n",
       "}\n",
       "\n",
       "#sk-container-id-2 div.sk-label.fitted input.sk-toggleable__control:checked~label.sk-toggleable__label {\n",
       "  background-color: var(--sklearn-color-fitted-level-2);\n",
       "}\n",
       "\n",
       "/* Estimator-specific style */\n",
       "\n",
       "/* Colorize estimator box */\n",
       "#sk-container-id-2 div.sk-estimator input.sk-toggleable__control:checked~label.sk-toggleable__label {\n",
       "  /* unfitted */\n",
       "  background-color: var(--sklearn-color-unfitted-level-2);\n",
       "}\n",
       "\n",
       "#sk-container-id-2 div.sk-estimator.fitted input.sk-toggleable__control:checked~label.sk-toggleable__label {\n",
       "  /* fitted */\n",
       "  background-color: var(--sklearn-color-fitted-level-2);\n",
       "}\n",
       "\n",
       "#sk-container-id-2 div.sk-label label.sk-toggleable__label,\n",
       "#sk-container-id-2 div.sk-label label {\n",
       "  /* The background is the default theme color */\n",
       "  color: var(--sklearn-color-text-on-default-background);\n",
       "}\n",
       "\n",
       "/* On hover, darken the color of the background */\n",
       "#sk-container-id-2 div.sk-label:hover label.sk-toggleable__label {\n",
       "  color: var(--sklearn-color-text);\n",
       "  background-color: var(--sklearn-color-unfitted-level-2);\n",
       "}\n",
       "\n",
       "/* Label box, darken color on hover, fitted */\n",
       "#sk-container-id-2 div.sk-label.fitted:hover label.sk-toggleable__label.fitted {\n",
       "  color: var(--sklearn-color-text);\n",
       "  background-color: var(--sklearn-color-fitted-level-2);\n",
       "}\n",
       "\n",
       "/* Estimator label */\n",
       "\n",
       "#sk-container-id-2 div.sk-label label {\n",
       "  font-family: monospace;\n",
       "  font-weight: bold;\n",
       "  display: inline-block;\n",
       "  line-height: 1.2em;\n",
       "}\n",
       "\n",
       "#sk-container-id-2 div.sk-label-container {\n",
       "  text-align: center;\n",
       "}\n",
       "\n",
       "/* Estimator-specific */\n",
       "#sk-container-id-2 div.sk-estimator {\n",
       "  font-family: monospace;\n",
       "  border: 1px dotted var(--sklearn-color-border-box);\n",
       "  border-radius: 0.25em;\n",
       "  box-sizing: border-box;\n",
       "  margin-bottom: 0.5em;\n",
       "  /* unfitted */\n",
       "  background-color: var(--sklearn-color-unfitted-level-0);\n",
       "}\n",
       "\n",
       "#sk-container-id-2 div.sk-estimator.fitted {\n",
       "  /* fitted */\n",
       "  background-color: var(--sklearn-color-fitted-level-0);\n",
       "}\n",
       "\n",
       "/* on hover */\n",
       "#sk-container-id-2 div.sk-estimator:hover {\n",
       "  /* unfitted */\n",
       "  background-color: var(--sklearn-color-unfitted-level-2);\n",
       "}\n",
       "\n",
       "#sk-container-id-2 div.sk-estimator.fitted:hover {\n",
       "  /* fitted */\n",
       "  background-color: var(--sklearn-color-fitted-level-2);\n",
       "}\n",
       "\n",
       "/* Specification for estimator info (e.g. \"i\" and \"?\") */\n",
       "\n",
       "/* Common style for \"i\" and \"?\" */\n",
       "\n",
       ".sk-estimator-doc-link,\n",
       "a:link.sk-estimator-doc-link,\n",
       "a:visited.sk-estimator-doc-link {\n",
       "  float: right;\n",
       "  font-size: smaller;\n",
       "  line-height: 1em;\n",
       "  font-family: monospace;\n",
       "  background-color: var(--sklearn-color-background);\n",
       "  border-radius: 1em;\n",
       "  height: 1em;\n",
       "  width: 1em;\n",
       "  text-decoration: none !important;\n",
       "  margin-left: 1ex;\n",
       "  /* unfitted */\n",
       "  border: var(--sklearn-color-unfitted-level-1) 1pt solid;\n",
       "  color: var(--sklearn-color-unfitted-level-1);\n",
       "}\n",
       "\n",
       ".sk-estimator-doc-link.fitted,\n",
       "a:link.sk-estimator-doc-link.fitted,\n",
       "a:visited.sk-estimator-doc-link.fitted {\n",
       "  /* fitted */\n",
       "  border: var(--sklearn-color-fitted-level-1) 1pt solid;\n",
       "  color: var(--sklearn-color-fitted-level-1);\n",
       "}\n",
       "\n",
       "/* On hover */\n",
       "div.sk-estimator:hover .sk-estimator-doc-link:hover,\n",
       ".sk-estimator-doc-link:hover,\n",
       "div.sk-label-container:hover .sk-estimator-doc-link:hover,\n",
       ".sk-estimator-doc-link:hover {\n",
       "  /* unfitted */\n",
       "  background-color: var(--sklearn-color-unfitted-level-3);\n",
       "  color: var(--sklearn-color-background);\n",
       "  text-decoration: none;\n",
       "}\n",
       "\n",
       "div.sk-estimator.fitted:hover .sk-estimator-doc-link.fitted:hover,\n",
       ".sk-estimator-doc-link.fitted:hover,\n",
       "div.sk-label-container:hover .sk-estimator-doc-link.fitted:hover,\n",
       ".sk-estimator-doc-link.fitted:hover {\n",
       "  /* fitted */\n",
       "  background-color: var(--sklearn-color-fitted-level-3);\n",
       "  color: var(--sklearn-color-background);\n",
       "  text-decoration: none;\n",
       "}\n",
       "\n",
       "/* Span, style for the box shown on hovering the info icon */\n",
       ".sk-estimator-doc-link span {\n",
       "  display: none;\n",
       "  z-index: 9999;\n",
       "  position: relative;\n",
       "  font-weight: normal;\n",
       "  right: .2ex;\n",
       "  padding: .5ex;\n",
       "  margin: .5ex;\n",
       "  width: min-content;\n",
       "  min-width: 20ex;\n",
       "  max-width: 50ex;\n",
       "  color: var(--sklearn-color-text);\n",
       "  box-shadow: 2pt 2pt 4pt #999;\n",
       "  /* unfitted */\n",
       "  background: var(--sklearn-color-unfitted-level-0);\n",
       "  border: .5pt solid var(--sklearn-color-unfitted-level-3);\n",
       "}\n",
       "\n",
       ".sk-estimator-doc-link.fitted span {\n",
       "  /* fitted */\n",
       "  background: var(--sklearn-color-fitted-level-0);\n",
       "  border: var(--sklearn-color-fitted-level-3);\n",
       "}\n",
       "\n",
       ".sk-estimator-doc-link:hover span {\n",
       "  display: block;\n",
       "}\n",
       "\n",
       "/* \"?\"-specific style due to the `<a>` HTML tag */\n",
       "\n",
       "#sk-container-id-2 a.estimator_doc_link {\n",
       "  float: right;\n",
       "  font-size: 1rem;\n",
       "  line-height: 1em;\n",
       "  font-family: monospace;\n",
       "  background-color: var(--sklearn-color-background);\n",
       "  border-radius: 1rem;\n",
       "  height: 1rem;\n",
       "  width: 1rem;\n",
       "  text-decoration: none;\n",
       "  /* unfitted */\n",
       "  color: var(--sklearn-color-unfitted-level-1);\n",
       "  border: var(--sklearn-color-unfitted-level-1) 1pt solid;\n",
       "}\n",
       "\n",
       "#sk-container-id-2 a.estimator_doc_link.fitted {\n",
       "  /* fitted */\n",
       "  border: var(--sklearn-color-fitted-level-1) 1pt solid;\n",
       "  color: var(--sklearn-color-fitted-level-1);\n",
       "}\n",
       "\n",
       "/* On hover */\n",
       "#sk-container-id-2 a.estimator_doc_link:hover {\n",
       "  /* unfitted */\n",
       "  background-color: var(--sklearn-color-unfitted-level-3);\n",
       "  color: var(--sklearn-color-background);\n",
       "  text-decoration: none;\n",
       "}\n",
       "\n",
       "#sk-container-id-2 a.estimator_doc_link.fitted:hover {\n",
       "  /* fitted */\n",
       "  background-color: var(--sklearn-color-fitted-level-3);\n",
       "}\n",
       "</style><div id=\"sk-container-id-2\" class=\"sk-top-container\"><div class=\"sk-text-repr-fallback\"><pre>GridSearchCV(cv=5, estimator=SVC(), n_jobs=-1,\n",
       "             param_grid={&#x27;C&#x27;: [20, 25], &#x27;gamma&#x27;: [0.1],\n",
       "                         &#x27;kernel&#x27;: [&#x27;linear&#x27;, &#x27;rbf&#x27;]},\n",
       "             scoring=&#x27;f1_macro&#x27;, verbose=1)</pre><b>In a Jupyter environment, please rerun this cell to show the HTML representation or trust the notebook. <br />On GitHub, the HTML representation is unable to render, please try loading this page with nbviewer.org.</b></div><div class=\"sk-container\" hidden><div class=\"sk-item sk-dashed-wrapped\"><div class=\"sk-label-container\"><div class=\"sk-label fitted sk-toggleable\"><input class=\"sk-toggleable__control sk-hidden--visually\" id=\"sk-estimator-id-4\" type=\"checkbox\" ><label for=\"sk-estimator-id-4\" class=\"sk-toggleable__label fitted sk-toggleable__label-arrow fitted\">&nbsp;&nbsp;GridSearchCV<a class=\"sk-estimator-doc-link fitted\" rel=\"noreferrer\" target=\"_blank\" href=\"https://scikit-learn.org/1.5/modules/generated/sklearn.model_selection.GridSearchCV.html\">?<span>Documentation for GridSearchCV</span></a><span class=\"sk-estimator-doc-link fitted\">i<span>Fitted</span></span></label><div class=\"sk-toggleable__content fitted\"><pre>GridSearchCV(cv=5, estimator=SVC(), n_jobs=-1,\n",
       "             param_grid={&#x27;C&#x27;: [20, 25], &#x27;gamma&#x27;: [0.1],\n",
       "                         &#x27;kernel&#x27;: [&#x27;linear&#x27;, &#x27;rbf&#x27;]},\n",
       "             scoring=&#x27;f1_macro&#x27;, verbose=1)</pre></div> </div></div><div class=\"sk-parallel\"><div class=\"sk-parallel-item\"><div class=\"sk-item\"><div class=\"sk-label-container\"><div class=\"sk-label fitted sk-toggleable\"><input class=\"sk-toggleable__control sk-hidden--visually\" id=\"sk-estimator-id-5\" type=\"checkbox\" ><label for=\"sk-estimator-id-5\" class=\"sk-toggleable__label fitted sk-toggleable__label-arrow fitted\">best_estimator_: SVC</label><div class=\"sk-toggleable__content fitted\"><pre>SVC(C=20, gamma=0.1)</pre></div> </div></div><div class=\"sk-serial\"><div class=\"sk-item\"><div class=\"sk-estimator fitted sk-toggleable\"><input class=\"sk-toggleable__control sk-hidden--visually\" id=\"sk-estimator-id-6\" type=\"checkbox\" ><label for=\"sk-estimator-id-6\" class=\"sk-toggleable__label fitted sk-toggleable__label-arrow fitted\">&nbsp;SVC<a class=\"sk-estimator-doc-link fitted\" rel=\"noreferrer\" target=\"_blank\" href=\"https://scikit-learn.org/1.5/modules/generated/sklearn.svm.SVC.html\">?<span>Documentation for SVC</span></a></label><div class=\"sk-toggleable__content fitted\"><pre>SVC(C=20, gamma=0.1)</pre></div> </div></div></div></div></div></div></div></div></div>"
      ],
      "text/plain": [
       "GridSearchCV(cv=5, estimator=SVC(), n_jobs=-1,\n",
       "             param_grid={'C': [20, 25], 'gamma': [0.1],\n",
       "                         'kernel': ['linear', 'rbf']},\n",
       "             scoring='f1_macro', verbose=1)"
      ]
     },
     "execution_count": 64,
     "metadata": {},
     "output_type": "execute_result"
    }
   ],
   "source": [
    "# Fit the model on the training data\n",
    "grid_search.fit(X_train_scaled, y_train)"
   ]
  },
  {
   "cell_type": "code",
   "execution_count": 65,
   "metadata": {},
   "outputs": [
    {
     "data": {
      "text/plain": [
       "{'C': 20, 'gamma': 0.1, 'kernel': 'rbf'}"
      ]
     },
     "execution_count": 65,
     "metadata": {},
     "output_type": "execute_result"
    }
   ],
   "source": [
    "grid_search.best_params_"
   ]
  },
  {
   "cell_type": "code",
   "execution_count": 80,
   "metadata": {},
   "outputs": [],
   "source": [
    "model = grid_search.best_estimator_"
   ]
  },
  {
   "cell_type": "markdown",
   "metadata": {},
   "source": [
    "## Test the Model"
   ]
  },
  {
   "cell_type": "code",
   "execution_count": 67,
   "metadata": {},
   "outputs": [],
   "source": [
    "# Predict and evaluate the model\n",
    "y_pred = model.predict(X_test_scaled)"
   ]
  },
  {
   "cell_type": "markdown",
   "metadata": {},
   "source": [
    "## Evaluating the Model "
   ]
  },
  {
   "cell_type": "code",
   "execution_count": 68,
   "metadata": {},
   "outputs": [
    {
     "data": {
      "text/plain": [
       "47.9"
      ]
     },
     "execution_count": 68,
     "metadata": {},
     "output_type": "execute_result"
    }
   ],
   "source": [
    "# our benchmark model\n",
    "base_model = round(df['current_value_bi'].value_counts()[1]/df.shape[0]*100, 2)\n",
    "base_model"
   ]
  },
  {
   "cell_type": "markdown",
   "metadata": {},
   "source": [
    "1. Accuracy"
   ]
  },
  {
   "cell_type": "code",
   "execution_count": 69,
   "metadata": {},
   "outputs": [
    {
     "data": {
      "text/plain": [
       "0.887132395675927"
      ]
     },
     "execution_count": 69,
     "metadata": {},
     "output_type": "execute_result"
    }
   ],
   "source": [
    "y_pred_train = model.predict(X_train_scaled)\n",
    "accuracy = accuracy_score(y_train, y_pred_train)\n",
    "accuracy"
   ]
  },
  {
   "cell_type": "code",
   "execution_count": 70,
   "metadata": {},
   "outputs": [
    {
     "data": {
      "text/plain": [
       "0.8684332868433287"
      ]
     },
     "execution_count": 70,
     "metadata": {},
     "output_type": "execute_result"
    }
   ],
   "source": [
    "# Evaluate the model\n",
    "accuracy = accuracy_score(y_test, y_pred)\n",
    "accuracy"
   ]
  },
  {
   "cell_type": "code",
   "execution_count": 50,
   "metadata": {},
   "outputs": [
    {
     "name": "stdout",
     "output_type": "stream",
     "text": [
      "              precision    recall  f1-score   support\n",
      "\n",
      "           0       0.87      0.88      0.88      1130\n",
      "           1       0.87      0.85      0.86      1021\n",
      "\n",
      "    accuracy                           0.87      2151\n",
      "   macro avg       0.87      0.87      0.87      2151\n",
      "weighted avg       0.87      0.87      0.87      2151\n",
      "\n"
     ]
    }
   ],
   "source": [
    "from sklearn.metrics import classification_report\n",
    "report = classification_report(y_test, y_pred)\n",
    "print(report)\n",
    "\n",
    "\n"
   ]
  },
  {
   "cell_type": "code",
   "execution_count": 51,
   "metadata": {},
   "outputs": [
    {
     "data": {
      "image/png": "[encoded data removed]",
      "text/plain": [
       "<Figure size 640x480 with 2 Axes>"
      ]
     },
     "metadata": {},
     "output_type": "display_data"
    }
   ],
   "source": [
    "from sklearn.metrics import confusion_matrix, ConfusionMatrixDisplay\n",
    "\n",
    "ConfusionMatrixDisplay.from_predictions(y_test, y_pred,\n",
    "                                        display_labels=model.classes_,\n",
    "                                        cmap=\"Blues\",\n",
    "                                        xticks_rotation='vertical')\n",
    "plt.title('Confusion Matrix')\n",
    "plt.show()"
   ]
  },
  {
   "cell_type": "code",
   "execution_count": 56,
   "metadata": {},
   "outputs": [],
   "source": [
    "#Since I have an acceptable model, I don't need to use any more techniques."
   ]
  },
  {
   "cell_type": "code",
   "execution_count": 73,
   "metadata": {},
   "outputs": [],
   "source": [
    "import numpy as np\n",
    "import matplotlib.pyplot as plt\n",
    "from sklearn import datasets\n",
    "from sklearn.svm import SVC\n",
    "\n",
    "\n",
    "C = 20  \n",
    "svc = SVC(kernel='rbf', C=C)\n",
    "svc.fit(X_train_scaled, y_train)\n",
    "\n",
    "\n",
    "# Create a mesh grid for plotting\n",
    "x_min, x_max = X_train_scaled[:, 0].min() - 1, X_train_scaled[:, 0].max() + 1\n",
    "y_min, y_max = X_train_scaled[:, 1].min() - 1, X_train_scaled[:, 1].max() + 1\n",
    "\n",
    "xx, yy = np.meshgrid(np.arange(x_min, x_max, 0.01),\n",
    "                     np.arange(y_min, y_max, 0.01))\n",
    "\n",
    "# Predict the class for each point in the mesh grid\n",
    "Z = svc.predict(np.c_[xx.ravel(), yy.ravel()])\n",
    "Z = Z.reshape(xx.shape)\n",
    "\n",
    "# Plotting the decision boundary and margins\n",
    "plt.contourf(xx, yy, Z, alpha=0.8)\n",
    "plt.scatter(X_train_scaled[:, 0], X_train_scaled[:, 1], c=y_train, edgecolors='k', marker='o')\n",
    "plt.xlabel('Feature 1')\n",
    "plt.ylabel('Feature 2')\n",
    "plt.title('SVM Decision Boundary with RBF Kernel')\n",
    "plt.show()\n"
   ]
  },
  {
   "cell_type": "code",
   "execution_count": null,
   "metadata": {},
   "outputs": [],
   "source": []
  }
 ],
 "metadata": {
  "kernelspec": {
   "display_name": "Python 3",
   "language": "python",
   "name": "python3"
  },
  "language_info": {
   "codemirror_mode": {
    "name": "ipython",
    "version": 3
   },
   "file_extension": ".py",
   "mimetype": "text/x-python",
   "name": "python",
   "nbconvert_exporter": "python",
   "pygments_lexer": "ipython3",
   "version": "3.12.4"
  }
 },
 "nbformat": 4,
 "nbformat_minor": 4
}
